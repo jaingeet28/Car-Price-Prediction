{
 "cells": [
  {
   "cell_type": "code",
   "execution_count": 566,
   "id": "9dad311e",
   "metadata": {},
   "outputs": [],
   "source": [
    "import numpy as np\n",
    "import pandas as pd\n",
    "import matplotlib.pyplot as plt\n",
    "import seaborn as sns"
   ]
  },
  {
   "cell_type": "code",
   "execution_count": 567,
   "id": "251b5f70",
   "metadata": {},
   "outputs": [
    {
     "data": {
      "text/html": [
       "<div>\n",
       "<style scoped>\n",
       "    .dataframe tbody tr th:only-of-type {\n",
       "        vertical-align: middle;\n",
       "    }\n",
       "\n",
       "    .dataframe tbody tr th {\n",
       "        vertical-align: top;\n",
       "    }\n",
       "\n",
       "    .dataframe thead th {\n",
       "        text-align: right;\n",
       "    }\n",
       "</style>\n",
       "<table border=\"1\" class=\"dataframe\">\n",
       "  <thead>\n",
       "    <tr style=\"text-align: right;\">\n",
       "      <th></th>\n",
       "      <th>Name</th>\n",
       "      <th>Location</th>\n",
       "      <th>Year</th>\n",
       "      <th>Kilometers_Driven</th>\n",
       "      <th>Fuel_Type</th>\n",
       "      <th>Transmission</th>\n",
       "      <th>Owner_Type</th>\n",
       "      <th>Mileage</th>\n",
       "      <th>Engine</th>\n",
       "      <th>Power</th>\n",
       "      <th>Seats</th>\n",
       "      <th>New_Price</th>\n",
       "      <th>Price</th>\n",
       "    </tr>\n",
       "  </thead>\n",
       "  <tbody>\n",
       "    <tr>\n",
       "      <th>0</th>\n",
       "      <td>Maruti 800 Std BSIII</td>\n",
       "      <td>Bangalore</td>\n",
       "      <td>2012</td>\n",
       "      <td>33715</td>\n",
       "      <td>Diesel</td>\n",
       "      <td>Manual</td>\n",
       "      <td>First</td>\n",
       "      <td>16.46 kmpl</td>\n",
       "      <td>1248 CC</td>\n",
       "      <td>100 bhp</td>\n",
       "      <td>5.0</td>\n",
       "      <td>43.65 Lakh</td>\n",
       "      <td>25.53</td>\n",
       "    </tr>\n",
       "    <tr>\n",
       "      <th>1</th>\n",
       "      <td>Honda City 1.5 V AT</td>\n",
       "      <td>Delhi</td>\n",
       "      <td>2013</td>\n",
       "      <td>73977</td>\n",
       "      <td>Diesel</td>\n",
       "      <td>Manual</td>\n",
       "      <td>First</td>\n",
       "      <td>18.6 kmpl</td>\n",
       "      <td>2993 CC</td>\n",
       "      <td>61 bhp</td>\n",
       "      <td>4.0</td>\n",
       "      <td>NaN</td>\n",
       "      <td>4.58</td>\n",
       "    </tr>\n",
       "    <tr>\n",
       "      <th>2</th>\n",
       "      <td>Honda CR-V RVi MT</td>\n",
       "      <td>Delhi</td>\n",
       "      <td>2007</td>\n",
       "      <td>16460</td>\n",
       "      <td>CNG</td>\n",
       "      <td>Manual</td>\n",
       "      <td>Third</td>\n",
       "      <td>15.3 kmpl</td>\n",
       "      <td>1599 CC</td>\n",
       "      <td>140 bhp</td>\n",
       "      <td>5.0</td>\n",
       "      <td>NaN</td>\n",
       "      <td>2.37</td>\n",
       "    </tr>\n",
       "    <tr>\n",
       "      <th>3</th>\n",
       "      <td>Skoda Yeti Ambition 4X2</td>\n",
       "      <td>Kolkata</td>\n",
       "      <td>2009</td>\n",
       "      <td>35048</td>\n",
       "      <td>Petrol</td>\n",
       "      <td>Manual</td>\n",
       "      <td>First</td>\n",
       "      <td>25.47 kmpl</td>\n",
       "      <td>1196 CC</td>\n",
       "      <td>86.8 bhp</td>\n",
       "      <td>5.0</td>\n",
       "      <td>NaN</td>\n",
       "      <td>1.20</td>\n",
       "    </tr>\n",
       "    <tr>\n",
       "      <th>4</th>\n",
       "      <td>Hyundai i10 Magna LPG</td>\n",
       "      <td>Coimbatore</td>\n",
       "      <td>2013</td>\n",
       "      <td>41656</td>\n",
       "      <td>Petrol</td>\n",
       "      <td>Automatic</td>\n",
       "      <td>First</td>\n",
       "      <td>19.12 kmpl</td>\n",
       "      <td>1999 CC</td>\n",
       "      <td>115 bhp</td>\n",
       "      <td>7.0</td>\n",
       "      <td>13.26 Lakh</td>\n",
       "      <td>33.04</td>\n",
       "    </tr>\n",
       "  </tbody>\n",
       "</table>\n",
       "</div>"
      ],
      "text/plain": [
       "                      Name    Location  Year  Kilometers_Driven Fuel_Type  \\\n",
       "0     Maruti 800 Std BSIII   Bangalore  2012              33715    Diesel   \n",
       "1      Honda City 1.5 V AT       Delhi  2013              73977    Diesel   \n",
       "2        Honda CR-V RVi MT       Delhi  2007              16460       CNG   \n",
       "3  Skoda Yeti Ambition 4X2     Kolkata  2009              35048    Petrol   \n",
       "4    Hyundai i10 Magna LPG  Coimbatore  2013              41656    Petrol   \n",
       "\n",
       "  Transmission Owner_Type     Mileage   Engine     Power  Seats   New_Price  \\\n",
       "0       Manual      First  16.46 kmpl  1248 CC   100 bhp    5.0  43.65 Lakh   \n",
       "1       Manual      First   18.6 kmpl  2993 CC    61 bhp    4.0         NaN   \n",
       "2       Manual      Third   15.3 kmpl  1599 CC   140 bhp    5.0         NaN   \n",
       "3       Manual      First  25.47 kmpl  1196 CC  86.8 bhp    5.0         NaN   \n",
       "4    Automatic      First  19.12 kmpl  1999 CC   115 bhp    7.0  13.26 Lakh   \n",
       "\n",
       "   Price  \n",
       "0  25.53  \n",
       "1   4.58  \n",
       "2   2.37  \n",
       "3   1.20  \n",
       "4  33.04  "
      ]
     },
     "execution_count": 567,
     "metadata": {},
     "output_type": "execute_result"
    }
   ],
   "source": [
    "#let us first load the train dataset with the name df\n",
    "df=pd.read_csv('Train_cars.csv')\n",
    "df.head()"
   ]
  },
  {
   "cell_type": "code",
   "execution_count": 568,
   "id": "ee616ef0",
   "metadata": {},
   "outputs": [
    {
     "data": {
      "text/html": [
       "<div>\n",
       "<style scoped>\n",
       "    .dataframe tbody tr th:only-of-type {\n",
       "        vertical-align: middle;\n",
       "    }\n",
       "\n",
       "    .dataframe tbody tr th {\n",
       "        vertical-align: top;\n",
       "    }\n",
       "\n",
       "    .dataframe thead th {\n",
       "        text-align: right;\n",
       "    }\n",
       "</style>\n",
       "<table border=\"1\" class=\"dataframe\">\n",
       "  <thead>\n",
       "    <tr style=\"text-align: right;\">\n",
       "      <th></th>\n",
       "      <th>Name</th>\n",
       "      <th>Location</th>\n",
       "      <th>Year</th>\n",
       "      <th>Kilometers_Driven</th>\n",
       "      <th>Fuel_Type</th>\n",
       "      <th>Transmission</th>\n",
       "      <th>Owner_Type</th>\n",
       "      <th>Mileage</th>\n",
       "      <th>Engine</th>\n",
       "      <th>Power</th>\n",
       "      <th>Seats</th>\n",
       "      <th>New_Price</th>\n",
       "    </tr>\n",
       "  </thead>\n",
       "  <tbody>\n",
       "    <tr>\n",
       "      <th>0</th>\n",
       "      <td>Ford Figo Diesel Titanium</td>\n",
       "      <td>Delhi</td>\n",
       "      <td>2010</td>\n",
       "      <td>48928</td>\n",
       "      <td>Diesel</td>\n",
       "      <td>Automatic</td>\n",
       "      <td>First</td>\n",
       "      <td>17.8 kmpl</td>\n",
       "      <td>1248 CC</td>\n",
       "      <td>258 bhp</td>\n",
       "      <td>7.0</td>\n",
       "      <td>NaN</td>\n",
       "    </tr>\n",
       "    <tr>\n",
       "      <th>1</th>\n",
       "      <td>Maruti SX4 VDI</td>\n",
       "      <td>Jaipur</td>\n",
       "      <td>2011</td>\n",
       "      <td>47428</td>\n",
       "      <td>Diesel</td>\n",
       "      <td>Automatic</td>\n",
       "      <td>First</td>\n",
       "      <td>23.9 kmpl</td>\n",
       "      <td>2498 CC</td>\n",
       "      <td>183 bhp</td>\n",
       "      <td>5.0</td>\n",
       "      <td>4.33 Lakh</td>\n",
       "    </tr>\n",
       "    <tr>\n",
       "      <th>2</th>\n",
       "      <td>Hyundai Creta 1.6 SX Option</td>\n",
       "      <td>Bangalore</td>\n",
       "      <td>2014</td>\n",
       "      <td>28984</td>\n",
       "      <td>Petrol</td>\n",
       "      <td>Automatic</td>\n",
       "      <td>First</td>\n",
       "      <td>19.59 kmpl</td>\n",
       "      <td>2494 CC</td>\n",
       "      <td>203 bhp</td>\n",
       "      <td>5.0</td>\n",
       "      <td>71.15 Lakh</td>\n",
       "    </tr>\n",
       "    <tr>\n",
       "      <th>3</th>\n",
       "      <td>Jeep Compass 2.0 Limited 4X4</td>\n",
       "      <td>Kochi</td>\n",
       "      <td>2017</td>\n",
       "      <td>46735</td>\n",
       "      <td>Petrol</td>\n",
       "      <td>Manual</td>\n",
       "      <td>First</td>\n",
       "      <td>23.9 kmpl</td>\n",
       "      <td>1498 CC</td>\n",
       "      <td>215 bhp</td>\n",
       "      <td>5.0</td>\n",
       "      <td>NaN</td>\n",
       "    </tr>\n",
       "    <tr>\n",
       "      <th>4</th>\n",
       "      <td>Maruti Swift Dzire VDI</td>\n",
       "      <td>Kochi</td>\n",
       "      <td>2015</td>\n",
       "      <td>19975</td>\n",
       "      <td>Petrol</td>\n",
       "      <td>Automatic</td>\n",
       "      <td>First</td>\n",
       "      <td>26.6 km/kg</td>\n",
       "      <td>2993 CC</td>\n",
       "      <td>147.8 bhp</td>\n",
       "      <td>7.0</td>\n",
       "      <td>NaN</td>\n",
       "    </tr>\n",
       "  </tbody>\n",
       "</table>\n",
       "</div>"
      ],
      "text/plain": [
       "                           Name   Location  Year  Kilometers_Driven Fuel_Type  \\\n",
       "0     Ford Figo Diesel Titanium      Delhi  2010              48928    Diesel   \n",
       "1                Maruti SX4 VDI     Jaipur  2011              47428    Diesel   \n",
       "2   Hyundai Creta 1.6 SX Option  Bangalore  2014              28984    Petrol   \n",
       "3  Jeep Compass 2.0 Limited 4X4      Kochi  2017              46735    Petrol   \n",
       "4        Maruti Swift Dzire VDI      Kochi  2015              19975    Petrol   \n",
       "\n",
       "  Transmission Owner_Type     Mileage   Engine      Power  Seats   New_Price  \n",
       "0    Automatic      First   17.8 kmpl  1248 CC    258 bhp    7.0         NaN  \n",
       "1    Automatic      First   23.9 kmpl  2498 CC    183 bhp    5.0   4.33 Lakh  \n",
       "2    Automatic      First  19.59 kmpl  2494 CC    203 bhp    5.0  71.15 Lakh  \n",
       "3       Manual      First   23.9 kmpl  1498 CC    215 bhp    5.0         NaN  \n",
       "4    Automatic      First  26.6 km/kg  2993 CC  147.8 bhp    7.0         NaN  "
      ]
     },
     "execution_count": 568,
     "metadata": {},
     "output_type": "execute_result"
    }
   ],
   "source": [
    "df_test = pd.read_csv('Test_cars.csv')\n",
    "df_test.head()\n",
    "#let us load the testing dataset with name df_test"
   ]
  },
  {
   "cell_type": "code",
   "execution_count": 569,
   "id": "e8c7b655",
   "metadata": {},
   "outputs": [
    {
     "name": "stdout",
     "output_type": "stream",
     "text": [
      "<class 'pandas.core.frame.DataFrame'>\n",
      "RangeIndex: 22500 entries, 0 to 22499\n",
      "Data columns (total 13 columns):\n",
      " #   Column             Non-Null Count  Dtype  \n",
      "---  ------             --------------  -----  \n",
      " 0   Name               22500 non-null  object \n",
      " 1   Location           22500 non-null  object \n",
      " 2   Year               22500 non-null  int64  \n",
      " 3   Kilometers_Driven  22500 non-null  int64  \n",
      " 4   Fuel_Type          22500 non-null  object \n",
      " 5   Transmission       22500 non-null  object \n",
      " 6   Owner_Type         22500 non-null  object \n",
      " 7   Mileage            22408 non-null  object \n",
      " 8   Engine             22463 non-null  object \n",
      " 9   Power              22415 non-null  object \n",
      " 10  Seats              22408 non-null  float64\n",
      " 11  New_Price          3881 non-null   object \n",
      " 12  Price              22500 non-null  float64\n",
      "dtypes: float64(2), int64(2), object(9)\n",
      "memory usage: 2.2+ MB\n",
      "None\n",
      "<class 'pandas.core.frame.DataFrame'>\n",
      "RangeIndex: 52500 entries, 0 to 52499\n",
      "Data columns (total 12 columns):\n",
      " #   Column             Non-Null Count  Dtype  \n",
      "---  ------             --------------  -----  \n",
      " 0   Name               52500 non-null  object \n",
      " 1   Location           52500 non-null  object \n",
      " 2   Year               52500 non-null  int64  \n",
      " 3   Kilometers_Driven  52500 non-null  int64  \n",
      " 4   Fuel_Type          52500 non-null  object \n",
      " 5   Transmission       52500 non-null  object \n",
      " 6   Owner_Type         52500 non-null  object \n",
      " 7   Mileage            52251 non-null  object \n",
      " 8   Engine             52431 non-null  object \n",
      " 9   Power              52268 non-null  object \n",
      " 10  Seats              52254 non-null  float64\n",
      " 11  New_Price          9185 non-null   object \n",
      "dtypes: float64(1), int64(2), object(9)\n",
      "memory usage: 4.8+ MB\n",
      "None\n"
     ]
    }
   ],
   "source": [
    "#printing the information about the both datasets\n",
    "print(df.info())\n",
    "print(df_test.info())"
   ]
  },
  {
   "cell_type": "code",
   "execution_count": 570,
   "id": "4bf512d3",
   "metadata": {},
   "outputs": [
    {
     "name": "stdout",
     "output_type": "stream",
     "text": [
      "Name                  object\n",
      "Location              object\n",
      "Year                   int64\n",
      "Kilometers_Driven      int64\n",
      "Fuel_Type             object\n",
      "Transmission          object\n",
      "Owner_Type            object\n",
      "Mileage               object\n",
      "Engine                object\n",
      "Power                 object\n",
      "Seats                float64\n",
      "New_Price             object\n",
      "Price                float64\n",
      "dtype: object\n",
      "Name                  object\n",
      "Location              object\n",
      "Year                   int64\n",
      "Kilometers_Driven      int64\n",
      "Fuel_Type             object\n",
      "Transmission          object\n",
      "Owner_Type            object\n",
      "Mileage               object\n",
      "Engine                object\n",
      "Power                 object\n",
      "Seats                float64\n",
      "New_Price             object\n",
      "dtype: object\n"
     ]
    }
   ],
   "source": [
    "#printing the data types of both the data sets\n",
    "print(df.dtypes)\n",
    "print(df_test.dtypes)"
   ]
  },
  {
   "cell_type": "code",
   "execution_count": 571,
   "id": "d4b93b45",
   "metadata": {},
   "outputs": [
    {
     "name": "stdout",
     "output_type": "stream",
     "text": [
      "Rows: 22500\n",
      "Columns: 13\n",
      "Rows of test: 52500\n",
      "Columns of test: 12\n"
     ]
    }
   ],
   "source": [
    "print('Rows:' , df.shape[0])\n",
    "print('Columns:' , df.shape[1])\n",
    "print('Rows of test:' , df_test.shape[0])\n",
    "print('Columns of test:' , df_test.shape[1])"
   ]
  },
  {
   "cell_type": "code",
   "execution_count": 572,
   "id": "7057f03c",
   "metadata": {},
   "outputs": [
    {
     "data": {
      "text/html": [
       "<div>\n",
       "<style scoped>\n",
       "    .dataframe tbody tr th:only-of-type {\n",
       "        vertical-align: middle;\n",
       "    }\n",
       "\n",
       "    .dataframe tbody tr th {\n",
       "        vertical-align: top;\n",
       "    }\n",
       "\n",
       "    .dataframe thead th {\n",
       "        text-align: right;\n",
       "    }\n",
       "</style>\n",
       "<table border=\"1\" class=\"dataframe\">\n",
       "  <thead>\n",
       "    <tr style=\"text-align: right;\">\n",
       "      <th></th>\n",
       "      <th>Year</th>\n",
       "      <th>Kilometers_Driven</th>\n",
       "      <th>Seats</th>\n",
       "      <th>Price</th>\n",
       "    </tr>\n",
       "  </thead>\n",
       "  <tbody>\n",
       "    <tr>\n",
       "      <th>count</th>\n",
       "      <td>22500.000000</td>\n",
       "      <td>22500.000000</td>\n",
       "      <td>22408.000000</td>\n",
       "      <td>22500.000000</td>\n",
       "    </tr>\n",
       "    <tr>\n",
       "      <th>mean</th>\n",
       "      <td>2011.819378</td>\n",
       "      <td>49109.527556</td>\n",
       "      <td>5.352330</td>\n",
       "      <td>6.359158</td>\n",
       "    </tr>\n",
       "    <tr>\n",
       "      <th>std</th>\n",
       "      <td>2.663807</td>\n",
       "      <td>21746.602938</td>\n",
       "      <td>0.842943</td>\n",
       "      <td>7.302764</td>\n",
       "    </tr>\n",
       "    <tr>\n",
       "      <th>min</th>\n",
       "      <td>2001.000000</td>\n",
       "      <td>171.000000</td>\n",
       "      <td>4.000000</td>\n",
       "      <td>0.440000</td>\n",
       "    </tr>\n",
       "    <tr>\n",
       "      <th>25%</th>\n",
       "      <td>2010.000000</td>\n",
       "      <td>35833.250000</td>\n",
       "      <td>5.000000</td>\n",
       "      <td>2.290000</td>\n",
       "    </tr>\n",
       "    <tr>\n",
       "      <th>50%</th>\n",
       "      <td>2012.000000</td>\n",
       "      <td>47991.000000</td>\n",
       "      <td>5.000000</td>\n",
       "      <td>3.510000</td>\n",
       "    </tr>\n",
       "    <tr>\n",
       "      <th>75%</th>\n",
       "      <td>2014.000000</td>\n",
       "      <td>59696.500000</td>\n",
       "      <td>5.000000</td>\n",
       "      <td>6.590000</td>\n",
       "    </tr>\n",
       "    <tr>\n",
       "      <th>max</th>\n",
       "      <td>2018.000000</td>\n",
       "      <td>253494.000000</td>\n",
       "      <td>8.000000</td>\n",
       "      <td>71.600000</td>\n",
       "    </tr>\n",
       "  </tbody>\n",
       "</table>\n",
       "</div>"
      ],
      "text/plain": [
       "               Year  Kilometers_Driven         Seats         Price\n",
       "count  22500.000000       22500.000000  22408.000000  22500.000000\n",
       "mean    2011.819378       49109.527556      5.352330      6.359158\n",
       "std        2.663807       21746.602938      0.842943      7.302764\n",
       "min     2001.000000         171.000000      4.000000      0.440000\n",
       "25%     2010.000000       35833.250000      5.000000      2.290000\n",
       "50%     2012.000000       47991.000000      5.000000      3.510000\n",
       "75%     2014.000000       59696.500000      5.000000      6.590000\n",
       "max     2018.000000      253494.000000      8.000000     71.600000"
      ]
     },
     "execution_count": 572,
     "metadata": {},
     "output_type": "execute_result"
    }
   ],
   "source": [
    "df.describe()"
   ]
  },
  {
   "cell_type": "code",
   "execution_count": 573,
   "id": "2f6e82a2",
   "metadata": {},
   "outputs": [
    {
     "data": {
      "text/html": [
       "<div>\n",
       "<style scoped>\n",
       "    .dataframe tbody tr th:only-of-type {\n",
       "        vertical-align: middle;\n",
       "    }\n",
       "\n",
       "    .dataframe tbody tr th {\n",
       "        vertical-align: top;\n",
       "    }\n",
       "\n",
       "    .dataframe thead th {\n",
       "        text-align: right;\n",
       "    }\n",
       "</style>\n",
       "<table border=\"1\" class=\"dataframe\">\n",
       "  <thead>\n",
       "    <tr style=\"text-align: right;\">\n",
       "      <th></th>\n",
       "      <th>Name</th>\n",
       "      <th>Location</th>\n",
       "      <th>Fuel_Type</th>\n",
       "      <th>Transmission</th>\n",
       "      <th>Owner_Type</th>\n",
       "      <th>Mileage</th>\n",
       "      <th>Engine</th>\n",
       "      <th>Power</th>\n",
       "      <th>New_Price</th>\n",
       "    </tr>\n",
       "  </thead>\n",
       "  <tbody>\n",
       "    <tr>\n",
       "      <th>count</th>\n",
       "      <td>22500</td>\n",
       "      <td>22500</td>\n",
       "      <td>22500</td>\n",
       "      <td>22500</td>\n",
       "      <td>22500</td>\n",
       "      <td>22408</td>\n",
       "      <td>22463</td>\n",
       "      <td>22415</td>\n",
       "      <td>3881</td>\n",
       "    </tr>\n",
       "    <tr>\n",
       "      <th>unique</th>\n",
       "      <td>1204</td>\n",
       "      <td>11</td>\n",
       "      <td>5</td>\n",
       "      <td>2</td>\n",
       "      <td>4</td>\n",
       "      <td>442</td>\n",
       "      <td>146</td>\n",
       "      <td>372</td>\n",
       "      <td>528</td>\n",
       "    </tr>\n",
       "    <tr>\n",
       "      <th>top</th>\n",
       "      <td>Maruti Wagon R LXI CNG</td>\n",
       "      <td>Mumbai</td>\n",
       "      <td>Petrol</td>\n",
       "      <td>Manual</td>\n",
       "      <td>First</td>\n",
       "      <td>26.6 km/kg</td>\n",
       "      <td>998 CC</td>\n",
       "      <td>58.16 bhp</td>\n",
       "      <td>8.61 Lakh</td>\n",
       "    </tr>\n",
       "    <tr>\n",
       "      <th>freq</th>\n",
       "      <td>142</td>\n",
       "      <td>4387</td>\n",
       "      <td>10155</td>\n",
       "      <td>18046</td>\n",
       "      <td>20257</td>\n",
       "      <td>1310</td>\n",
       "      <td>2293</td>\n",
       "      <td>1334</td>\n",
       "      <td>980</td>\n",
       "    </tr>\n",
       "  </tbody>\n",
       "</table>\n",
       "</div>"
      ],
      "text/plain": [
       "                          Name Location Fuel_Type Transmission Owner_Type  \\\n",
       "count                    22500    22500     22500        22500      22500   \n",
       "unique                    1204       11         5            2          4   \n",
       "top     Maruti Wagon R LXI CNG   Mumbai    Petrol       Manual      First   \n",
       "freq                       142     4387     10155        18046      20257   \n",
       "\n",
       "           Mileage  Engine      Power  New_Price  \n",
       "count        22408   22463      22415       3881  \n",
       "unique         442     146        372        528  \n",
       "top     26.6 km/kg  998 CC  58.16 bhp  8.61 Lakh  \n",
       "freq          1310    2293       1334        980  "
      ]
     },
     "execution_count": 573,
     "metadata": {},
     "output_type": "execute_result"
    }
   ],
   "source": [
    "df.describe(include=object)"
   ]
  },
  {
   "cell_type": "code",
   "execution_count": 574,
   "id": "93fa3e7f",
   "metadata": {},
   "outputs": [
    {
     "data": {
      "text/html": [
       "<div>\n",
       "<style scoped>\n",
       "    .dataframe tbody tr th:only-of-type {\n",
       "        vertical-align: middle;\n",
       "    }\n",
       "\n",
       "    .dataframe tbody tr th {\n",
       "        vertical-align: top;\n",
       "    }\n",
       "\n",
       "    .dataframe thead th {\n",
       "        text-align: right;\n",
       "    }\n",
       "</style>\n",
       "<table border=\"1\" class=\"dataframe\">\n",
       "  <thead>\n",
       "    <tr style=\"text-align: right;\">\n",
       "      <th></th>\n",
       "      <th>Year</th>\n",
       "      <th>Kilometers_Driven</th>\n",
       "      <th>Seats</th>\n",
       "    </tr>\n",
       "  </thead>\n",
       "  <tbody>\n",
       "    <tr>\n",
       "      <th>count</th>\n",
       "      <td>52500.000000</td>\n",
       "      <td>52500.000000</td>\n",
       "      <td>52254.000000</td>\n",
       "    </tr>\n",
       "    <tr>\n",
       "      <th>mean</th>\n",
       "      <td>2011.821771</td>\n",
       "      <td>48751.882171</td>\n",
       "      <td>5.357867</td>\n",
       "    </tr>\n",
       "    <tr>\n",
       "      <th>std</th>\n",
       "      <td>2.695324</td>\n",
       "      <td>21512.403003</td>\n",
       "      <td>0.849945</td>\n",
       "    </tr>\n",
       "    <tr>\n",
       "      <th>min</th>\n",
       "      <td>2000.000000</td>\n",
       "      <td>171.000000</td>\n",
       "      <td>4.000000</td>\n",
       "    </tr>\n",
       "    <tr>\n",
       "      <th>25%</th>\n",
       "      <td>2010.000000</td>\n",
       "      <td>35640.500000</td>\n",
       "      <td>5.000000</td>\n",
       "    </tr>\n",
       "    <tr>\n",
       "      <th>50%</th>\n",
       "      <td>2012.000000</td>\n",
       "      <td>47817.000000</td>\n",
       "      <td>5.000000</td>\n",
       "    </tr>\n",
       "    <tr>\n",
       "      <th>75%</th>\n",
       "      <td>2014.000000</td>\n",
       "      <td>59492.000000</td>\n",
       "      <td>5.000000</td>\n",
       "    </tr>\n",
       "    <tr>\n",
       "      <th>max</th>\n",
       "      <td>2018.000000</td>\n",
       "      <td>255022.000000</td>\n",
       "      <td>8.000000</td>\n",
       "    </tr>\n",
       "  </tbody>\n",
       "</table>\n",
       "</div>"
      ],
      "text/plain": [
       "               Year  Kilometers_Driven         Seats\n",
       "count  52500.000000       52500.000000  52254.000000\n",
       "mean    2011.821771       48751.882171      5.357867\n",
       "std        2.695324       21512.403003      0.849945\n",
       "min     2000.000000         171.000000      4.000000\n",
       "25%     2010.000000       35640.500000      5.000000\n",
       "50%     2012.000000       47817.000000      5.000000\n",
       "75%     2014.000000       59492.000000      5.000000\n",
       "max     2018.000000      255022.000000      8.000000"
      ]
     },
     "execution_count": 574,
     "metadata": {},
     "output_type": "execute_result"
    }
   ],
   "source": [
    "df_test.describe()"
   ]
  },
  {
   "cell_type": "code",
   "execution_count": 575,
   "id": "bee441ad",
   "metadata": {},
   "outputs": [
    {
     "data": {
      "text/html": [
       "<div>\n",
       "<style scoped>\n",
       "    .dataframe tbody tr th:only-of-type {\n",
       "        vertical-align: middle;\n",
       "    }\n",
       "\n",
       "    .dataframe tbody tr th {\n",
       "        vertical-align: top;\n",
       "    }\n",
       "\n",
       "    .dataframe thead th {\n",
       "        text-align: right;\n",
       "    }\n",
       "</style>\n",
       "<table border=\"1\" class=\"dataframe\">\n",
       "  <thead>\n",
       "    <tr style=\"text-align: right;\">\n",
       "      <th></th>\n",
       "      <th>Name</th>\n",
       "      <th>Location</th>\n",
       "      <th>Fuel_Type</th>\n",
       "      <th>Transmission</th>\n",
       "      <th>Owner_Type</th>\n",
       "      <th>Mileage</th>\n",
       "      <th>Engine</th>\n",
       "      <th>Power</th>\n",
       "      <th>New_Price</th>\n",
       "    </tr>\n",
       "  </thead>\n",
       "  <tbody>\n",
       "    <tr>\n",
       "      <th>count</th>\n",
       "      <td>52500</td>\n",
       "      <td>52500</td>\n",
       "      <td>52500</td>\n",
       "      <td>52500</td>\n",
       "      <td>52500</td>\n",
       "      <td>52251</td>\n",
       "      <td>52431</td>\n",
       "      <td>52268</td>\n",
       "      <td>9185</td>\n",
       "    </tr>\n",
       "    <tr>\n",
       "      <th>unique</th>\n",
       "      <td>1431</td>\n",
       "      <td>11</td>\n",
       "      <td>5</td>\n",
       "      <td>2</td>\n",
       "      <td>4</td>\n",
       "      <td>442</td>\n",
       "      <td>146</td>\n",
       "      <td>372</td>\n",
       "      <td>537</td>\n",
       "    </tr>\n",
       "    <tr>\n",
       "      <th>top</th>\n",
       "      <td>Maruti Wagon R LXI CNG</td>\n",
       "      <td>Mumbai</td>\n",
       "      <td>Diesel</td>\n",
       "      <td>Manual</td>\n",
       "      <td>First</td>\n",
       "      <td>26.6 km/kg</td>\n",
       "      <td>998 CC</td>\n",
       "      <td>58.16 bhp</td>\n",
       "      <td>8.61 Lakh</td>\n",
       "    </tr>\n",
       "    <tr>\n",
       "      <th>freq</th>\n",
       "      <td>307</td>\n",
       "      <td>10045</td>\n",
       "      <td>23563</td>\n",
       "      <td>42061</td>\n",
       "      <td>47195</td>\n",
       "      <td>2902</td>\n",
       "      <td>5105</td>\n",
       "      <td>3216</td>\n",
       "      <td>2374</td>\n",
       "    </tr>\n",
       "  </tbody>\n",
       "</table>\n",
       "</div>"
      ],
      "text/plain": [
       "                          Name Location Fuel_Type Transmission Owner_Type  \\\n",
       "count                    52500    52500     52500        52500      52500   \n",
       "unique                    1431       11         5            2          4   \n",
       "top     Maruti Wagon R LXI CNG   Mumbai    Diesel       Manual      First   \n",
       "freq                       307    10045     23563        42061      47195   \n",
       "\n",
       "           Mileage  Engine      Power  New_Price  \n",
       "count        52251   52431      52268       9185  \n",
       "unique         442     146        372        537  \n",
       "top     26.6 km/kg  998 CC  58.16 bhp  8.61 Lakh  \n",
       "freq          2902    5105       3216       2374  "
      ]
     },
     "execution_count": 575,
     "metadata": {},
     "output_type": "execute_result"
    }
   ],
   "source": [
    "df_test.describe(include=object)"
   ]
  },
  {
   "cell_type": "code",
   "execution_count": 576,
   "id": "42973f07",
   "metadata": {},
   "outputs": [
    {
     "name": "stdout",
     "output_type": "stream",
     "text": [
      "['Bangalore' 'Delhi' 'Kolkata' 'Coimbatore' 'Pune' 'Hyderabad' 'Mumbai'\n",
      " 'Kochi' 'Chennai' 'Jaipur' 'Ahmedabad']\n",
      "[2012 2013 2007 2009 2011 2010 2016 2017 2014 2015 2008 2004 2003 2006\n",
      " 2005 2018 2002 2001]\n",
      "['Diesel' 'CNG' 'Petrol' 'LPG' 'Electric']\n",
      "['Manual' 'Automatic']\n",
      "['First' 'Third' 'Second' 'Fourth & Above']\n"
     ]
    }
   ],
   "source": [
    "print(df['Location'].unique())\n",
    "print(df['Year'].unique())\n",
    "print(df['Fuel_Type'].unique())\n",
    "print(df['Transmission'].unique())\n",
    "print(df['Owner_Type'].unique())"
   ]
  },
  {
   "cell_type": "code",
   "execution_count": 577,
   "id": "60e4f191",
   "metadata": {},
   "outputs": [
    {
     "name": "stdout",
     "output_type": "stream",
     "text": [
      "['Delhi' 'Jaipur' 'Bangalore' 'Kochi' 'Kolkata' 'Pune' 'Hyderabad'\n",
      " 'Mumbai' 'Ahmedabad' 'Chennai' 'Coimbatore']\n",
      "[2010 2011 2014 2017 2015 2009 2005 2012 2007 2013 2004 2008 2001 2016\n",
      " 2003 2006 2018 2002 2000]\n",
      "['Diesel' 'Petrol' 'CNG' 'LPG' 'Electric']\n",
      "['Automatic' 'Manual']\n",
      "['First' 'Second' 'Third' 'Fourth & Above']\n"
     ]
    }
   ],
   "source": [
    "print(df_test['Location'].unique())\n",
    "print(df_test['Year'].unique())\n",
    "print(df_test['Fuel_Type'].unique())\n",
    "print(df_test['Transmission'].unique())\n",
    "print(df_test['Owner_Type'].unique())"
   ]
  },
  {
   "cell_type": "markdown",
   "id": "bc4a7b44",
   "metadata": {},
   "source": [
    "Now as we can see that Mileage , Engine and Power are object column but it should be a numeric column so now we will chnage the datatype of these column to appropriate datatypes for both training and testing datatypes"
   ]
  },
  {
   "cell_type": "code",
   "execution_count": 578,
   "id": "b4a28e5c",
   "metadata": {},
   "outputs": [
    {
     "data": {
      "text/plain": [
       "0         17.8 kmpl\n",
       "1         23.9 kmpl\n",
       "2        19.59 kmpl\n",
       "3         23.9 kmpl\n",
       "4        26.6 km/kg\n",
       "            ...    \n",
       "52495    16.09 kmpl\n",
       "52496     12.6 kmpl\n",
       "52497     22.0 kmpl\n",
       "52498    10.98 kmpl\n",
       "52499     14.0 kmpl\n",
       "Name: Mileage, Length: 52500, dtype: object"
      ]
     },
     "execution_count": 578,
     "metadata": {},
     "output_type": "execute_result"
    }
   ],
   "source": [
    "df_test['Mileage']"
   ]
  },
  {
   "cell_type": "code",
   "execution_count": 579,
   "id": "0abcc8ed",
   "metadata": {},
   "outputs": [],
   "source": [
    "df_test[['Mileage','kmpl']]=df_test['Mileage'].str.split(expand=True)"
   ]
  },
  {
   "cell_type": "code",
   "execution_count": 580,
   "id": "443e9242",
   "metadata": {},
   "outputs": [],
   "source": [
    "df_test['Mileage']=df_test['Mileage'].astype(float)"
   ]
  },
  {
   "cell_type": "code",
   "execution_count": 581,
   "id": "13edd3c6",
   "metadata": {},
   "outputs": [
    {
     "data": {
      "text/plain": [
       "0         16.46 kmpl\n",
       "1          18.6 kmpl\n",
       "2          15.3 kmpl\n",
       "3         25.47 kmpl\n",
       "4         19.12 kmpl\n",
       "            ...     \n",
       "22495      21.1 kmpl\n",
       "22496    33.44 km/kg\n",
       "22497     26.21 kmpl\n",
       "22498      17.8 kmpl\n",
       "22499     26.59 kmpl\n",
       "Name: Mileage, Length: 22500, dtype: object"
      ]
     },
     "execution_count": 581,
     "metadata": {},
     "output_type": "execute_result"
    }
   ],
   "source": [
    "df['Mileage']"
   ]
  },
  {
   "cell_type": "code",
   "execution_count": 582,
   "id": "ab8eaed0",
   "metadata": {},
   "outputs": [],
   "source": [
    "df[['Mileage','kmpl']]=df['Mileage'].str.split(expand=True)\n",
    "df['Mileage']=df['Mileage'].astype(float)"
   ]
  },
  {
   "cell_type": "code",
   "execution_count": 583,
   "id": "9c84d43b",
   "metadata": {},
   "outputs": [
    {
     "data": {
      "text/plain": [
       "0        16.46\n",
       "1        18.60\n",
       "2        15.30\n",
       "3        25.47\n",
       "4        19.12\n",
       "         ...  \n",
       "22495    21.10\n",
       "22496    33.44\n",
       "22497    26.21\n",
       "22498    17.80\n",
       "22499    26.59\n",
       "Name: Mileage, Length: 22500, dtype: float64"
      ]
     },
     "execution_count": 583,
     "metadata": {},
     "output_type": "execute_result"
    }
   ],
   "source": [
    "df['Mileage']"
   ]
  },
  {
   "cell_type": "markdown",
   "id": "5c34cf5e",
   "metadata": {},
   "source": [
    "Mileage column in both training and testing have been changed to float"
   ]
  },
  {
   "cell_type": "code",
   "execution_count": 584,
   "id": "8c244611",
   "metadata": {},
   "outputs": [
    {
     "data": {
      "text/plain": [
       "0        1248 CC\n",
       "1        2498 CC\n",
       "2        2494 CC\n",
       "3        1498 CC\n",
       "4        2993 CC\n",
       "          ...   \n",
       "52495    1248 CC\n",
       "52496    1591 CC\n",
       "52497    2993 CC\n",
       "52498    1995 CC\n",
       "52499    1798 CC\n",
       "Name: Engine, Length: 52500, dtype: object"
      ]
     },
     "execution_count": 584,
     "metadata": {},
     "output_type": "execute_result"
    }
   ],
   "source": [
    "df_test['Engine'] "
   ]
  },
  {
   "cell_type": "code",
   "execution_count": 585,
   "id": "995e7f7f",
   "metadata": {},
   "outputs": [
    {
     "data": {
      "text/plain": [
       "0        1248.0\n",
       "1        2498.0\n",
       "2        2494.0\n",
       "3        1498.0\n",
       "4        2993.0\n",
       "          ...  \n",
       "52495    1248.0\n",
       "52496    1591.0\n",
       "52497    2993.0\n",
       "52498    1995.0\n",
       "52499    1798.0\n",
       "Name: Engine, Length: 52500, dtype: float64"
      ]
     },
     "execution_count": 585,
     "metadata": {},
     "output_type": "execute_result"
    }
   ],
   "source": [
    "df_test[['Engine','CC']] = df_test['Engine'].str.split(expand =True)\n",
    "df_test['Engine']=df_test['Engine'].astype(float)\n",
    "df_test['Engine']"
   ]
  },
  {
   "cell_type": "code",
   "execution_count": 586,
   "id": "d7c357e8",
   "metadata": {},
   "outputs": [
    {
     "data": {
      "text/plain": [
       "0        1248 CC\n",
       "1        2993 CC\n",
       "2        1599 CC\n",
       "3        1196 CC\n",
       "4        1999 CC\n",
       "          ...   \n",
       "22495    1368 CC\n",
       "22496    1197 CC\n",
       "22497    1298 CC\n",
       "22498    1198 CC\n",
       "22499    1248 CC\n",
       "Name: Engine, Length: 22500, dtype: object"
      ]
     },
     "execution_count": 586,
     "metadata": {},
     "output_type": "execute_result"
    }
   ],
   "source": [
    "df['Engine']"
   ]
  },
  {
   "cell_type": "code",
   "execution_count": 587,
   "id": "8c5a0d3c",
   "metadata": {},
   "outputs": [],
   "source": [
    "df[['Engine','CC']] = df['Engine'].str.split(expand =True)\n",
    "df['Engine']=df['Engine'].astype(float)"
   ]
  },
  {
   "cell_type": "code",
   "execution_count": 588,
   "id": "c1803ded",
   "metadata": {},
   "outputs": [
    {
     "data": {
      "text/plain": [
       "0        1248.0\n",
       "1        2993.0\n",
       "2        1599.0\n",
       "3        1196.0\n",
       "4        1999.0\n",
       "          ...  \n",
       "22495    1368.0\n",
       "22496    1197.0\n",
       "22497    1298.0\n",
       "22498    1198.0\n",
       "22499    1248.0\n",
       "Name: Engine, Length: 22500, dtype: float64"
      ]
     },
     "execution_count": 588,
     "metadata": {},
     "output_type": "execute_result"
    }
   ],
   "source": [
    "df['Engine']"
   ]
  },
  {
   "cell_type": "markdown",
   "id": "084d9a41",
   "metadata": {},
   "source": [
    "Enginee column in both training and testing have been changed to float"
   ]
  },
  {
   "cell_type": "markdown",
   "id": "c74aec04",
   "metadata": {},
   "source": [
    "In train and test we have split the Power column now we will treat the values which have 'null' as one of the entries"
   ]
  },
  {
   "cell_type": "code",
   "execution_count": 589,
   "id": "430f709d",
   "metadata": {},
   "outputs": [
    {
     "data": {
      "text/plain": [
       "0          258 bhp\n",
       "1          183 bhp\n",
       "2          203 bhp\n",
       "3          215 bhp\n",
       "4        147.8 bhp\n",
       "           ...    \n",
       "52495     null bhp\n",
       "52496     85.8 bhp\n",
       "52497    174.3 bhp\n",
       "52498      112 bhp\n",
       "52499    488.1 bhp\n",
       "Name: Power, Length: 52500, dtype: object"
      ]
     },
     "execution_count": 589,
     "metadata": {},
     "output_type": "execute_result"
    }
   ],
   "source": [
    "df_test['Power']"
   ]
  },
  {
   "cell_type": "code",
   "execution_count": 590,
   "id": "7fd94d66",
   "metadata": {},
   "outputs": [],
   "source": [
    "df_test[['Power','bhp']] = df_test['Power'].str.split(expand =True)"
   ]
  },
  {
   "cell_type": "code",
   "execution_count": 591,
   "id": "95600eb0",
   "metadata": {},
   "outputs": [],
   "source": [
    "df_test['Power'].replace('null',np.NaN,inplace=True)"
   ]
  },
  {
   "cell_type": "code",
   "execution_count": 592,
   "id": "878b1143",
   "metadata": {},
   "outputs": [],
   "source": [
    "df_test['Power']=df_test['Power'].astype(float)"
   ]
  },
  {
   "cell_type": "code",
   "execution_count": 593,
   "id": "b3e4d726",
   "metadata": {},
   "outputs": [
    {
     "data": {
      "text/plain": [
       "0          100 bhp\n",
       "1           61 bhp\n",
       "2          140 bhp\n",
       "3         86.8 bhp\n",
       "4          115 bhp\n",
       "           ...    \n",
       "22495    100.6 bhp\n",
       "22496          NaN\n",
       "22497    58.16 bhp\n",
       "22498       75 bhp\n",
       "22499    201.1 bhp\n",
       "Name: Power, Length: 22500, dtype: object"
      ]
     },
     "execution_count": 593,
     "metadata": {},
     "output_type": "execute_result"
    }
   ],
   "source": [
    "df['Power']"
   ]
  },
  {
   "cell_type": "code",
   "execution_count": 594,
   "id": "defa609e",
   "metadata": {},
   "outputs": [],
   "source": [
    "df[['Power','bhp']] = df['Power'].str.split(expand =True)"
   ]
  },
  {
   "cell_type": "code",
   "execution_count": 595,
   "id": "5050dea1",
   "metadata": {},
   "outputs": [],
   "source": [
    "df['Power'].replace('null',np.NaN,inplace=True)"
   ]
  },
  {
   "cell_type": "code",
   "execution_count": 596,
   "id": "9f10a3bc",
   "metadata": {},
   "outputs": [],
   "source": [
    "df['Power']=df['Power'].astype(float)"
   ]
  },
  {
   "cell_type": "markdown",
   "id": "0ab5ddd1",
   "metadata": {},
   "source": [
    "Power column in both train and test have been converted to float"
   ]
  },
  {
   "cell_type": "code",
   "execution_count": 597,
   "id": "12c26bd5",
   "metadata": {},
   "outputs": [
    {
     "name": "stdout",
     "output_type": "stream",
     "text": [
      "Name                  object\n",
      "Location              object\n",
      "Year                   int64\n",
      "Kilometers_Driven      int64\n",
      "Fuel_Type             object\n",
      "Transmission          object\n",
      "Owner_Type            object\n",
      "Mileage              float64\n",
      "Engine               float64\n",
      "Power                float64\n",
      "Seats                float64\n",
      "New_Price             object\n",
      "Price                float64\n",
      "kmpl                  object\n",
      "CC                    object\n",
      "bhp                   object\n",
      "dtype: object\n",
      "Name                  object\n",
      "Location              object\n",
      "Year                   int64\n",
      "Kilometers_Driven      int64\n",
      "Fuel_Type             object\n",
      "Transmission          object\n",
      "Owner_Type            object\n",
      "Mileage              float64\n",
      "Engine               float64\n",
      "Power                float64\n",
      "Seats                float64\n",
      "New_Price             object\n",
      "kmpl                  object\n",
      "CC                    object\n",
      "bhp                   object\n",
      "dtype: object\n"
     ]
    }
   ],
   "source": [
    "print(df.dtypes) \n",
    "print(df_test.dtypes)"
   ]
  },
  {
   "cell_type": "markdown",
   "id": "d00e204c",
   "metadata": {},
   "source": [
    "Checking for null value percentage"
   ]
  },
  {
   "cell_type": "code",
   "execution_count": 598,
   "id": "75b06ef8",
   "metadata": {},
   "outputs": [
    {
     "data": {
      "text/plain": [
       "Name                  0.000000\n",
       "Location              0.000000\n",
       "Year                  0.000000\n",
       "Kilometers_Driven     0.000000\n",
       "Fuel_Type             0.000000\n",
       "Transmission          0.000000\n",
       "Owner_Type            0.000000\n",
       "Mileage               0.408889\n",
       "Engine                0.164444\n",
       "Power                 3.542222\n",
       "Seats                 0.408889\n",
       "New_Price            82.751111\n",
       "Price                 0.000000\n",
       "kmpl                  0.408889\n",
       "CC                    0.164444\n",
       "bhp                   0.377778\n",
       "dtype: float64"
      ]
     },
     "execution_count": 598,
     "metadata": {},
     "output_type": "execute_result"
    }
   ],
   "source": [
    "(df.isnull().sum()/len(df))*100"
   ]
  },
  {
   "cell_type": "markdown",
   "id": "452941d5",
   "metadata": {},
   "source": [
    "The New_Price column has 82.75% null value so we will drop this column from df dataframe"
   ]
  },
  {
   "cell_type": "code",
   "execution_count": 599,
   "id": "cf8721ea",
   "metadata": {},
   "outputs": [],
   "source": [
    "df.drop('New_Price',axis=1,inplace=True)"
   ]
  },
  {
   "cell_type": "code",
   "execution_count": 600,
   "id": "189cbd47",
   "metadata": {},
   "outputs": [
    {
     "data": {
      "text/plain": [
       "Name                  0.000000\n",
       "Location              0.000000\n",
       "Year                  0.000000\n",
       "Kilometers_Driven     0.000000\n",
       "Fuel_Type             0.000000\n",
       "Transmission          0.000000\n",
       "Owner_Type            0.000000\n",
       "Mileage               0.474286\n",
       "Engine                0.131429\n",
       "Power                 3.497143\n",
       "Seats                 0.468571\n",
       "New_Price            82.504762\n",
       "kmpl                  0.474286\n",
       "CC                    0.131429\n",
       "bhp                   0.441905\n",
       "dtype: float64"
      ]
     },
     "execution_count": 600,
     "metadata": {},
     "output_type": "execute_result"
    }
   ],
   "source": [
    "(df_test.isnull().sum()/len(df_test))*100"
   ]
  },
  {
   "cell_type": "markdown",
   "id": "94291b72",
   "metadata": {},
   "source": [
    "The New_Price column has 82.50% null value so we will drop this column from df dataframe"
   ]
  },
  {
   "cell_type": "code",
   "execution_count": 601,
   "id": "f3c14af3",
   "metadata": {},
   "outputs": [],
   "source": [
    "df_test.drop('New_Price',axis=1,inplace=True)"
   ]
  },
  {
   "cell_type": "code",
   "execution_count": 602,
   "id": "67b3f6e0",
   "metadata": {},
   "outputs": [
    {
     "data": {
      "text/html": [
       "<div>\n",
       "<style scoped>\n",
       "    .dataframe tbody tr th:only-of-type {\n",
       "        vertical-align: middle;\n",
       "    }\n",
       "\n",
       "    .dataframe tbody tr th {\n",
       "        vertical-align: top;\n",
       "    }\n",
       "\n",
       "    .dataframe thead th {\n",
       "        text-align: right;\n",
       "    }\n",
       "</style>\n",
       "<table border=\"1\" class=\"dataframe\">\n",
       "  <thead>\n",
       "    <tr style=\"text-align: right;\">\n",
       "      <th></th>\n",
       "      <th>Name</th>\n",
       "      <th>Location</th>\n",
       "      <th>Year</th>\n",
       "      <th>Kilometers_Driven</th>\n",
       "      <th>Fuel_Type</th>\n",
       "      <th>Transmission</th>\n",
       "      <th>Owner_Type</th>\n",
       "      <th>Mileage</th>\n",
       "      <th>Engine</th>\n",
       "      <th>Power</th>\n",
       "      <th>Seats</th>\n",
       "      <th>Price</th>\n",
       "      <th>kmpl</th>\n",
       "      <th>CC</th>\n",
       "      <th>bhp</th>\n",
       "    </tr>\n",
       "  </thead>\n",
       "  <tbody>\n",
       "    <tr>\n",
       "      <th>0</th>\n",
       "      <td>Maruti 800 Std BSIII</td>\n",
       "      <td>Bangalore</td>\n",
       "      <td>2012</td>\n",
       "      <td>33715</td>\n",
       "      <td>Diesel</td>\n",
       "      <td>Manual</td>\n",
       "      <td>First</td>\n",
       "      <td>16.46</td>\n",
       "      <td>1248.0</td>\n",
       "      <td>100.0</td>\n",
       "      <td>5.0</td>\n",
       "      <td>25.53</td>\n",
       "      <td>kmpl</td>\n",
       "      <td>CC</td>\n",
       "      <td>bhp</td>\n",
       "    </tr>\n",
       "    <tr>\n",
       "      <th>1</th>\n",
       "      <td>Honda City 1.5 V AT</td>\n",
       "      <td>Delhi</td>\n",
       "      <td>2013</td>\n",
       "      <td>73977</td>\n",
       "      <td>Diesel</td>\n",
       "      <td>Manual</td>\n",
       "      <td>First</td>\n",
       "      <td>18.60</td>\n",
       "      <td>2993.0</td>\n",
       "      <td>61.0</td>\n",
       "      <td>4.0</td>\n",
       "      <td>4.58</td>\n",
       "      <td>kmpl</td>\n",
       "      <td>CC</td>\n",
       "      <td>bhp</td>\n",
       "    </tr>\n",
       "  </tbody>\n",
       "</table>\n",
       "</div>"
      ],
      "text/plain": [
       "                   Name   Location  Year  Kilometers_Driven Fuel_Type  \\\n",
       "0  Maruti 800 Std BSIII  Bangalore  2012              33715    Diesel   \n",
       "1   Honda City 1.5 V AT      Delhi  2013              73977    Diesel   \n",
       "\n",
       "  Transmission Owner_Type  Mileage  Engine  Power  Seats  Price  kmpl  CC  bhp  \n",
       "0       Manual      First    16.46  1248.0  100.0    5.0  25.53  kmpl  CC  bhp  \n",
       "1       Manual      First    18.60  2993.0   61.0    4.0   4.58  kmpl  CC  bhp  "
      ]
     },
     "execution_count": 602,
     "metadata": {},
     "output_type": "execute_result"
    }
   ],
   "source": [
    "df.head(2)"
   ]
  },
  {
   "cell_type": "code",
   "execution_count": 603,
   "id": "95f76f27",
   "metadata": {},
   "outputs": [
    {
     "data": {
      "text/html": [
       "<div>\n",
       "<style scoped>\n",
       "    .dataframe tbody tr th:only-of-type {\n",
       "        vertical-align: middle;\n",
       "    }\n",
       "\n",
       "    .dataframe tbody tr th {\n",
       "        vertical-align: top;\n",
       "    }\n",
       "\n",
       "    .dataframe thead th {\n",
       "        text-align: right;\n",
       "    }\n",
       "</style>\n",
       "<table border=\"1\" class=\"dataframe\">\n",
       "  <thead>\n",
       "    <tr style=\"text-align: right;\">\n",
       "      <th></th>\n",
       "      <th>Name</th>\n",
       "      <th>Location</th>\n",
       "      <th>Year</th>\n",
       "      <th>Kilometers_Driven</th>\n",
       "      <th>Fuel_Type</th>\n",
       "      <th>Transmission</th>\n",
       "      <th>Owner_Type</th>\n",
       "      <th>Mileage</th>\n",
       "      <th>Engine</th>\n",
       "      <th>Power</th>\n",
       "      <th>Seats</th>\n",
       "      <th>kmpl</th>\n",
       "      <th>CC</th>\n",
       "      <th>bhp</th>\n",
       "    </tr>\n",
       "  </thead>\n",
       "  <tbody>\n",
       "    <tr>\n",
       "      <th>0</th>\n",
       "      <td>Ford Figo Diesel Titanium</td>\n",
       "      <td>Delhi</td>\n",
       "      <td>2010</td>\n",
       "      <td>48928</td>\n",
       "      <td>Diesel</td>\n",
       "      <td>Automatic</td>\n",
       "      <td>First</td>\n",
       "      <td>17.8</td>\n",
       "      <td>1248.0</td>\n",
       "      <td>258.0</td>\n",
       "      <td>7.0</td>\n",
       "      <td>kmpl</td>\n",
       "      <td>CC</td>\n",
       "      <td>bhp</td>\n",
       "    </tr>\n",
       "    <tr>\n",
       "      <th>1</th>\n",
       "      <td>Maruti SX4 VDI</td>\n",
       "      <td>Jaipur</td>\n",
       "      <td>2011</td>\n",
       "      <td>47428</td>\n",
       "      <td>Diesel</td>\n",
       "      <td>Automatic</td>\n",
       "      <td>First</td>\n",
       "      <td>23.9</td>\n",
       "      <td>2498.0</td>\n",
       "      <td>183.0</td>\n",
       "      <td>5.0</td>\n",
       "      <td>kmpl</td>\n",
       "      <td>CC</td>\n",
       "      <td>bhp</td>\n",
       "    </tr>\n",
       "  </tbody>\n",
       "</table>\n",
       "</div>"
      ],
      "text/plain": [
       "                        Name Location  Year  Kilometers_Driven Fuel_Type  \\\n",
       "0  Ford Figo Diesel Titanium    Delhi  2010              48928    Diesel   \n",
       "1             Maruti SX4 VDI   Jaipur  2011              47428    Diesel   \n",
       "\n",
       "  Transmission Owner_Type  Mileage  Engine  Power  Seats  kmpl  CC  bhp  \n",
       "0    Automatic      First     17.8  1248.0  258.0    7.0  kmpl  CC  bhp  \n",
       "1    Automatic      First     23.9  2498.0  183.0    5.0  kmpl  CC  bhp  "
      ]
     },
     "execution_count": 603,
     "metadata": {},
     "output_type": "execute_result"
    }
   ],
   "source": [
    "df_test.head(2)"
   ]
  },
  {
   "cell_type": "markdown",
   "id": "800fb388",
   "metadata": {},
   "source": [
    "Let us drop some more insignificant columns from both training and testing dataset, here we will drop column 'kmpl','CC','bhpm'"
   ]
  },
  {
   "cell_type": "code",
   "execution_count": 604,
   "id": "66da77be",
   "metadata": {},
   "outputs": [],
   "source": [
    "df.drop(columns=['kmpl','CC','bhp'] , axis=1 , inplace=True)\n",
    "df_test.drop(columns=['kmpl','CC','bhp'] , axis=1 , inplace=True)"
   ]
  },
  {
   "cell_type": "code",
   "execution_count": 605,
   "id": "fa4644a8",
   "metadata": {},
   "outputs": [
    {
     "data": {
      "text/html": [
       "<div>\n",
       "<style scoped>\n",
       "    .dataframe tbody tr th:only-of-type {\n",
       "        vertical-align: middle;\n",
       "    }\n",
       "\n",
       "    .dataframe tbody tr th {\n",
       "        vertical-align: top;\n",
       "    }\n",
       "\n",
       "    .dataframe thead th {\n",
       "        text-align: right;\n",
       "    }\n",
       "</style>\n",
       "<table border=\"1\" class=\"dataframe\">\n",
       "  <thead>\n",
       "    <tr style=\"text-align: right;\">\n",
       "      <th></th>\n",
       "      <th>Name</th>\n",
       "      <th>Location</th>\n",
       "      <th>Year</th>\n",
       "      <th>Kilometers_Driven</th>\n",
       "      <th>Fuel_Type</th>\n",
       "      <th>Transmission</th>\n",
       "      <th>Owner_Type</th>\n",
       "      <th>Mileage</th>\n",
       "      <th>Engine</th>\n",
       "      <th>Power</th>\n",
       "      <th>Seats</th>\n",
       "      <th>Price</th>\n",
       "    </tr>\n",
       "  </thead>\n",
       "  <tbody>\n",
       "    <tr>\n",
       "      <th>0</th>\n",
       "      <td>Maruti 800 Std BSIII</td>\n",
       "      <td>Bangalore</td>\n",
       "      <td>2012</td>\n",
       "      <td>33715</td>\n",
       "      <td>Diesel</td>\n",
       "      <td>Manual</td>\n",
       "      <td>First</td>\n",
       "      <td>16.46</td>\n",
       "      <td>1248.0</td>\n",
       "      <td>100.0</td>\n",
       "      <td>5.0</td>\n",
       "      <td>25.53</td>\n",
       "    </tr>\n",
       "    <tr>\n",
       "      <th>1</th>\n",
       "      <td>Honda City 1.5 V AT</td>\n",
       "      <td>Delhi</td>\n",
       "      <td>2013</td>\n",
       "      <td>73977</td>\n",
       "      <td>Diesel</td>\n",
       "      <td>Manual</td>\n",
       "      <td>First</td>\n",
       "      <td>18.60</td>\n",
       "      <td>2993.0</td>\n",
       "      <td>61.0</td>\n",
       "      <td>4.0</td>\n",
       "      <td>4.58</td>\n",
       "    </tr>\n",
       "  </tbody>\n",
       "</table>\n",
       "</div>"
      ],
      "text/plain": [
       "                   Name   Location  Year  Kilometers_Driven Fuel_Type  \\\n",
       "0  Maruti 800 Std BSIII  Bangalore  2012              33715    Diesel   \n",
       "1   Honda City 1.5 V AT      Delhi  2013              73977    Diesel   \n",
       "\n",
       "  Transmission Owner_Type  Mileage  Engine  Power  Seats  Price  \n",
       "0       Manual      First    16.46  1248.0  100.0    5.0  25.53  \n",
       "1       Manual      First    18.60  2993.0   61.0    4.0   4.58  "
      ]
     },
     "execution_count": 605,
     "metadata": {},
     "output_type": "execute_result"
    }
   ],
   "source": [
    "df.head(2)"
   ]
  },
  {
   "cell_type": "code",
   "execution_count": 606,
   "id": "38e5f531",
   "metadata": {},
   "outputs": [
    {
     "data": {
      "text/html": [
       "<div>\n",
       "<style scoped>\n",
       "    .dataframe tbody tr th:only-of-type {\n",
       "        vertical-align: middle;\n",
       "    }\n",
       "\n",
       "    .dataframe tbody tr th {\n",
       "        vertical-align: top;\n",
       "    }\n",
       "\n",
       "    .dataframe thead th {\n",
       "        text-align: right;\n",
       "    }\n",
       "</style>\n",
       "<table border=\"1\" class=\"dataframe\">\n",
       "  <thead>\n",
       "    <tr style=\"text-align: right;\">\n",
       "      <th></th>\n",
       "      <th>Name</th>\n",
       "      <th>Location</th>\n",
       "      <th>Year</th>\n",
       "      <th>Kilometers_Driven</th>\n",
       "      <th>Fuel_Type</th>\n",
       "      <th>Transmission</th>\n",
       "      <th>Owner_Type</th>\n",
       "      <th>Mileage</th>\n",
       "      <th>Engine</th>\n",
       "      <th>Power</th>\n",
       "      <th>Seats</th>\n",
       "    </tr>\n",
       "  </thead>\n",
       "  <tbody>\n",
       "    <tr>\n",
       "      <th>0</th>\n",
       "      <td>Ford Figo Diesel Titanium</td>\n",
       "      <td>Delhi</td>\n",
       "      <td>2010</td>\n",
       "      <td>48928</td>\n",
       "      <td>Diesel</td>\n",
       "      <td>Automatic</td>\n",
       "      <td>First</td>\n",
       "      <td>17.8</td>\n",
       "      <td>1248.0</td>\n",
       "      <td>258.0</td>\n",
       "      <td>7.0</td>\n",
       "    </tr>\n",
       "    <tr>\n",
       "      <th>1</th>\n",
       "      <td>Maruti SX4 VDI</td>\n",
       "      <td>Jaipur</td>\n",
       "      <td>2011</td>\n",
       "      <td>47428</td>\n",
       "      <td>Diesel</td>\n",
       "      <td>Automatic</td>\n",
       "      <td>First</td>\n",
       "      <td>23.9</td>\n",
       "      <td>2498.0</td>\n",
       "      <td>183.0</td>\n",
       "      <td>5.0</td>\n",
       "    </tr>\n",
       "  </tbody>\n",
       "</table>\n",
       "</div>"
      ],
      "text/plain": [
       "                        Name Location  Year  Kilometers_Driven Fuel_Type  \\\n",
       "0  Ford Figo Diesel Titanium    Delhi  2010              48928    Diesel   \n",
       "1             Maruti SX4 VDI   Jaipur  2011              47428    Diesel   \n",
       "\n",
       "  Transmission Owner_Type  Mileage  Engine  Power  Seats  \n",
       "0    Automatic      First     17.8  1248.0  258.0    7.0  \n",
       "1    Automatic      First     23.9  2498.0  183.0    5.0  "
      ]
     },
     "execution_count": 606,
     "metadata": {},
     "output_type": "execute_result"
    }
   ],
   "source": [
    "df_test.head(2)"
   ]
  },
  {
   "cell_type": "code",
   "execution_count": 607,
   "id": "fba04f5b",
   "metadata": {},
   "outputs": [
    {
     "data": {
      "text/plain": [
       "array(['Manual', 'Automatic'], dtype=object)"
      ]
     },
     "execution_count": 607,
     "metadata": {},
     "output_type": "execute_result"
    }
   ],
   "source": [
    "df['Transmission'].unique()"
   ]
  },
  {
   "cell_type": "code",
   "execution_count": 608,
   "id": "47aed1e6",
   "metadata": {},
   "outputs": [
    {
     "data": {
      "text/html": [
       "<div>\n",
       "<style scoped>\n",
       "    .dataframe tbody tr th:only-of-type {\n",
       "        vertical-align: middle;\n",
       "    }\n",
       "\n",
       "    .dataframe tbody tr th {\n",
       "        vertical-align: top;\n",
       "    }\n",
       "\n",
       "    .dataframe thead th {\n",
       "        text-align: right;\n",
       "    }\n",
       "</style>\n",
       "<table border=\"1\" class=\"dataframe\">\n",
       "  <thead>\n",
       "    <tr style=\"text-align: right;\">\n",
       "      <th></th>\n",
       "      <th>Name</th>\n",
       "      <th>Location</th>\n",
       "      <th>Year</th>\n",
       "      <th>Kilometers_Driven</th>\n",
       "      <th>Fuel_Type</th>\n",
       "      <th>Owner_Type</th>\n",
       "      <th>Mileage</th>\n",
       "      <th>Engine</th>\n",
       "      <th>Power</th>\n",
       "      <th>Seats</th>\n",
       "      <th>Price</th>\n",
       "      <th>Transmission_Manual</th>\n",
       "    </tr>\n",
       "  </thead>\n",
       "  <tbody>\n",
       "    <tr>\n",
       "      <th>0</th>\n",
       "      <td>Maruti 800 Std BSIII</td>\n",
       "      <td>Bangalore</td>\n",
       "      <td>2012</td>\n",
       "      <td>33715</td>\n",
       "      <td>Diesel</td>\n",
       "      <td>First</td>\n",
       "      <td>16.46</td>\n",
       "      <td>1248.0</td>\n",
       "      <td>100.0</td>\n",
       "      <td>5.0</td>\n",
       "      <td>25.53</td>\n",
       "      <td>1</td>\n",
       "    </tr>\n",
       "    <tr>\n",
       "      <th>1</th>\n",
       "      <td>Honda City 1.5 V AT</td>\n",
       "      <td>Delhi</td>\n",
       "      <td>2013</td>\n",
       "      <td>73977</td>\n",
       "      <td>Diesel</td>\n",
       "      <td>First</td>\n",
       "      <td>18.60</td>\n",
       "      <td>2993.0</td>\n",
       "      <td>61.0</td>\n",
       "      <td>4.0</td>\n",
       "      <td>4.58</td>\n",
       "      <td>1</td>\n",
       "    </tr>\n",
       "  </tbody>\n",
       "</table>\n",
       "</div>"
      ],
      "text/plain": [
       "                   Name   Location  Year  Kilometers_Driven Fuel_Type  \\\n",
       "0  Maruti 800 Std BSIII  Bangalore  2012              33715    Diesel   \n",
       "1   Honda City 1.5 V AT      Delhi  2013              73977    Diesel   \n",
       "\n",
       "  Owner_Type  Mileage  Engine  Power  Seats  Price  Transmission_Manual  \n",
       "0      First    16.46  1248.0  100.0    5.0  25.53                    1  \n",
       "1      First    18.60  2993.0   61.0    4.0   4.58                    1  "
      ]
     },
     "execution_count": 608,
     "metadata": {},
     "output_type": "execute_result"
    }
   ],
   "source": [
    "df= pd.get_dummies(data=df,columns=['Transmission'],drop_first=True)\n",
    "df.head(2)"
   ]
  },
  {
   "cell_type": "code",
   "execution_count": 609,
   "id": "262624b3",
   "metadata": {},
   "outputs": [
    {
     "data": {
      "text/plain": [
       "array(['First', 'Third', 'Second', 'Fourth & Above'], dtype=object)"
      ]
     },
     "execution_count": 609,
     "metadata": {},
     "output_type": "execute_result"
    }
   ],
   "source": [
    "df['Owner_Type'].unique()"
   ]
  },
  {
   "cell_type": "code",
   "execution_count": 610,
   "id": "752aba75",
   "metadata": {},
   "outputs": [
    {
     "data": {
      "text/html": [
       "<div>\n",
       "<style scoped>\n",
       "    .dataframe tbody tr th:only-of-type {\n",
       "        vertical-align: middle;\n",
       "    }\n",
       "\n",
       "    .dataframe tbody tr th {\n",
       "        vertical-align: top;\n",
       "    }\n",
       "\n",
       "    .dataframe thead th {\n",
       "        text-align: right;\n",
       "    }\n",
       "</style>\n",
       "<table border=\"1\" class=\"dataframe\">\n",
       "  <thead>\n",
       "    <tr style=\"text-align: right;\">\n",
       "      <th></th>\n",
       "      <th>Name</th>\n",
       "      <th>Location</th>\n",
       "      <th>Year</th>\n",
       "      <th>Kilometers_Driven</th>\n",
       "      <th>Fuel_Type</th>\n",
       "      <th>Owner_Type</th>\n",
       "      <th>Mileage</th>\n",
       "      <th>Engine</th>\n",
       "      <th>Power</th>\n",
       "      <th>Seats</th>\n",
       "      <th>Price</th>\n",
       "      <th>Transmission_Manual</th>\n",
       "    </tr>\n",
       "  </thead>\n",
       "  <tbody>\n",
       "    <tr>\n",
       "      <th>0</th>\n",
       "      <td>Maruti 800 Std BSIII</td>\n",
       "      <td>Bangalore</td>\n",
       "      <td>2012</td>\n",
       "      <td>33715</td>\n",
       "      <td>Diesel</td>\n",
       "      <td>1</td>\n",
       "      <td>16.46</td>\n",
       "      <td>1248.0</td>\n",
       "      <td>100.0</td>\n",
       "      <td>5.0</td>\n",
       "      <td>25.53</td>\n",
       "      <td>1</td>\n",
       "    </tr>\n",
       "    <tr>\n",
       "      <th>1</th>\n",
       "      <td>Honda City 1.5 V AT</td>\n",
       "      <td>Delhi</td>\n",
       "      <td>2013</td>\n",
       "      <td>73977</td>\n",
       "      <td>Diesel</td>\n",
       "      <td>1</td>\n",
       "      <td>18.60</td>\n",
       "      <td>2993.0</td>\n",
       "      <td>61.0</td>\n",
       "      <td>4.0</td>\n",
       "      <td>4.58</td>\n",
       "      <td>1</td>\n",
       "    </tr>\n",
       "  </tbody>\n",
       "</table>\n",
       "</div>"
      ],
      "text/plain": [
       "                   Name   Location  Year  Kilometers_Driven Fuel_Type  \\\n",
       "0  Maruti 800 Std BSIII  Bangalore  2012              33715    Diesel   \n",
       "1   Honda City 1.5 V AT      Delhi  2013              73977    Diesel   \n",
       "\n",
       "   Owner_Type  Mileage  Engine  Power  Seats  Price  Transmission_Manual  \n",
       "0           1    16.46  1248.0  100.0    5.0  25.53                    1  \n",
       "1           1    18.60  2993.0   61.0    4.0   4.58                    1  "
      ]
     },
     "execution_count": 610,
     "metadata": {},
     "output_type": "execute_result"
    }
   ],
   "source": [
    "df['Owner_Type']= df['Owner_Type'].map( {'First':1,'Third':3,'Second':2,\n",
    "           'Fourth & Above':4})\n",
    "df.head(2)"
   ]
  },
  {
   "cell_type": "code",
   "execution_count": 611,
   "id": "8fe22943",
   "metadata": {},
   "outputs": [
    {
     "data": {
      "text/plain": [
       "array(['Diesel', 'CNG', 'Petrol', 'LPG', 'Electric'], dtype=object)"
      ]
     },
     "execution_count": 611,
     "metadata": {},
     "output_type": "execute_result"
    }
   ],
   "source": [
    "df['Fuel_Type'].unique()"
   ]
  },
  {
   "cell_type": "code",
   "execution_count": 612,
   "id": "fa13f0c1",
   "metadata": {},
   "outputs": [
    {
     "data": {
      "text/html": [
       "<div>\n",
       "<style scoped>\n",
       "    .dataframe tbody tr th:only-of-type {\n",
       "        vertical-align: middle;\n",
       "    }\n",
       "\n",
       "    .dataframe tbody tr th {\n",
       "        vertical-align: top;\n",
       "    }\n",
       "\n",
       "    .dataframe thead th {\n",
       "        text-align: right;\n",
       "    }\n",
       "</style>\n",
       "<table border=\"1\" class=\"dataframe\">\n",
       "  <thead>\n",
       "    <tr style=\"text-align: right;\">\n",
       "      <th></th>\n",
       "      <th>Name</th>\n",
       "      <th>Location</th>\n",
       "      <th>Year</th>\n",
       "      <th>Kilometers_Driven</th>\n",
       "      <th>Fuel_Type</th>\n",
       "      <th>Owner_Type</th>\n",
       "      <th>Mileage</th>\n",
       "      <th>Engine</th>\n",
       "      <th>Power</th>\n",
       "      <th>Seats</th>\n",
       "      <th>Price</th>\n",
       "      <th>Transmission_Manual</th>\n",
       "    </tr>\n",
       "  </thead>\n",
       "  <tbody>\n",
       "    <tr>\n",
       "      <th>0</th>\n",
       "      <td>Maruti 800 Std BSIII</td>\n",
       "      <td>Bangalore</td>\n",
       "      <td>2012</td>\n",
       "      <td>33715</td>\n",
       "      <td>1</td>\n",
       "      <td>1</td>\n",
       "      <td>16.46</td>\n",
       "      <td>1248.0</td>\n",
       "      <td>100.0</td>\n",
       "      <td>5.0</td>\n",
       "      <td>25.53</td>\n",
       "      <td>1</td>\n",
       "    </tr>\n",
       "    <tr>\n",
       "      <th>1</th>\n",
       "      <td>Honda City 1.5 V AT</td>\n",
       "      <td>Delhi</td>\n",
       "      <td>2013</td>\n",
       "      <td>73977</td>\n",
       "      <td>1</td>\n",
       "      <td>1</td>\n",
       "      <td>18.60</td>\n",
       "      <td>2993.0</td>\n",
       "      <td>61.0</td>\n",
       "      <td>4.0</td>\n",
       "      <td>4.58</td>\n",
       "      <td>1</td>\n",
       "    </tr>\n",
       "  </tbody>\n",
       "</table>\n",
       "</div>"
      ],
      "text/plain": [
       "                   Name   Location  Year  Kilometers_Driven  Fuel_Type  \\\n",
       "0  Maruti 800 Std BSIII  Bangalore  2012              33715          1   \n",
       "1   Honda City 1.5 V AT      Delhi  2013              73977          1   \n",
       "\n",
       "   Owner_Type  Mileage  Engine  Power  Seats  Price  Transmission_Manual  \n",
       "0           1    16.46  1248.0  100.0    5.0  25.53                    1  \n",
       "1           1    18.60  2993.0   61.0    4.0   4.58                    1  "
      ]
     },
     "execution_count": 612,
     "metadata": {},
     "output_type": "execute_result"
    }
   ],
   "source": [
    "df['Fuel_Type']= df['Fuel_Type'].map( {'Diesel':1,'CNG':2,'Petrol':3,\n",
    "           'LPG':4 , 'Electric':5})\n",
    "df.head(2)"
   ]
  },
  {
   "cell_type": "code",
   "execution_count": 613,
   "id": "6b1c7b3d",
   "metadata": {},
   "outputs": [
    {
     "data": {
      "text/plain": [
       "Name                    object\n",
       "Location                object\n",
       "Year                     int64\n",
       "Kilometers_Driven        int64\n",
       "Fuel_Type                int64\n",
       "Owner_Type               int64\n",
       "Mileage                float64\n",
       "Engine                 float64\n",
       "Power                  float64\n",
       "Seats                  float64\n",
       "Price                  float64\n",
       "Transmission_Manual      uint8\n",
       "dtype: object"
      ]
     },
     "execution_count": 613,
     "metadata": {},
     "output_type": "execute_result"
    }
   ],
   "source": [
    "df.dtypes"
   ]
  },
  {
   "cell_type": "code",
   "execution_count": 614,
   "id": "c003397a",
   "metadata": {},
   "outputs": [
    {
     "data": {
      "text/plain": [
       "array(['Automatic', 'Manual'], dtype=object)"
      ]
     },
     "execution_count": 614,
     "metadata": {},
     "output_type": "execute_result"
    }
   ],
   "source": [
    "df_test['Transmission'].unique()"
   ]
  },
  {
   "cell_type": "code",
   "execution_count": 615,
   "id": "2e6625ec",
   "metadata": {},
   "outputs": [
    {
     "data": {
      "text/html": [
       "<div>\n",
       "<style scoped>\n",
       "    .dataframe tbody tr th:only-of-type {\n",
       "        vertical-align: middle;\n",
       "    }\n",
       "\n",
       "    .dataframe tbody tr th {\n",
       "        vertical-align: top;\n",
       "    }\n",
       "\n",
       "    .dataframe thead th {\n",
       "        text-align: right;\n",
       "    }\n",
       "</style>\n",
       "<table border=\"1\" class=\"dataframe\">\n",
       "  <thead>\n",
       "    <tr style=\"text-align: right;\">\n",
       "      <th></th>\n",
       "      <th>Name</th>\n",
       "      <th>Location</th>\n",
       "      <th>Year</th>\n",
       "      <th>Kilometers_Driven</th>\n",
       "      <th>Fuel_Type</th>\n",
       "      <th>Owner_Type</th>\n",
       "      <th>Mileage</th>\n",
       "      <th>Engine</th>\n",
       "      <th>Power</th>\n",
       "      <th>Seats</th>\n",
       "      <th>Transmission_Manual</th>\n",
       "    </tr>\n",
       "  </thead>\n",
       "  <tbody>\n",
       "    <tr>\n",
       "      <th>0</th>\n",
       "      <td>Ford Figo Diesel Titanium</td>\n",
       "      <td>Delhi</td>\n",
       "      <td>2010</td>\n",
       "      <td>48928</td>\n",
       "      <td>Diesel</td>\n",
       "      <td>First</td>\n",
       "      <td>17.8</td>\n",
       "      <td>1248.0</td>\n",
       "      <td>258.0</td>\n",
       "      <td>7.0</td>\n",
       "      <td>0</td>\n",
       "    </tr>\n",
       "    <tr>\n",
       "      <th>1</th>\n",
       "      <td>Maruti SX4 VDI</td>\n",
       "      <td>Jaipur</td>\n",
       "      <td>2011</td>\n",
       "      <td>47428</td>\n",
       "      <td>Diesel</td>\n",
       "      <td>First</td>\n",
       "      <td>23.9</td>\n",
       "      <td>2498.0</td>\n",
       "      <td>183.0</td>\n",
       "      <td>5.0</td>\n",
       "      <td>0</td>\n",
       "    </tr>\n",
       "  </tbody>\n",
       "</table>\n",
       "</div>"
      ],
      "text/plain": [
       "                        Name Location  Year  Kilometers_Driven Fuel_Type  \\\n",
       "0  Ford Figo Diesel Titanium    Delhi  2010              48928    Diesel   \n",
       "1             Maruti SX4 VDI   Jaipur  2011              47428    Diesel   \n",
       "\n",
       "  Owner_Type  Mileage  Engine  Power  Seats  Transmission_Manual  \n",
       "0      First     17.8  1248.0  258.0    7.0                    0  \n",
       "1      First     23.9  2498.0  183.0    5.0                    0  "
      ]
     },
     "execution_count": 615,
     "metadata": {},
     "output_type": "execute_result"
    }
   ],
   "source": [
    "df_test= pd.get_dummies(data=df_test,columns=['Transmission'],drop_first=True)\n",
    "df_test.head(2)"
   ]
  },
  {
   "cell_type": "code",
   "execution_count": 616,
   "id": "f8bdae1f",
   "metadata": {},
   "outputs": [
    {
     "data": {
      "text/plain": [
       "array(['First', 'Second', 'Third', 'Fourth & Above'], dtype=object)"
      ]
     },
     "execution_count": 616,
     "metadata": {},
     "output_type": "execute_result"
    }
   ],
   "source": [
    "df_test['Owner_Type'].unique()"
   ]
  },
  {
   "cell_type": "code",
   "execution_count": 617,
   "id": "3aad79f3",
   "metadata": {},
   "outputs": [
    {
     "data": {
      "text/html": [
       "<div>\n",
       "<style scoped>\n",
       "    .dataframe tbody tr th:only-of-type {\n",
       "        vertical-align: middle;\n",
       "    }\n",
       "\n",
       "    .dataframe tbody tr th {\n",
       "        vertical-align: top;\n",
       "    }\n",
       "\n",
       "    .dataframe thead th {\n",
       "        text-align: right;\n",
       "    }\n",
       "</style>\n",
       "<table border=\"1\" class=\"dataframe\">\n",
       "  <thead>\n",
       "    <tr style=\"text-align: right;\">\n",
       "      <th></th>\n",
       "      <th>Name</th>\n",
       "      <th>Location</th>\n",
       "      <th>Year</th>\n",
       "      <th>Kilometers_Driven</th>\n",
       "      <th>Fuel_Type</th>\n",
       "      <th>Owner_Type</th>\n",
       "      <th>Mileage</th>\n",
       "      <th>Engine</th>\n",
       "      <th>Power</th>\n",
       "      <th>Seats</th>\n",
       "      <th>Transmission_Manual</th>\n",
       "    </tr>\n",
       "  </thead>\n",
       "  <tbody>\n",
       "    <tr>\n",
       "      <th>0</th>\n",
       "      <td>Ford Figo Diesel Titanium</td>\n",
       "      <td>Delhi</td>\n",
       "      <td>2010</td>\n",
       "      <td>48928</td>\n",
       "      <td>Diesel</td>\n",
       "      <td>1</td>\n",
       "      <td>17.8</td>\n",
       "      <td>1248.0</td>\n",
       "      <td>258.0</td>\n",
       "      <td>7.0</td>\n",
       "      <td>0</td>\n",
       "    </tr>\n",
       "    <tr>\n",
       "      <th>1</th>\n",
       "      <td>Maruti SX4 VDI</td>\n",
       "      <td>Jaipur</td>\n",
       "      <td>2011</td>\n",
       "      <td>47428</td>\n",
       "      <td>Diesel</td>\n",
       "      <td>1</td>\n",
       "      <td>23.9</td>\n",
       "      <td>2498.0</td>\n",
       "      <td>183.0</td>\n",
       "      <td>5.0</td>\n",
       "      <td>0</td>\n",
       "    </tr>\n",
       "  </tbody>\n",
       "</table>\n",
       "</div>"
      ],
      "text/plain": [
       "                        Name Location  Year  Kilometers_Driven Fuel_Type  \\\n",
       "0  Ford Figo Diesel Titanium    Delhi  2010              48928    Diesel   \n",
       "1             Maruti SX4 VDI   Jaipur  2011              47428    Diesel   \n",
       "\n",
       "   Owner_Type  Mileage  Engine  Power  Seats  Transmission_Manual  \n",
       "0           1     17.8  1248.0  258.0    7.0                    0  \n",
       "1           1     23.9  2498.0  183.0    5.0                    0  "
      ]
     },
     "execution_count": 617,
     "metadata": {},
     "output_type": "execute_result"
    }
   ],
   "source": [
    "df_test['Owner_Type']= df_test['Owner_Type'].map( {'First':1,'Third':3,'Second':2,\n",
    "           'Fourth & Above':4})\n",
    "df_test.head(2)"
   ]
  },
  {
   "cell_type": "code",
   "execution_count": 618,
   "id": "ff99e964",
   "metadata": {},
   "outputs": [
    {
     "data": {
      "text/plain": [
       "array(['Diesel', 'Petrol', 'CNG', 'LPG', 'Electric'], dtype=object)"
      ]
     },
     "execution_count": 618,
     "metadata": {},
     "output_type": "execute_result"
    }
   ],
   "source": [
    "df_test['Fuel_Type'].unique()"
   ]
  },
  {
   "cell_type": "code",
   "execution_count": 619,
   "id": "0b5ca6a2",
   "metadata": {},
   "outputs": [
    {
     "data": {
      "text/html": [
       "<div>\n",
       "<style scoped>\n",
       "    .dataframe tbody tr th:only-of-type {\n",
       "        vertical-align: middle;\n",
       "    }\n",
       "\n",
       "    .dataframe tbody tr th {\n",
       "        vertical-align: top;\n",
       "    }\n",
       "\n",
       "    .dataframe thead th {\n",
       "        text-align: right;\n",
       "    }\n",
       "</style>\n",
       "<table border=\"1\" class=\"dataframe\">\n",
       "  <thead>\n",
       "    <tr style=\"text-align: right;\">\n",
       "      <th></th>\n",
       "      <th>Name</th>\n",
       "      <th>Location</th>\n",
       "      <th>Year</th>\n",
       "      <th>Kilometers_Driven</th>\n",
       "      <th>Fuel_Type</th>\n",
       "      <th>Owner_Type</th>\n",
       "      <th>Mileage</th>\n",
       "      <th>Engine</th>\n",
       "      <th>Power</th>\n",
       "      <th>Seats</th>\n",
       "      <th>Transmission_Manual</th>\n",
       "    </tr>\n",
       "  </thead>\n",
       "  <tbody>\n",
       "    <tr>\n",
       "      <th>0</th>\n",
       "      <td>Ford Figo Diesel Titanium</td>\n",
       "      <td>Delhi</td>\n",
       "      <td>2010</td>\n",
       "      <td>48928</td>\n",
       "      <td>1</td>\n",
       "      <td>1</td>\n",
       "      <td>17.8</td>\n",
       "      <td>1248.0</td>\n",
       "      <td>258.0</td>\n",
       "      <td>7.0</td>\n",
       "      <td>0</td>\n",
       "    </tr>\n",
       "    <tr>\n",
       "      <th>1</th>\n",
       "      <td>Maruti SX4 VDI</td>\n",
       "      <td>Jaipur</td>\n",
       "      <td>2011</td>\n",
       "      <td>47428</td>\n",
       "      <td>1</td>\n",
       "      <td>1</td>\n",
       "      <td>23.9</td>\n",
       "      <td>2498.0</td>\n",
       "      <td>183.0</td>\n",
       "      <td>5.0</td>\n",
       "      <td>0</td>\n",
       "    </tr>\n",
       "  </tbody>\n",
       "</table>\n",
       "</div>"
      ],
      "text/plain": [
       "                        Name Location  Year  Kilometers_Driven  Fuel_Type  \\\n",
       "0  Ford Figo Diesel Titanium    Delhi  2010              48928          1   \n",
       "1             Maruti SX4 VDI   Jaipur  2011              47428          1   \n",
       "\n",
       "   Owner_Type  Mileage  Engine  Power  Seats  Transmission_Manual  \n",
       "0           1     17.8  1248.0  258.0    7.0                    0  \n",
       "1           1     23.9  2498.0  183.0    5.0                    0  "
      ]
     },
     "execution_count": 619,
     "metadata": {},
     "output_type": "execute_result"
    }
   ],
   "source": [
    "df_test['Fuel_Type']= df_test['Fuel_Type'].map( {'Diesel':1,'CNG':2,'Petrol':3,\n",
    "           'LPG':4 , 'Electric':5})\n",
    "df_test.head(2)"
   ]
  },
  {
   "cell_type": "code",
   "execution_count": 620,
   "id": "4cf778de",
   "metadata": {},
   "outputs": [
    {
     "data": {
      "text/plain": [
       "Name                    object\n",
       "Location                object\n",
       "Year                     int64\n",
       "Kilometers_Driven        int64\n",
       "Fuel_Type                int64\n",
       "Owner_Type               int64\n",
       "Mileage                float64\n",
       "Engine                 float64\n",
       "Power                  float64\n",
       "Seats                  float64\n",
       "Transmission_Manual      uint8\n",
       "dtype: object"
      ]
     },
     "execution_count": 620,
     "metadata": {},
     "output_type": "execute_result"
    }
   ],
   "source": [
    "df_test.dtypes"
   ]
  },
  {
   "cell_type": "code",
   "execution_count": 621,
   "id": "9bec841f",
   "metadata": {},
   "outputs": [
    {
     "data": {
      "text/plain": [
       "{'Mumbai': 0.19497777777777778,\n",
       " 'Hyderabad': 0.1701777777777778,\n",
       " 'Kolkata': 0.15902222222222223,\n",
       " 'Chennai': 0.1039111111111111,\n",
       " 'Jaipur': 0.07533333333333334,\n",
       " 'Delhi': 0.06555555555555556,\n",
       " 'Bangalore': 0.057866666666666663,\n",
       " 'Kochi': 0.0504,\n",
       " 'Coimbatore': 0.04724444444444444,\n",
       " 'Pune': 0.044977777777777776,\n",
       " 'Ahmedabad': 0.030533333333333332}"
      ]
     },
     "execution_count": 621,
     "metadata": {},
     "output_type": "execute_result"
    }
   ],
   "source": [
    "location_dict = df['Location'].value_counts(normalize=True).to_dict()\n",
    "location_dict"
   ]
  },
  {
   "cell_type": "code",
   "execution_count": 622,
   "id": "178c999c",
   "metadata": {},
   "outputs": [
    {
     "data": {
      "text/html": [
       "<div>\n",
       "<style scoped>\n",
       "    .dataframe tbody tr th:only-of-type {\n",
       "        vertical-align: middle;\n",
       "    }\n",
       "\n",
       "    .dataframe tbody tr th {\n",
       "        vertical-align: top;\n",
       "    }\n",
       "\n",
       "    .dataframe thead th {\n",
       "        text-align: right;\n",
       "    }\n",
       "</style>\n",
       "<table border=\"1\" class=\"dataframe\">\n",
       "  <thead>\n",
       "    <tr style=\"text-align: right;\">\n",
       "      <th></th>\n",
       "      <th>Name</th>\n",
       "      <th>Location</th>\n",
       "      <th>Year</th>\n",
       "      <th>Kilometers_Driven</th>\n",
       "      <th>Fuel_Type</th>\n",
       "      <th>Owner_Type</th>\n",
       "      <th>Mileage</th>\n",
       "      <th>Engine</th>\n",
       "      <th>Power</th>\n",
       "      <th>Seats</th>\n",
       "      <th>Price</th>\n",
       "      <th>Transmission_Manual</th>\n",
       "    </tr>\n",
       "  </thead>\n",
       "  <tbody>\n",
       "    <tr>\n",
       "      <th>0</th>\n",
       "      <td>Maruti 800 Std BSIII</td>\n",
       "      <td>0.057867</td>\n",
       "      <td>2012</td>\n",
       "      <td>33715</td>\n",
       "      <td>1</td>\n",
       "      <td>1</td>\n",
       "      <td>16.46</td>\n",
       "      <td>1248.0</td>\n",
       "      <td>100.0</td>\n",
       "      <td>5.0</td>\n",
       "      <td>25.53</td>\n",
       "      <td>1</td>\n",
       "    </tr>\n",
       "    <tr>\n",
       "      <th>1</th>\n",
       "      <td>Honda City 1.5 V AT</td>\n",
       "      <td>0.065556</td>\n",
       "      <td>2013</td>\n",
       "      <td>73977</td>\n",
       "      <td>1</td>\n",
       "      <td>1</td>\n",
       "      <td>18.60</td>\n",
       "      <td>2993.0</td>\n",
       "      <td>61.0</td>\n",
       "      <td>4.0</td>\n",
       "      <td>4.58</td>\n",
       "      <td>1</td>\n",
       "    </tr>\n",
       "    <tr>\n",
       "      <th>2</th>\n",
       "      <td>Honda CR-V RVi MT</td>\n",
       "      <td>0.065556</td>\n",
       "      <td>2007</td>\n",
       "      <td>16460</td>\n",
       "      <td>2</td>\n",
       "      <td>3</td>\n",
       "      <td>15.30</td>\n",
       "      <td>1599.0</td>\n",
       "      <td>140.0</td>\n",
       "      <td>5.0</td>\n",
       "      <td>2.37</td>\n",
       "      <td>1</td>\n",
       "    </tr>\n",
       "    <tr>\n",
       "      <th>3</th>\n",
       "      <td>Skoda Yeti Ambition 4X2</td>\n",
       "      <td>0.159022</td>\n",
       "      <td>2009</td>\n",
       "      <td>35048</td>\n",
       "      <td>3</td>\n",
       "      <td>1</td>\n",
       "      <td>25.47</td>\n",
       "      <td>1196.0</td>\n",
       "      <td>86.8</td>\n",
       "      <td>5.0</td>\n",
       "      <td>1.20</td>\n",
       "      <td>1</td>\n",
       "    </tr>\n",
       "    <tr>\n",
       "      <th>4</th>\n",
       "      <td>Hyundai i10 Magna LPG</td>\n",
       "      <td>0.047244</td>\n",
       "      <td>2013</td>\n",
       "      <td>41656</td>\n",
       "      <td>3</td>\n",
       "      <td>1</td>\n",
       "      <td>19.12</td>\n",
       "      <td>1999.0</td>\n",
       "      <td>115.0</td>\n",
       "      <td>7.0</td>\n",
       "      <td>33.04</td>\n",
       "      <td>0</td>\n",
       "    </tr>\n",
       "  </tbody>\n",
       "</table>\n",
       "</div>"
      ],
      "text/plain": [
       "                      Name  Location  Year  Kilometers_Driven  Fuel_Type  \\\n",
       "0     Maruti 800 Std BSIII  0.057867  2012              33715          1   \n",
       "1      Honda City 1.5 V AT  0.065556  2013              73977          1   \n",
       "2        Honda CR-V RVi MT  0.065556  2007              16460          2   \n",
       "3  Skoda Yeti Ambition 4X2  0.159022  2009              35048          3   \n",
       "4    Hyundai i10 Magna LPG  0.047244  2013              41656          3   \n",
       "\n",
       "   Owner_Type  Mileage  Engine  Power  Seats  Price  Transmission_Manual  \n",
       "0           1    16.46  1248.0  100.0    5.0  25.53                    1  \n",
       "1           1    18.60  2993.0   61.0    4.0   4.58                    1  \n",
       "2           3    15.30  1599.0  140.0    5.0   2.37                    1  \n",
       "3           1    25.47  1196.0   86.8    5.0   1.20                    1  \n",
       "4           1    19.12  1999.0  115.0    7.0  33.04                    0  "
      ]
     },
     "execution_count": 622,
     "metadata": {},
     "output_type": "execute_result"
    }
   ],
   "source": [
    "df['Location'] = df['Location'].map(location_dict)\n",
    "df.head()"
   ]
  },
  {
   "cell_type": "code",
   "execution_count": 623,
   "id": "9d63bee5",
   "metadata": {},
   "outputs": [
    {
     "data": {
      "text/plain": [
       "Maruti Wagon R LXI CNG                     142\n",
       "Maruti Swift VDI                           133\n",
       "Honda City 1.5 S MT                        131\n",
       "Hyundai i10 Sportz                         114\n",
       "BMW 3 Series 320d                          111\n",
       "                                          ... \n",
       "BMW 5 Series 2013-2017 525d Luxury Line      1\n",
       "Honda Amaze S i-DTEC                         1\n",
       "Volkswagen Beetle 2.0                        1\n",
       "Toyota Camry A/T                             1\n",
       "Toyota Etios VXD                             1\n",
       "Name: Name, Length: 1204, dtype: int64"
      ]
     },
     "execution_count": 623,
     "metadata": {},
     "output_type": "execute_result"
    }
   ],
   "source": [
    "df['Name'].value_counts()"
   ]
  },
  {
   "cell_type": "code",
   "execution_count": 624,
   "id": "783a1cd1",
   "metadata": {
    "scrolled": true
   },
   "outputs": [
    {
     "data": {
      "text/plain": [
       "{'Audi A3 35 TDI Attraction': 5.0,\n",
       " 'Audi A3 35 TDI Premium': 10.0,\n",
       " 'Audi A4 1.8 TFSI': 6.0,\n",
       " 'Audi A4 2.0 TDI': 7.0,\n",
       " 'Audi A4 2.0 TDI 177 Bhp Premium Plus': 8.0,\n",
       " 'Audi A4 2.0 TDI 177 Bhp Technology Edition': 7.0,\n",
       " 'Audi A4 2.0 TDI Multitronic': 7.0,\n",
       " 'Audi A4 2.0 TDI Premium Sport Limited Edition': 6.0,\n",
       " 'Audi A4 3.0 TDI Quattro': 12.0,\n",
       " 'Audi A4 35 TDI Premium': 8.0,\n",
       " 'Audi A4 35 TDI Premium Plus': 5.0,\n",
       " 'Audi A4 35 TDI Technology': 8.0,\n",
       " 'Audi A4 35 TDI Technology Edition': 3.0,\n",
       " 'Audi A4 New 2.0 TDI Multitronic': 6.0,\n",
       " 'Audi A6 2.0 TDI Design Edition': 8.0,\n",
       " 'Audi A6 2.7 TDI': 10.0,\n",
       " 'Audi A6 2.8 FSI': 3.0,\n",
       " 'Audi A6 2011-2015 2.0 TDI': 3.0,\n",
       " 'Audi A6 2011-2015 2.0 TDI Premium Plus': 7.0,\n",
       " 'Audi A6 2011-2015 2.0 TDI Technology': 11.0,\n",
       " 'Audi A6 2011-2015 35 TDI Technology': 5.0,\n",
       " 'Audi A6 2011-2015 35 TFSI Technology': 6.0,\n",
       " 'Audi A6 3.0 TDI quattro': 8.0,\n",
       " 'Audi A6 35 TDI Matrix': 5.0,\n",
       " 'Audi A6 35 TFSI Matrix': 3.0,\n",
       " 'Audi A8 L 3.0 TDI quattro': 4.0,\n",
       " 'Audi Q3 2.0 TDI': 6.0,\n",
       " 'Audi Q3 2.0 TDI Quattro': 10.0,\n",
       " 'Audi Q3 2012-2015 2.0 TDI Quattro Premium Plus': 10.0,\n",
       " 'Audi Q3 2012-2015 35 TDI Quattro Premium Plus': 4.0,\n",
       " 'Audi Q3 30 TDI Premium FWD': 5.0,\n",
       " 'Audi Q3 35 TDI Quattro Premium': 9.0,\n",
       " 'Audi Q3 35 TDI Quattro Premium Plus': 10.0,\n",
       " 'Audi Q5 2.0 TDI': 3.0,\n",
       " 'Audi Q5 2.0 TDI Premium Plus': 9.0,\n",
       " 'Audi Q5 2.0 TDI Technology': 7.0,\n",
       " 'Audi Q5 2008-2012 2.0 TDI': 11.0,\n",
       " 'Audi Q5 2008-2012 2.0 TFSI Quattro': 6.0,\n",
       " 'Audi Q5 3.0 TDI Quattro': 12.0,\n",
       " 'Audi Q5 3.0 TDI Quattro Technology': 20.0,\n",
       " 'Audi Q5 30 TDI quattro Premium': 3.0,\n",
       " 'Audi Q5 30 TDI quattro Premium Plus': 8.0,\n",
       " 'Audi Q7 3.0 TDI Quattro Premium Plus': 7.0,\n",
       " 'Audi Q7 3.0 TDI Quattro Technology': 7.0,\n",
       " 'Audi Q7 3.0 TDI quattro': 10.0,\n",
       " 'Audi Q7 35 TDI Quattro Premium Plus': 10.0,\n",
       " 'Audi Q7 35 TDI Quattro Technology': 12.0,\n",
       " 'Audi Q7 4.2 FSI quattro': 5.0,\n",
       " 'Audi Q7 4.2 TDI Quattro Technology': 9.0,\n",
       " 'Audi Q7 45 TDI Quattro Premium Plus': 6.0,\n",
       " 'Audi Q7 45 TDI Quattro Technology': 5.0,\n",
       " 'Audi RS5 Coupe': 5.0,\n",
       " 'Audi TT 2.0 TFSI': 10.0,\n",
       " 'BMW 1 Series 118d Base': 9.0,\n",
       " 'BMW 1 Series 118d Sport Line': 3.0,\n",
       " 'BMW 3 Series 2005-2011 325i Sedan': 8.0,\n",
       " 'BMW 3 Series 320d': 12.0,\n",
       " 'BMW 3 Series 320d Corporate Edition': 4.0,\n",
       " 'BMW 3 Series 320d GT Luxury Line': 3.0,\n",
       " 'BMW 3 Series 320d Highline': 5.0,\n",
       " 'BMW 3 Series 320d Luxury Line': 10.0,\n",
       " 'BMW 3 Series 320d M Sport': 10.0,\n",
       " 'BMW 3 Series 320d Prestige': 4.0,\n",
       " 'BMW 3 Series 320d Sedan': 5.0,\n",
       " 'BMW 3 Series 320d Sport': 6.0,\n",
       " 'BMW 3 Series 320d Sport Line': 7.0,\n",
       " 'BMW 3 Series 320i Sedan': 7.0,\n",
       " 'BMW 3 Series 330 Ci Convertible': 3.0,\n",
       " 'BMW 3 Series 330d Convertible': 11.0,\n",
       " 'BMW 3 Series Luxury Line': 7.0,\n",
       " 'BMW 5 Series 2003-2012 520d': 6.0,\n",
       " 'BMW 5 Series 2003-2012 525d': 5.0,\n",
       " 'BMW 5 Series 2003-2012 530d': 12.0,\n",
       " 'BMW 5 Series 2003-2012 530d Highline': 4.0,\n",
       " 'BMW 5 Series 2007-2010 525d Sedan': 35.0,\n",
       " 'BMW 5 Series 2013-2017 520d Luxury Line': 6.0,\n",
       " 'BMW 5 Series 2013-2017 520d M Sport': 2.0,\n",
       " 'BMW 5 Series 2013-2017 525d Luxury Line': 3.0,\n",
       " 'BMW 5 Series 2013-2017 530d M Sport': 12.0,\n",
       " 'BMW 5 Series 520d Luxury Line': 9.0,\n",
       " 'BMW 5 Series 520d Sedan': 7.0,\n",
       " 'BMW 5 Series 520d Sport Line': 6.0,\n",
       " 'BMW 5 Series 523i Sedan': 4.0,\n",
       " 'BMW 5 Series 525d Sedan': 9.0,\n",
       " 'BMW 5 Series 530d M Sport': 3.0,\n",
       " 'BMW 6 Series 630i Coupe': 7.0,\n",
       " 'BMW 6 Series Gran Coupe': 7.0,\n",
       " 'BMW 7 Series 2007-2012 730Ld': 3.0,\n",
       " 'BMW 7 Series 2007-2012 750Li': 6.0,\n",
       " 'BMW 7 Series 730Ld': 7.0,\n",
       " 'BMW 7 Series 730Ld Eminence': 5.0,\n",
       " 'BMW 7 Series 730Ld Sedan': 5.0,\n",
       " 'BMW 7 Series 740Li': 3.0,\n",
       " 'BMW X1 M Sport sDrive 20d': 6.0,\n",
       " 'BMW X1 sDrive 20d Exclusive': 6.0,\n",
       " 'BMW X1 sDrive 20d Sportline': 5.0,\n",
       " 'BMW X1 sDrive 20d xLine': 6.0,\n",
       " 'BMW X1 sDrive20d': 8.0,\n",
       " 'BMW X1 xDrive 20d M Sport': 6.0,\n",
       " 'BMW X3 xDrive 20d Luxury Line': 7.0,\n",
       " 'BMW X3 xDrive20d': 5.0,\n",
       " 'BMW X3 xDrive20d xLine': 5.0,\n",
       " 'BMW X5 2014-2019 xDrive 30d Design Pure Experience 7 Seater': 6.0,\n",
       " 'BMW X5 3.0d': 6.0,\n",
       " 'BMW X5 xDrive 30d': 5.0,\n",
       " 'BMW X5 xDrive 30d M Sport': 2.0,\n",
       " 'BMW X6 xDrive 40d M Sport': 7.0,\n",
       " 'BMW X6 xDrive30d': 5.0,\n",
       " 'Chevrolet Aveo 1.4': 2.0,\n",
       " 'Chevrolet Aveo 1.4 LS': 6.0,\n",
       " 'Chevrolet Aveo 1.6 LT': 32.0,\n",
       " 'Chevrolet Aveo U-VA 1.2 LS': 5.0,\n",
       " 'Chevrolet Aveo U-VA 1.2 LT': 7.0,\n",
       " 'Chevrolet Beat Diesel': 3.0,\n",
       " 'Chevrolet Beat Diesel LS': 6.0,\n",
       " 'Chevrolet Beat Diesel LT': 7.0,\n",
       " 'Chevrolet Beat LS': 5.0,\n",
       " 'Chevrolet Beat LT': 5.0,\n",
       " 'Chevrolet Beat LT Option': 4.0,\n",
       " 'Chevrolet Cruze LTZ': 5.0,\n",
       " 'Chevrolet Cruze LTZ AT': 8.0,\n",
       " 'Chevrolet Enjoy 1.3 TCDi LS 8': 3.0,\n",
       " 'Chevrolet Enjoy 1.3 TCDi LTZ 8': 13.0,\n",
       " 'Chevrolet Enjoy 1.4 LS 8': 4.0,\n",
       " 'Chevrolet Enjoy Petrol LS 7 Seater': 5.0,\n",
       " 'Chevrolet Enjoy TCDi LS 8 Seater': 9.0,\n",
       " 'Chevrolet Enjoy TCDi LTZ 7 Seater': 15.0,\n",
       " 'Chevrolet Optra 1.6 LS': 10.0,\n",
       " 'Chevrolet Optra Magnum 2.0 LS BSIII': 3.0,\n",
       " 'Chevrolet Optra Magnum 2.0 LT': 6.0,\n",
       " 'Chevrolet Sail 1.2 LS': 4.0,\n",
       " 'Chevrolet Sail Hatchback 1.2 LS': 5.0,\n",
       " 'Chevrolet Sail Hatchback LS ABS': 4.0,\n",
       " 'Chevrolet Sail LT ABS': 6.0,\n",
       " 'Chevrolet Spark 1.0 LS': 11.0,\n",
       " 'Chevrolet Spark 1.0 LT': 5.0,\n",
       " 'Datsun GO NXT': 4.0,\n",
       " 'Datsun GO Plus A': 8.0,\n",
       " 'Datsun Redi GO Sport': 44.0,\n",
       " 'Datsun redi-GO T': 25.0,\n",
       " 'Datsun redi-GO T Option': 5.0,\n",
       " 'Fiat Avventura MULTIJET Emotion': 6.0,\n",
       " 'Fiat Linea Emotion (Diesel)': 4.0,\n",
       " 'Fiat Linea Emotion Pack (Diesel)': 8.0,\n",
       " 'Fiat Petra 1.2 EL': 6.0,\n",
       " 'Fiat Punto 1.2 Dynamic': 3.0,\n",
       " 'Fiat Punto 1.3 Emotion': 5.0,\n",
       " 'Fiat Punto 1.4 Emotion': 5.0,\n",
       " 'Fiat Punto EVO 1.2 Emotion': 3.0,\n",
       " 'Fiat Siena 1.2 ELX': 6.0,\n",
       " 'Force One LX 4x4': 8.0,\n",
       " 'Ford Aspire Titanium Diesel': 5.0,\n",
       " 'Ford EcoSport 1.0 Ecoboost Titanium Plus': 2.0,\n",
       " 'Ford EcoSport 1.5 Diesel Titanium': 4.0,\n",
       " 'Ford EcoSport 1.5 Diesel Titanium Plus': 7.0,\n",
       " 'Ford EcoSport 1.5 Diesel Trend': 3.0,\n",
       " 'Ford EcoSport 1.5 Petrol Titanium': 3.0,\n",
       " 'Ford EcoSport 1.5 Petrol Titanium Plus AT': 4.0,\n",
       " 'Ford EcoSport 1.5 TDCi Titanium': 5.0,\n",
       " 'Ford EcoSport 1.5 TDCi Trend': 7.0,\n",
       " 'Ford EcoSport 1.5 TDCi Trend Plus': 10.0,\n",
       " 'Ford EcoSport 1.5 Ti VCT AT Titanium': 5.0,\n",
       " 'Ford EcoSport 1.5 Ti VCT AT Titanium BE': 7.0,\n",
       " 'Ford EcoSport 1.5 Ti VCT MT Signature': 2.0,\n",
       " 'Ford EcoSport 1.5 Ti VCT MT Titanium': 2.0,\n",
       " 'Ford EcoSport 1.5 Ti VCT MT Titanium BE': 4.0,\n",
       " 'Ford Ecosport 1.5 DV5 MT Ambiente': 8.0,\n",
       " 'Ford Ecosport 1.5 DV5 MT Titanium': 8.0,\n",
       " 'Ford Ecosport 1.5 DV5 MT Titanium Optional': 7.0,\n",
       " 'Ford Ecosport 1.5 DV5 MT Trend': 4.0,\n",
       " 'Ford Ecosport 1.5 Ti VCT MT Titanium': 9.0,\n",
       " 'Ford Ecosport Signature Edition Diesel': 4.0,\n",
       " 'Ford Endeavour 2.2 Titanium AT 4X2': 5.0,\n",
       " 'Ford Endeavour 2.2 Trend AT 4X2': 6.0,\n",
       " 'Ford Endeavour 2.2 Trend MT 4X4': 5.0,\n",
       " 'Ford Endeavour 2.5L 4X2': 4.0,\n",
       " 'Ford Endeavour 2.5L 4X2 MT': 17.0,\n",
       " 'Ford Endeavour 3.0L 4X4 AT': 5.0,\n",
       " 'Ford Endeavour 3.2 Titanium AT 4X4': 4.0,\n",
       " 'Ford Endeavour 3.2 Trend AT 4X4': 11.0,\n",
       " 'Ford Endeavour 4x2 XLT Limited Edition': 4.0,\n",
       " 'Ford Endeavour Hurricane LE': 6.0,\n",
       " 'Ford Endeavour XLT TDCi 4X2': 7.0,\n",
       " 'Ford Fiesta 1.4 Duratec EXI': 3.0,\n",
       " 'Ford Fiesta 1.4 Duratec ZXI': 9.0,\n",
       " 'Ford Fiesta 1.4 Duratorq ZXI': 5.0,\n",
       " 'Ford Fiesta 1.4 SXi TDCi': 6.0,\n",
       " 'Ford Fiesta 1.4 SXi TDCi ABS': 11.0,\n",
       " 'Ford Fiesta 1.4 TDCi EXI': 3.0,\n",
       " 'Ford Fiesta 1.4 TDCi EXI Limited Edition': 8.0,\n",
       " 'Ford Fiesta 1.4 ZXi TDCi ABS': 17.0,\n",
       " 'Ford Fiesta 1.5 TDCi Titanium': 3.0,\n",
       " 'Ford Fiesta 1.6 ZXI Duratec': 5.0,\n",
       " 'Ford Fiesta 1.6 ZXi ABS': 7.0,\n",
       " 'Ford Fiesta 1.6 ZXi Duratec': 9.0,\n",
       " 'Ford Fiesta 1.6 ZXi Leather': 3.0,\n",
       " 'Ford Fiesta Classic 1.4 Duratorq CLXI': 8.0,\n",
       " 'Ford Fiesta Classic 1.4 Duratorq LXI': 4.0,\n",
       " 'Ford Fiesta Diesel Style': 4.0,\n",
       " 'Ford Fiesta Diesel Trend': 4.0,\n",
       " 'Ford Fiesta EXi 1.4 TDCi Ltd': 10.0,\n",
       " 'Ford Figo 1.5D Trend MT': 2.0,\n",
       " 'Ford Figo 2015-2019 1.2P Titanium MT': 9.0,\n",
       " 'Ford Figo Aspire 1.2 Ti-VCT Ambiente': 3.0,\n",
       " 'Ford Figo Aspire 1.2 Ti-VCT Titanium': 9.0,\n",
       " 'Ford Figo Aspire 1.2 Ti-VCT Trend': 7.0,\n",
       " 'Ford Figo Aspire 1.5 TDCi Ambiente': 9.0,\n",
       " 'Ford Figo Aspire 1.5 TDCi Titanium': 9.0,\n",
       " 'Ford Figo Aspire 1.5 TDCi Titanium Plus': 16.0,\n",
       " 'Ford Figo Aspire 1.5 Ti-VCT Titanium': 12.0,\n",
       " 'Ford Figo Diesel': 3.0,\n",
       " 'Ford Figo Diesel EXI': 3.0,\n",
       " 'Ford Figo Diesel EXI Option': 2.0,\n",
       " 'Ford Figo Diesel Titanium': 6.0,\n",
       " 'Ford Figo Diesel ZXI': 8.0,\n",
       " 'Ford Figo Petrol Titanium': 5.0,\n",
       " 'Ford Figo Petrol ZXI': 4.0,\n",
       " 'Ford Freestyle Titanium Plus Petrol': 6.0,\n",
       " 'Ford Ikon 1.3 Flair': 7.0,\n",
       " 'Ford Ikon 1.6 CLXI': 15.0,\n",
       " 'Honda Accord 2.4 A/T': 9.0,\n",
       " 'Honda Accord 2.4 AT': 6.0,\n",
       " 'Honda Accord 2.4 Inspire M/T': 6.0,\n",
       " 'Honda Accord 2.4 MT': 10.0,\n",
       " 'Honda Accord 2001-2003 2.3 VTi L AT': 16.0,\n",
       " 'Honda Accord VTi-L AT': 9.0,\n",
       " 'Honda Amaze E i-Dtech': 9.0,\n",
       " 'Honda Amaze E i-Vtech': 6.0,\n",
       " 'Honda Amaze EX i-Dtech': 6.0,\n",
       " 'Honda Amaze S AT i-Vtech': 4.0,\n",
       " 'Honda Amaze S Diesel': 5.0,\n",
       " 'Honda Amaze S Petrol': 4.0,\n",
       " 'Honda Amaze S i-DTEC': 3.0,\n",
       " 'Honda Amaze S i-Dtech': 6.0,\n",
       " 'Honda Amaze S i-VTEC': 9.0,\n",
       " 'Honda Amaze S i-Vtech': 5.0,\n",
       " 'Honda Amaze SX i-DTEC': 12.0,\n",
       " 'Honda Amaze SX i-VTEC': 5.0,\n",
       " 'Honda Amaze V CVT Petrol': 5.0,\n",
       " 'Honda Amaze VX O i VTEC': 12.0,\n",
       " 'Honda Amaze VX i-DTEC': 7.0,\n",
       " 'Honda Amaze VX i-Vtech': 4.0,\n",
       " 'Honda BR-V i-VTEC S MT': 4.0,\n",
       " 'Honda BRV i-VTEC V CVT': 8.0,\n",
       " 'Honda Brio 1.2 VX MT': 4.0,\n",
       " 'Honda Brio E MT': 7.0,\n",
       " 'Honda Brio EX MT': 7.0,\n",
       " 'Honda Brio S MT': 5.0,\n",
       " 'Honda Brio S Option AT': 5.0,\n",
       " 'Honda Brio S Option MT': 4.0,\n",
       " 'Honda Brio V MT': 12.0,\n",
       " 'Honda Brio VX AT': 9.0,\n",
       " 'Honda CR-V 2.0 AT': 4.0,\n",
       " 'Honda CR-V 2.0L 2WD MT': 5.0,\n",
       " 'Honda CR-V 2.4 4WD AT': 9.0,\n",
       " 'Honda CR-V 2.4 AT': 7.0,\n",
       " 'Honda CR-V 2.4 MT': 14.0,\n",
       " 'Honda CR-V 2.4L 4WD AT': 5.0,\n",
       " 'Honda CR-V AT With Sun Roof': 5.0,\n",
       " 'Honda CR-V RVi MT': 7.0,\n",
       " 'Honda CR-V Sport': 9.0,\n",
       " 'Honda City 1.3 DX': 7.0,\n",
       " 'Honda City 1.3 EXI': 7.0,\n",
       " 'Honda City 1.3 EXI S': 11.0,\n",
       " 'Honda City 1.5 E MT': 6.0,\n",
       " 'Honda City 1.5 EXI': 5.0,\n",
       " 'Honda City 1.5 EXI S': 10.0,\n",
       " 'Honda City 1.5 GXI': 3.0,\n",
       " 'Honda City 1.5 S AT': 7.0,\n",
       " 'Honda City 1.5 S MT': 5.0,\n",
       " 'Honda City 1.5 V AT': 7.0,\n",
       " 'Honda City 1.5 V AT Exclusive': 5.0,\n",
       " 'Honda City 1.5 V AT Sunroof': 3.0,\n",
       " 'Honda City 1.5 V MT': 7.0,\n",
       " 'Honda City 1.5 V MT Exclusive': 5.0,\n",
       " 'Honda City 1.5 V MT Sunroof': 12.0,\n",
       " 'Honda City V AT': 5.0,\n",
       " 'Honda City V MT': 5.0,\n",
       " 'Honda City V MT AVN': 6.0,\n",
       " 'Honda City V MT Exclusive': 7.0,\n",
       " 'Honda City ZX CVT': 12.0,\n",
       " 'Honda City ZX GXi': 5.0,\n",
       " 'Honda City ZX VTEC': 7.0,\n",
       " 'Honda City i DTEC S': 4.0,\n",
       " 'Honda City i DTEC SV': 7.0,\n",
       " 'Honda City i DTEC V': 5.0,\n",
       " 'Honda City i DTEC VX': 8.0,\n",
       " 'Honda City i DTEC VX Option': 8.0,\n",
       " 'Honda City i DTec V': 8.0,\n",
       " 'Honda City i DTec VX': 10.0,\n",
       " 'Honda City i VTEC CVT SV': 3.0,\n",
       " 'Honda City i VTEC CVT VX': 7.0,\n",
       " 'Honda City i VTEC S': 5.0,\n",
       " 'Honda City i VTEC SV': 8.0,\n",
       " 'Honda City i VTEC V': 7.0,\n",
       " 'Honda City i VTEC VX': 6.0,\n",
       " 'Honda City i VTEC VX Option': 6.0,\n",
       " 'Honda City i-DTEC SV': 5.0,\n",
       " 'Honda City i-DTEC ZX': 10.0,\n",
       " 'Honda City i-VTEC CVT VX': 6.0,\n",
       " 'Honda City i-VTEC CVT ZX': 8.0,\n",
       " 'Honda City i-VTEC S': 5.0,\n",
       " 'Honda City i-VTEC V': 8.0,\n",
       " 'Honda City i-VTEC VX': 13.0,\n",
       " 'Honda Civic 2006-2010 1.8 S AT': 5.0,\n",
       " 'Honda Civic 2006-2010 1.8 S MT': 4.0,\n",
       " 'Honda Civic 2006-2010 1.8 V AT': 4.0,\n",
       " 'Honda Civic 2006-2010 1.8 V MT': 5.0,\n",
       " 'Honda Civic 2010-2013 1.8 S MT': 3.0,\n",
       " 'Honda Civic 2010-2013 1.8 V MT': 5.0,\n",
       " 'Honda Jazz 1.2 SV i VTEC': 19.0,\n",
       " 'Honda Jazz 1.2 V CVT i VTEC': 7.0,\n",
       " 'Honda Jazz 1.2 V i VTEC': 5.0,\n",
       " 'Honda Jazz 1.2 VX i VTEC': 8.0,\n",
       " 'Honda Jazz 1.5 S i DTEC': 6.0,\n",
       " 'Honda Jazz 1.5 SV i DTEC': 27.0,\n",
       " 'Honda Jazz 1.5 V i DTEC': 4.0,\n",
       " 'Honda Jazz 1.5 VX i DTEC': 9.0,\n",
       " 'Honda Jazz S': 16.0,\n",
       " 'Honda Jazz Select Edition': 5.0,\n",
       " 'Honda Jazz V': 12.0,\n",
       " 'Honda Jazz V CVT': 5.0,\n",
       " 'Honda Jazz VX': 8.0,\n",
       " 'Honda Jazz VX Diesel': 7.0,\n",
       " 'Honda Mobilio S i DTEC': 5.0,\n",
       " 'Honda Mobilio S i VTEC': 5.0,\n",
       " 'Honda Mobilio V Option i DTEC': 3.0,\n",
       " 'Honda Mobilio V i DTEC': 8.0,\n",
       " 'Honda WRV i-VTEC VX': 4.0,\n",
       " 'Hyundai Accent GLE': 4.0,\n",
       " 'Hyundai Accent GLE 1': 10.0,\n",
       " 'Hyundai Accent GLS': 9.0,\n",
       " 'Hyundai Creta 1.4 CRDi S Plus': 7.0,\n",
       " 'Hyundai Creta 1.4 E Plus Diesel': 5.0,\n",
       " 'Hyundai Creta 1.6 CRDi AT SX Plus': 8.0,\n",
       " 'Hyundai Creta 1.6 CRDi SX': 7.0,\n",
       " 'Hyundai Creta 1.6 CRDi SX Option': 8.0,\n",
       " 'Hyundai Creta 1.6 SX': 8.0,\n",
       " 'Hyundai Creta 1.6 SX Automatic Diesel': 7.0,\n",
       " 'Hyundai Creta 1.6 SX Option': 5.0,\n",
       " 'Hyundai Creta 1.6 SX Option Diesel': 4.0,\n",
       " 'Hyundai Creta 1.6 SX Plus Diesel': 4.0,\n",
       " 'Hyundai Creta 1.6 SX Plus Dual Tone Petrol': 5.0,\n",
       " 'Hyundai Creta 1.6 SX Plus Petrol Automatic': 9.0,\n",
       " 'Hyundai Creta 1.6 VTVT E Plus': 4.0,\n",
       " 'Hyundai Creta 1.6 VTVT S': 4.0,\n",
       " 'Hyundai EON D Lite': 6.0,\n",
       " 'Hyundai EON D Lite Plus': 7.0,\n",
       " 'Hyundai EON D Lite Plus Option': 21.0,\n",
       " 'Hyundai EON Era': 9.0,\n",
       " 'Hyundai EON Era Plus': 4.0,\n",
       " 'Hyundai EON LPG Era Plus Option': 4.0,\n",
       " 'Hyundai EON Magna': 6.0,\n",
       " 'Hyundai EON Magna Plus': 5.0,\n",
       " 'Hyundai EON Sportz': 13.0,\n",
       " 'Hyundai Elantra 1.6 SX Option AT': 3.0,\n",
       " 'Hyundai Elantra 2.0 SX Option AT': 8.0,\n",
       " 'Hyundai Elantra CRDi S': 5.0,\n",
       " 'Hyundai Elantra CRDi SX': 8.0,\n",
       " 'Hyundai Elantra CRDi SX AT': 5.0,\n",
       " 'Hyundai Elantra SX': 4.0,\n",
       " 'Hyundai Elite i20 Petrol Asta': 5.0,\n",
       " 'Hyundai Elite i20 Petrol Sportz': 4.0,\n",
       " 'Hyundai Getz GLE': 4.0,\n",
       " 'Hyundai Getz GLS': 4.0,\n",
       " 'Hyundai Grand i10 1.2 CRDi Sportz': 5.0,\n",
       " 'Hyundai Grand i10 1.2 CRDi Sportz Option': 8.0,\n",
       " 'Hyundai Grand i10 1.2 Kappa Asta': 5.0,\n",
       " 'Hyundai Grand i10 1.2 Kappa Magna': 6.0,\n",
       " 'Hyundai Grand i10 1.2 Kappa Magna AT': 6.0,\n",
       " 'Hyundai Grand i10 1.2 Kappa Sportz': 4.0,\n",
       " 'Hyundai Grand i10 1.2 Kappa Sportz Option': 4.0,\n",
       " 'Hyundai Grand i10 AT Asta': 7.0,\n",
       " 'Hyundai Grand i10 Asta': 6.0,\n",
       " 'Hyundai Grand i10 Asta Option': 8.0,\n",
       " 'Hyundai Grand i10 Asta Option AT': 7.0,\n",
       " 'Hyundai Grand i10 CRDi Asta': 2.0,\n",
       " 'Hyundai Grand i10 CRDi Magna': 7.0,\n",
       " 'Hyundai Grand i10 CRDi Sportz': 7.0,\n",
       " 'Hyundai Grand i10 CRDi Sportz Celebration Edition': 9.0,\n",
       " 'Hyundai Grand i10 Era': 26.0,\n",
       " 'Hyundai Grand i10 Magna': 9.0,\n",
       " 'Hyundai Grand i10 SportZ Edition': 7.0,\n",
       " 'Hyundai Grand i10 Sportz': 4.0,\n",
       " 'Hyundai Santa Fe 2WD AT': 6.0,\n",
       " 'Hyundai Santa Fe 4WD AT': 6.0,\n",
       " 'Hyundai Santa Fe 4X4': 6.0,\n",
       " 'Hyundai Santa Fe 4x4 AT': 7.0,\n",
       " 'Hyundai Santro D Lite': 4.0,\n",
       " 'Hyundai Santro DX': 6.0,\n",
       " 'Hyundai Santro GLS I - Euro I': 19.0,\n",
       " 'Hyundai Santro GLS I - Euro II': 6.0,\n",
       " 'Hyundai Santro GLS II - Euro II': 4.0,\n",
       " 'Hyundai Santro LS zipPlus': 8.0,\n",
       " 'Hyundai Santro Xing GL': 6.0,\n",
       " 'Hyundai Santro Xing GL Plus': 12.0,\n",
       " 'Hyundai Santro Xing GL Plus LPG': 5.0,\n",
       " 'Hyundai Santro Xing GLS': 5.0,\n",
       " 'Hyundai Santro Xing GLS LPG': 5.0,\n",
       " 'Hyundai Santro Xing XG': 5.0,\n",
       " 'Hyundai Santro Xing XG eRLX Euro III': 5.0,\n",
       " 'Hyundai Santro Xing XL': 5.0,\n",
       " 'Hyundai Santro Xing XL eRLX Euro III': 5.0,\n",
       " 'Hyundai Santro Xing XO': 3.0,\n",
       " 'Hyundai Santro Xing XO eRLX Euro II': 5.0,\n",
       " 'Hyundai Santro Xing XP': 4.0,\n",
       " 'Hyundai Sonata Embera 2.0L CRDi AT': 2.0,\n",
       " 'Hyundai Sonata GOLD': 1.0,\n",
       " 'Hyundai Sonata Transform 2.4 GDi AT': 6.0,\n",
       " 'Hyundai Sonata Transform 2.4 GDi MT': 3.0,\n",
       " 'Hyundai Tucson CRDi': 7.0,\n",
       " 'Hyundai Verna 1.4 CX VTVT': 1.0,\n",
       " 'Hyundai Verna 1.4 EX': 5.0,\n",
       " 'Hyundai Verna 1.4 VTVT': 8.0,\n",
       " 'Hyundai Verna 1.6 CRDI': 7.0,\n",
       " 'Hyundai Verna 1.6 CRDi AT SX': 5.0,\n",
       " 'Hyundai Verna 1.6 CRDi EX AT': 8.0,\n",
       " 'Hyundai Verna 1.6 CRDi EX MT': 6.0,\n",
       " 'Hyundai Verna 1.6 CRDi S': 4.0,\n",
       " 'Hyundai Verna 1.6 CRDi SX': 3.0,\n",
       " 'Hyundai Verna 1.6 EX VTVT': 6.0,\n",
       " 'Hyundai Verna 1.6 SX': 9.0,\n",
       " 'Hyundai Verna 1.6 SX CRDI (O) AT': 7.0,\n",
       " 'Hyundai Verna 1.6 SX CRDi (O)': 5.0,\n",
       " 'Hyundai Verna 1.6 SX VTVT': 8.0,\n",
       " 'Hyundai Verna 1.6 SX VTVT (O)': 8.0,\n",
       " 'Hyundai Verna 1.6 SX VTVT (O) AT': 7.0,\n",
       " 'Hyundai Verna 1.6 SX VTVT AT': 6.0,\n",
       " 'Hyundai Verna 1.6 VTVT': 5.0,\n",
       " 'Hyundai Verna 1.6 VTVT AT SX': 5.0,\n",
       " 'Hyundai Verna 1.6 VTVT EX AT': 7.0,\n",
       " 'Hyundai Verna CRDi': 6.0,\n",
       " 'Hyundai Verna CRDi 1.4 E': 4.0,\n",
       " 'Hyundai Verna CRDi 1.6 SX': 4.0,\n",
       " 'Hyundai Verna CRDi 1.6 SX Option': 10.0,\n",
       " 'Hyundai Verna CRDi ABS': 5.0,\n",
       " 'Hyundai Verna CRDi SX': 5.0,\n",
       " 'Hyundai Verna SX CRDi AT': 7.0,\n",
       " 'Hyundai Verna Transform SX VGT CRDi': 7.0,\n",
       " 'Hyundai Verna Transform SX VTVT': 4.0,\n",
       " 'Hyundai Verna Transform VTVT': 4.0,\n",
       " 'Hyundai Verna VTVT 1.6 AT SX Option': 3.0,\n",
       " 'Hyundai Verna VTVT 1.6 AT SX Plus': 3.0,\n",
       " 'Hyundai Verna VTVT 1.6 SX': 3.0,\n",
       " 'Hyundai Verna VTVT 1.6 SX Option': 7.0,\n",
       " 'Hyundai Verna Xi (Petrol)': 3.0,\n",
       " 'Hyundai Xcent 1.1 CRDi Base': 7.0,\n",
       " 'Hyundai Xcent 1.1 CRDi S': 5.0,\n",
       " 'Hyundai Xcent 1.1 CRDi SX Option': 13.0,\n",
       " 'Hyundai Xcent 1.2 CRDi E Plus': 12.0,\n",
       " 'Hyundai Xcent 1.2 CRDi S': 6.0,\n",
       " 'Hyundai Xcent 1.2 Kappa AT S Option': 7.0,\n",
       " 'Hyundai Xcent 1.2 Kappa Base': 10.0,\n",
       " 'Hyundai Xcent 1.2 Kappa S': 14.0,\n",
       " 'Hyundai Xcent 1.2 Kappa S Option': 9.0,\n",
       " 'Hyundai Xcent 1.2 Kappa S Option CNG': 5.0,\n",
       " 'Hyundai Xcent 1.2 Kappa SX': 7.0,\n",
       " 'Hyundai Xcent 1.2 Kappa SX Option': 16.0,\n",
       " 'Hyundai Xcent 1.2 VTVT S': 7.0,\n",
       " 'Hyundai Xcent 1.2 VTVT SX': 3.0,\n",
       " 'Hyundai i10 Asta': 11.0,\n",
       " 'Hyundai i10 Asta 1.2 AT with Sunroof': 4.0,\n",
       " 'Hyundai i10 Asta Sunroof AT': 16.0,\n",
       " 'Hyundai i10 Era': 9.0,\n",
       " 'Hyundai i10 Era 1.1': 10.0,\n",
       " 'Hyundai i10 Era 1.1 iTech SE': 12.0,\n",
       " 'Hyundai i10 Magna': 8.0,\n",
       " 'Hyundai i10 Magna 1.1': 6.0,\n",
       " 'Hyundai i10 Magna 1.1L': 5.0,\n",
       " 'Hyundai i10 Magna 1.2': 5.0,\n",
       " 'Hyundai i10 Magna 1.2 iTech SE': 7.0,\n",
       " 'Hyundai i10 Magna AT': 5.0,\n",
       " 'Hyundai i10 Magna LPG': 8.0,\n",
       " 'Hyundai i10 Magna Optional 1.1L': 8.0,\n",
       " 'Hyundai i10 Sportz': 5.0,\n",
       " 'Hyundai i10 Sportz 1.1L': 6.0,\n",
       " 'Hyundai i10 Sportz 1.2': 7.0,\n",
       " 'Hyundai i10 Sportz 1.2 AT': 4.0,\n",
       " 'Hyundai i10 Sportz AT': 8.0,\n",
       " 'Hyundai i20 1.2 Asta': 9.0,\n",
       " 'Hyundai i20 1.2 Asta Option': 9.0,\n",
       " 'Hyundai i20 1.2 Era': 33.0,\n",
       " 'Hyundai i20 1.2 Magna': 6.0,\n",
       " 'Hyundai i20 1.2 Magna Executive': 7.0,\n",
       " 'Hyundai i20 1.2 Sportz': 8.0,\n",
       " 'Hyundai i20 1.2 Sportz Option': 6.0,\n",
       " 'Hyundai i20 1.2 Spotz': 6.0,\n",
       " 'Hyundai i20 1.4 Asta': 4.0,\n",
       " 'Hyundai i20 1.4 Asta CRDi with AVN': 24.0,\n",
       " 'Hyundai i20 1.4 CRDi Asta': 3.0,\n",
       " 'Hyundai i20 1.4 CRDi Magna': 5.0,\n",
       " 'Hyundai i20 1.4 CRDi Sportz': 5.0,\n",
       " 'Hyundai i20 1.4 Sportz': 4.0,\n",
       " 'Hyundai i20 2015-2017 1.2 Asta with AVN': 4.0,\n",
       " 'Hyundai i20 2015-2017 1.4 Magna ABS': 4.0,\n",
       " 'Hyundai i20 Active 1.2 SX': 8.0,\n",
       " 'Hyundai i20 Active 1.4 SX': 6.0,\n",
       " 'Hyundai i20 Active 1.4 SX Dual Tone': 6.0,\n",
       " 'Hyundai i20 Active SX Petrol': 7.0,\n",
       " 'Hyundai i20 Asta': 8.0,\n",
       " 'Hyundai i20 Asta (o) 1.4 CRDi (Diesel)': 8.0,\n",
       " 'Hyundai i20 Asta 1.2': 4.0,\n",
       " 'Hyundai i20 Asta 1.4 CRDi': 4.0,\n",
       " 'Hyundai i20 Asta Option 1.2': 3.0,\n",
       " 'Hyundai i20 Asta Option 1.4 CRDi': 8.0,\n",
       " 'Hyundai i20 Magna': 7.0,\n",
       " 'Hyundai i20 Magna 1.2': 5.0,\n",
       " 'Hyundai i20 Magna 1.4 CRDi': 11.0,\n",
       " 'Hyundai i20 Magna 1.4 CRDi (Diesel)': 11.0,\n",
       " 'Hyundai i20 Magna Optional 1.2': 5.0,\n",
       " 'Hyundai i20 Magna Optional 1.4 CRDi': 7.0,\n",
       " 'Hyundai i20 Sportz 1.2': 6.0,\n",
       " 'Hyundai i20 Sportz 1.4 CRDi': 6.0,\n",
       " 'Hyundai i20 Sportz AT 1.4': 6.0,\n",
       " 'Hyundai i20 Sportz Diesel': 6.0,\n",
       " 'Hyundai i20 Sportz Option': 14.0,\n",
       " 'Hyundai i20 Sportz Option 1.2': 10.0,\n",
       " 'Hyundai i20 Sportz Option Diesel': 4.0,\n",
       " 'Hyundai i20 Sportz Petrol': 9.0,\n",
       " 'ISUZU D-MAX V-Cross 4X4': 4.0,\n",
       " 'Isuzu MUX 4WD': 10.0,\n",
       " 'Jaguar F Type 5.0 V8 S': 3.0,\n",
       " 'Jaguar XE 2.0L Diesel Prestige': 6.0,\n",
       " 'Jaguar XE Portfolio': 5.0,\n",
       " 'Jaguar XF 2.2 Litre Executive': 2.0,\n",
       " 'Jaguar XF 2.2 Litre Luxury': 6.0,\n",
       " 'Jaguar XF 3.0 Litre S Premium Luxury': 5.0,\n",
       " 'Jaguar XF Diesel': 7.0,\n",
       " 'Jaguar XJ 3.0L Portfolio': 11.0,\n",
       " 'Jeep Compass 2.0 Limited': 7.0,\n",
       " 'Jeep Compass 2.0 Limited 4X4': 5.0,\n",
       " 'Jeep Compass 2.0 Limited Option 4X4': 4.0,\n",
       " 'Jeep Compass 2.0 Longitude': 10.0,\n",
       " 'Jeep Compass 2.0 Sport': 13.0,\n",
       " 'Land Rover Discovery SE 3.0 TD6': 4.0,\n",
       " 'Land Rover Discovery Sport SD4 HSE Luxury': 6.0,\n",
       " 'Land Rover Discovery Sport TD4 HSE': 9.0,\n",
       " 'Land Rover Discovery Sport TD4 HSE 7S': 6.0,\n",
       " 'Land Rover Freelander 2 SE': 11.0,\n",
       " 'Land Rover Freelander 2 TD4 SE': 4.0,\n",
       " 'Land Rover Range Rover 2.2L Dynamic': 14.0,\n",
       " 'Land Rover Range Rover 2.2L Prestige': 8.0,\n",
       " 'Land Rover Range Rover 2.2L Pure': 7.0,\n",
       " 'Land Rover Range Rover 3.0 D': 2.0,\n",
       " 'Land Rover Range Rover Evoque 2.0 TD4 HSE Dynamic': 9.0,\n",
       " 'Land Rover Range Rover HSE Dynamic': 6.0,\n",
       " 'Land Rover Range Rover Sport 2005 2012 HSE': 11.0,\n",
       " 'Land Rover Range Rover Sport 2005 2012 Sport': 4.0,\n",
       " 'Land Rover Range Rover Sport SE': 8.0,\n",
       " 'Land Rover Range Rover Vogue SE 4.4 SDV8': 7.0,\n",
       " 'Mahindra Bolero VLX CRDe': 2.0,\n",
       " 'Mahindra Bolero ZLX': 5.0,\n",
       " 'Mahindra E Verito D4': 5.0,\n",
       " 'Mahindra KUV 100 mFALCON D75 K4': 9.0,\n",
       " 'Mahindra KUV 100 mFALCON D75 K4 Plus 5str': 30.0,\n",
       " 'Mahindra KUV 100 mFALCON G80 K8': 24.0,\n",
       " 'Mahindra Logan Petrol 1.4 GLE': 2.0,\n",
       " 'Mahindra NuvoSport N6': 7.0,\n",
       " 'Mahindra Quanto C2': 5.0,\n",
       " 'Mahindra Renault Logan 1.5 DLE Diesel': 7.0,\n",
       " 'Mahindra Scorpio 1.99 S10': 17.0,\n",
       " 'Mahindra Scorpio 1.99 S10 4WD': 5.0,\n",
       " 'Mahindra Scorpio 1.99 S8': 11.0,\n",
       " 'Mahindra Scorpio 2.6 CRDe': 5.0,\n",
       " 'Mahindra Scorpio 2.6 DX': 4.0,\n",
       " 'Mahindra Scorpio 2.6 LX': 10.0,\n",
       " 'Mahindra Scorpio 2009-2014 VLX 2WD 7S BSIV': 5.0,\n",
       " 'Mahindra Scorpio S10 4WD': 2.0,\n",
       " 'Mahindra Scorpio S10 AT 4WD': 6.0,\n",
       " 'Mahindra Scorpio S4 Plus': 3.0,\n",
       " 'Mahindra Scorpio S6 7 Seater': 7.0,\n",
       " 'Mahindra Scorpio S8 8 Seater': 7.0,\n",
       " 'Mahindra Scorpio SLE BSIV': 5.0,\n",
       " 'Mahindra Scorpio VLX': 5.0,\n",
       " 'Mahindra Scorpio VLX 2.2 mHawk Airbag BSIV': 10.0,\n",
       " 'Mahindra Scorpio VLX 2.2 mHawk BSIII': 6.0,\n",
       " 'Mahindra Scorpio VLX 2WD Airbag BSIII': 3.0,\n",
       " 'Mahindra Scorpio VLX 4WD': 6.0,\n",
       " 'Mahindra Scorpio VLX 4WD AIRBAG AT BSIV': 2.0,\n",
       " 'Mahindra Ssangyong Rexton RX5': 5.0,\n",
       " 'Mahindra Ssangyong Rexton RX7': 8.0,\n",
       " 'Mahindra TUV 300 2015-2019 T8': 10.0,\n",
       " 'Mahindra TUV 300 2015-2019 mHAWK100 T8': 7.0,\n",
       " 'Mahindra Thar CRDe': 10.0,\n",
       " 'Mahindra Thar CRDe AC': 3.0,\n",
       " 'Mahindra Verito 1.5 D6 BSIV': 3.0,\n",
       " 'Mahindra XUV500 AT W10 FWD': 5.0,\n",
       " 'Mahindra XUV500 AT W8 FWD': 3.0,\n",
       " 'Mahindra XUV500 W10 1.99 mHawk': 12.0,\n",
       " 'Mahindra XUV500 W10 2WD': 6.0,\n",
       " 'Mahindra XUV500 W10 AWD': 7.0,\n",
       " 'Mahindra XUV500 W4': 3.0,\n",
       " 'Mahindra XUV500 W6 2WD': 7.0,\n",
       " 'Mahindra XUV500 W8 1.99 mHawk': 8.0,\n",
       " 'Mahindra XUV500 W8 2WD': 10.0,\n",
       " 'Mahindra XUV500 W8 4WD': 6.0,\n",
       " 'Mahindra Xylo D2 BSIV': 8.0,\n",
       " 'Mahindra Xylo D4': 6.0,\n",
       " 'Mahindra Xylo D4 BS III': 6.0,\n",
       " 'Mahindra Xylo E2': 4.0,\n",
       " 'Mahindra Xylo E4': 4.0,\n",
       " 'Mahindra Xylo E4 ABS BS III': 3.0,\n",
       " 'Mahindra Xylo H4': 6.0,\n",
       " 'Maruti 800 AC': 5.0,\n",
       " 'Maruti 800 DX BSII': 6.0,\n",
       " 'Maruti 800 Std': 10.0,\n",
       " 'Maruti 800 Std BSIII': 6.0,\n",
       " 'Maruti A-Star AT VXI': 8.0,\n",
       " 'Maruti A-Star Lxi': 6.0,\n",
       " 'Maruti A-Star Vxi': 7.0,\n",
       " 'Maruti Alto 800 2016-2019 CNG LXI': 5.0,\n",
       " 'Maruti Alto 800 2016-2019 LXI': 9.0,\n",
       " 'Maruti Alto 800 2016-2019 LXI Optional': 5.0,\n",
       " 'Maruti Alto 800 2016-2019 VXI': 7.0,\n",
       " 'Maruti Alto 800 LXI': 7.0,\n",
       " 'Maruti Alto 800 VXI': 5.0,\n",
       " 'Maruti Alto Green LXi (CNG)': 7.0,\n",
       " 'Maruti Alto K10 2010-2014 VXI': 6.0,\n",
       " 'Maruti Alto K10 LXI': 4.0,\n",
       " 'Maruti Alto K10 LXI CNG Optional': 5.0,\n",
       " 'Maruti Alto K10 LXI Optional': 15.0,\n",
       " 'Maruti Alto K10 VXI': 4.0,\n",
       " 'Maruti Alto K10 VXI AGS': 5.0,\n",
       " 'Maruti Alto LX': 6.0,\n",
       " 'Maruti Alto LXi': 8.0,\n",
       " 'Maruti Alto LXi BSIII': 10.0,\n",
       " 'Maruti Alto Std': 8.0,\n",
       " 'Maruti Alto Vxi 1.1': 17.0,\n",
       " 'Maruti Baleno Alpha': 10.0,\n",
       " 'Maruti Baleno Alpha 1.2': 7.0,\n",
       " 'Maruti Baleno Alpha 1.3': 9.0,\n",
       " 'Maruti Baleno Alpha Automatic': 8.0,\n",
       " 'Maruti Baleno Alpha CVT': 6.0,\n",
       " 'Maruti Baleno Alpha Diesel': 3.0,\n",
       " 'Maruti Baleno Delta': 7.0,\n",
       " 'Maruti Baleno Delta 1.2': 10.0,\n",
       " 'Maruti Baleno Delta Automatic': 25.0,\n",
       " 'Maruti Baleno LXI': 4.0,\n",
       " 'Maruti Baleno RS 1.0 Petrol': 6.0,\n",
       " 'Maruti Baleno RS Petrol': 9.0,\n",
       " 'Maruti Baleno Sigma 1.2': 9.0,\n",
       " 'Maruti Baleno Vxi - BSIII': 3.0,\n",
       " 'Maruti Baleno Zeta': 14.0,\n",
       " 'Maruti Baleno Zeta 1.2': 6.0,\n",
       " 'Maruti Baleno Zeta Automatic': 6.0,\n",
       " 'Maruti Baleno Zeta CVT': 6.0,\n",
       " 'Maruti Celerio CNG VXI MT': 4.0,\n",
       " 'Maruti Celerio LDi': 4.0,\n",
       " 'Maruti Celerio LXI': 2.0,\n",
       " 'Maruti Celerio VXI': 5.0,\n",
       " 'Maruti Celerio VXI AMT': 6.0,\n",
       " 'Maruti Celerio VXI AT': 6.0,\n",
       " 'Maruti Celerio ZDi': 5.0,\n",
       " 'Maruti Celerio ZXI': 3.0,\n",
       " 'Maruti Celerio ZXI AT': 5.0,\n",
       " 'Maruti Celerio ZXI MT': 5.0,\n",
       " 'Maruti Ciaz 1.3 S': 7.0,\n",
       " 'Maruti Ciaz 1.4 AT Alpha': 5.0,\n",
       " 'Maruti Ciaz AT ZXi': 6.0,\n",
       " 'Maruti Ciaz Alpha': 4.0,\n",
       " 'Maruti Ciaz RS ZDi Plus SHVS': 3.0,\n",
       " 'Maruti Ciaz VDi Plus': 4.0,\n",
       " 'Maruti Ciaz VDi Plus SHVS': 8.0,\n",
       " 'Maruti Ciaz VXi Plus': 9.0,\n",
       " 'Maruti Ciaz ZDi Plus': 8.0,\n",
       " 'Maruti Ciaz ZDi Plus SHVS': 8.0,\n",
       " 'Maruti Ciaz ZXi': 6.0,\n",
       " 'Maruti Ciaz ZXi Option': 6.0,\n",
       " 'Maruti Ciaz ZXi Plus': 4.0,\n",
       " 'Maruti Ciaz Zeta': 6.0,\n",
       " 'Maruti Dzire AMT ZDI Plus': 10.0,\n",
       " 'Maruti Dzire AMT ZXI Plus': 4.0,\n",
       " 'Maruti Dzire LDI': 7.0,\n",
       " 'Maruti Dzire VDI': 4.0,\n",
       " 'Maruti Dzire VXI': 4.0,\n",
       " 'Maruti Dzire ZDI': 12.0,\n",
       " 'Maruti Eeco 5 STR With AC Plus HTR CNG': 7.0,\n",
       " 'Maruti Eeco 7 Seater Standard': 7.0,\n",
       " 'Maruti Eeco CNG 5 Seater AC': 6.0,\n",
       " 'Maruti Ertiga LXI': 7.0,\n",
       " 'Maruti Ertiga SHVS VDI': 11.0,\n",
       " 'Maruti Ertiga SHVS ZDI Plus': 5.0,\n",
       " 'Maruti Ertiga VDI': 9.0,\n",
       " 'Maruti Ertiga VXI': 9.0,\n",
       " 'Maruti Ertiga VXI CNG': 7.0,\n",
       " 'Maruti Ertiga ZDI': 8.0,\n",
       " 'Maruti Ertiga ZXI': 5.0,\n",
       " 'Maruti Esteem Vxi - BSIII': 9.0,\n",
       " 'Maruti Estilo LXI': 4.0,\n",
       " 'Maruti Grand Vitara AT': 7.0,\n",
       " 'Maruti Grand Vitara MT': 3.0,\n",
       " 'Maruti Ignis 1.2 AMT Alpha': 9.0,\n",
       " 'Maruti Ignis 1.2 Alpha': 7.0,\n",
       " 'Maruti Ignis 1.2 Delta': 5.0,\n",
       " 'Maruti Omni 5 Seater BSIV': 12.0,\n",
       " 'Maruti Omni 8 Seater BSII': 6.0,\n",
       " 'Maruti Omni 8 Seater BSIV': 3.0,\n",
       " 'Maruti Omni E 8 Str STD': 4.0,\n",
       " 'Maruti Omni MPI STD BSIV': 6.0,\n",
       " 'Maruti Ritz LDi': 9.0,\n",
       " 'Maruti Ritz LXi': 7.0,\n",
       " 'Maruti Ritz VDi': 7.0,\n",
       " 'Maruti Ritz VXI': 12.0,\n",
       " 'Maruti Ritz VXi': 7.0,\n",
       " 'Maruti Ritz ZDi': 7.0,\n",
       " 'Maruti Ritz ZXi': 15.0,\n",
       " 'Maruti S Cross DDiS 200 Alpha': 43.0,\n",
       " 'Maruti S Cross DDiS 320 Alpha': 6.0,\n",
       " 'Maruti S-Cross Alpha DDiS 200 SH': 3.0,\n",
       " 'Maruti S-Cross Delta DDiS 200 SH': 19.0,\n",
       " 'Maruti S-Cross Zeta DDiS 200 SH': 24.0,\n",
       " 'Maruti SX4 Green Vxi (CNG)': 4.0,\n",
       " 'Maruti SX4 S Cross DDiS 200 Zeta': 4.0,\n",
       " 'Maruti SX4 S Cross DDiS 320 Zeta': 8.0,\n",
       " 'Maruti SX4 Vxi BSIII': 9.0,\n",
       " 'Maruti SX4 Vxi BSIV': 13.0,\n",
       " 'Maruti SX4 ZDI': 5.0,\n",
       " 'Maruti SX4 ZXI AT Leather': 4.0,\n",
       " 'Maruti SX4 ZXI MT BSIV': 6.0,\n",
       " 'Maruti SX4 Zxi BSIII': 3.0,\n",
       " 'Maruti SX4 Zxi with Leather BSIII': 8.0,\n",
       " 'Maruti Swift 1.3 LXI': 5.0,\n",
       " 'Maruti Swift 1.3 VXi': 2.0,\n",
       " 'Maruti Swift 1.3 ZXI': 5.0,\n",
       " 'Maruti Swift DDiS VDI': 9.0,\n",
       " 'Maruti Swift DDiS ZDI Plus': 4.0,\n",
       " 'Maruti Swift Dzire 1.2 Lxi BSIV': 9.0,\n",
       " 'Maruti Swift Dzire 1.2 Vxi BSIV': 8.0,\n",
       " 'Maruti Swift Dzire AMT ZDI': 9.0,\n",
       " 'Maruti Swift Dzire LDI': 5.0,\n",
       " 'Maruti Swift Dzire LDi': 5.0,\n",
       " 'Maruti Swift Dzire LXI': 6.0,\n",
       " 'Maruti Swift Dzire Ldi BSIV': 2.0,\n",
       " 'Maruti Swift Dzire Tour LDI': 8.0,\n",
       " 'Maruti Swift Dzire VDI': 8.0,\n",
       " 'Maruti Swift Dzire VDI Optional': 3.0,\n",
       " 'Maruti Swift Dzire VDi': 4.0,\n",
       " 'Maruti Swift Dzire VXI': 8.0,\n",
       " 'Maruti Swift Dzire VXI Optional': 6.0,\n",
       " 'Maruti Swift Dzire VXi': 6.0,\n",
       " 'Maruti Swift Dzire Vdi BSIV': 6.0,\n",
       " 'Maruti Swift Dzire ZDI': 5.0,\n",
       " 'Maruti Swift Dzire ZXI': 12.0,\n",
       " 'Maruti Swift Dzire ZXi': 7.0,\n",
       " 'Maruti Swift LDI': 4.0,\n",
       " 'Maruti Swift LDI BSIV': 4.0,\n",
       " 'Maruti Swift LDI Optional': 10.0,\n",
       " 'Maruti Swift LXI': 2.0,\n",
       " 'Maruti Swift Ldi BSIII': 6.0,\n",
       " 'Maruti Swift Ldi BSIV': 3.0,\n",
       " 'Maruti Swift Lxi BSIII': 5.0,\n",
       " 'Maruti Swift VDI': 8.0,\n",
       " 'Maruti Swift VDI BSIV': 6.0,\n",
       " 'Maruti Swift VDI BSIV W ABS': 7.0,\n",
       " 'Maruti Swift VDI Optional': 20.0,\n",
       " 'Maruti Swift VDi BSIII W/ ABS': 4.0,\n",
       " 'Maruti Swift VXI': 11.0,\n",
       " 'Maruti Swift VXI BSIII': 5.0,\n",
       " 'Maruti Swift VXI BSIII W/ ABS': 5.0,\n",
       " 'Maruti Swift VXI BSIV': 7.0,\n",
       " 'Maruti Swift VXI Optional': 6.0,\n",
       " 'Maruti Swift VXi BSIV': 7.0,\n",
       " 'Maruti Swift Vdi BSIII': 8.0,\n",
       " 'Maruti Swift ZDi': 6.0,\n",
       " 'Maruti Swift ZXI': 5.0,\n",
       " 'Maruti Swift ZXI ABS': 5.0,\n",
       " 'Maruti Swift ZXI Plus': 3.0,\n",
       " 'Maruti Vitara Brezza LDi': 6.0,\n",
       " 'Maruti Vitara Brezza VDi': 8.0,\n",
       " 'Maruti Vitara Brezza VDi Option': 9.0,\n",
       " 'Maruti Vitara Brezza ZDi': 13.0,\n",
       " 'Maruti Vitara Brezza ZDi Plus': 9.0,\n",
       " 'Maruti Vitara Brezza ZDi Plus AMT Dual Tone': 9.0,\n",
       " 'Maruti Vitara Brezza ZDi Plus Dual Tone': 6.0,\n",
       " 'Maruti Wagon R AMT VXI': 6.0,\n",
       " 'Maruti Wagon R CNG LXI': 4.0,\n",
       " 'Maruti Wagon R Duo LX BSIII': 4.0,\n",
       " 'Maruti Wagon R Duo Lxi': 3.0,\n",
       " 'Maruti Wagon R LX': 7.0,\n",
       " 'Maruti Wagon R LX BSIII': 9.0,\n",
       " 'Maruti Wagon R LX DUO BSIII': 6.0,\n",
       " 'Maruti Wagon R LXI': 5.0,\n",
       " 'Maruti Wagon R LXI BS IV': 6.0,\n",
       " 'Maruti Wagon R LXI BSIII': 8.0,\n",
       " 'Maruti Wagon R LXI CNG': 4.0,\n",
       " 'Maruti Wagon R LXI DUO BSIII': 6.0,\n",
       " 'Maruti Wagon R LXI LPG BSIV': 9.0,\n",
       " 'Maruti Wagon R LXI Minor': 5.0,\n",
       " 'Maruti Wagon R LXI Optional': 5.0,\n",
       " 'Maruti Wagon R Stingray LXI': 9.0,\n",
       " 'Maruti Wagon R Stingray VXI': 6.0,\n",
       " 'Maruti Wagon R VXI': 5.0,\n",
       " 'Maruti Wagon R VXI 1.2': 6.0,\n",
       " 'Maruti Wagon R VXI AMT': 6.0,\n",
       " 'Maruti Wagon R VXI AMT1.2': 6.0,\n",
       " 'Maruti Wagon R VXI BS IV': 7.0,\n",
       " 'Maruti Wagon R VXI BSIII': 6.0,\n",
       " 'Maruti Wagon R Vx': 5.0,\n",
       " 'Maruti Wagon R ZXI AMT 1.2': 3.0,\n",
       " 'Maruti Zen Estilo 1.1 LX BSIII': 9.0,\n",
       " 'Maruti Zen Estilo 1.1 VXI BSIII': 10.0,\n",
       " 'Maruti Zen Estilo LXI BS IV': 11.0,\n",
       " 'Maruti Zen Estilo LXI BSIII': 8.0,\n",
       " 'Maruti Zen Estilo LXI Green (CNG)': 7.0,\n",
       " 'Maruti Zen Estilo VXI BSIII': 15.0,\n",
       " 'Maruti Zen LX': 10.0,\n",
       " 'Maruti Zen LXI': 4.0,\n",
       " 'Maruti Zen LXi - BS III': 29.0,\n",
       " 'Maruti Zen VXI BSII': 6.0,\n",
       " 'Mercedes-Benz A Class A180 CDI': 8.0,\n",
       " 'Mercedes-Benz A Class A180 Sport': 8.0,\n",
       " 'Mercedes-Benz B Class B180': 7.0,\n",
       " 'Mercedes-Benz B Class B200 CDI': 5.0,\n",
       " 'Mercedes-Benz C-Class Progressive C 220d': 4.0,\n",
       " 'Mercedes-Benz CLA 200 CDI Sport': 9.0,\n",
       " 'Mercedes-Benz CLA 200 CGI Sport': 18.0,\n",
       " 'Mercedes-Benz CLA 200 D Sport Edition': 4.0,\n",
       " 'Mercedes-Benz CLA 200 Sport Edition': 5.0,\n",
       " 'Mercedes-Benz E-Class 200 Kompressor Elegance': 6.0,\n",
       " 'Mercedes-Benz E-Class 2009-2013 E 220 CDI Avantgarde': 10.0,\n",
       " 'Mercedes-Benz E-Class 2009-2013 E 250 Elegance': 5.0,\n",
       " 'Mercedes-Benz E-Class 2009-2013 E200 CGI Blue Efficiency': 6.0,\n",
       " 'Mercedes-Benz E-Class 2009-2013 E250 CDI Avantgarde': 18.0,\n",
       " 'Mercedes-Benz E-Class 2009-2013 E250 CDI Blue Efficiency': 9.0,\n",
       " 'Mercedes-Benz E-Class 2009-2013 E250 CDI Elegance': 6.0,\n",
       " 'Mercedes-Benz E-Class 2009-2013 E350 Petrol': 6.0,\n",
       " 'Mercedes-Benz E-Class 2015-2017 E250 CDI Avantgarde': 6.0,\n",
       " 'Mercedes-Benz E-Class 2015-2017 E250 Edition E': 8.0,\n",
       " 'Mercedes-Benz E-Class 2015-2017 E350 CDI Avantgrade': 9.0,\n",
       " 'Mercedes-Benz E-Class 220 CDI': 4.0,\n",
       " 'Mercedes-Benz E-Class 230': 11.0,\n",
       " 'Mercedes-Benz E-Class 230 E AT': 14.0,\n",
       " 'Mercedes-Benz E-Class 280 CDI': 5.0,\n",
       " 'Mercedes-Benz E-Class E 200 CGI': 3.0,\n",
       " 'Mercedes-Benz E-Class E 220 d': 5.0,\n",
       " 'Mercedes-Benz E-Class E 350 d': 9.0,\n",
       " 'Mercedes-Benz E-Class E250 CDI Avantgrade': 7.0,\n",
       " 'Mercedes-Benz E-Class E250 CDI Launch Edition': 8.0,\n",
       " 'Mercedes-Benz E-Class E270 CDI': 5.0,\n",
       " 'Mercedes-Benz E-Class E400 Cabriolet': 6.0,\n",
       " 'Mercedes-Benz E-Class Facelift': 4.0,\n",
       " 'Mercedes-Benz GL-Class 2007 2012 350 CDI Luxury': 7.0,\n",
       " 'Mercedes-Benz GL-Class 350 CDI Blue Efficiency': 7.0,\n",
       " 'Mercedes-Benz GLA Class 200 CDI': 9.0,\n",
       " 'Mercedes-Benz GLA Class 200 CDI SPORT': 8.0,\n",
       " 'Mercedes-Benz GLA Class 200 Sport Edition': 5.0,\n",
       " 'Mercedes-Benz GLA Class 200 d Style': 6.0,\n",
       " 'Mercedes-Benz GLC 220': 4.0,\n",
       " 'Mercedes-Benz GLC 220d 4MATIC Style': 12.0,\n",
       " 'Mercedes-Benz GLE 250d': 5.0,\n",
       " 'Mercedes-Benz GLE 350d': 7.0,\n",
       " 'Mercedes-Benz GLS 350d Grand Edition': 5.0,\n",
       " 'Mercedes-Benz M-Class ML 250 CDI': 9.0,\n",
       " 'Mercedes-Benz M-Class ML 320 CDI': 7.0,\n",
       " 'Mercedes-Benz M-Class ML 350 4Matic': 9.0,\n",
       " 'Mercedes-Benz M-Class ML 350 CDI': 4.0,\n",
       " 'Mercedes-Benz M-Class ML 350 CDI Corporate': 3.0,\n",
       " 'Mercedes-Benz New C-Class 200 CDI Classic': 9.0,\n",
       " 'Mercedes-Benz New C-Class 200 Kompressor': 24.0,\n",
       " 'Mercedes-Benz New C-Class 220 CDI AT': 4.0,\n",
       " 'Mercedes-Benz New C-Class 220 CDI MT': 4.0,\n",
       " 'Mercedes-Benz New C-Class C 200 CGI': 5.0,\n",
       " 'Mercedes-Benz New C-Class C 200 CGI Avantgarde': 6.0,\n",
       " 'Mercedes-Benz New C-Class C 200 Kompressor Elegance AT': 11.0,\n",
       " 'Mercedes-Benz New C-Class C 220 CDI Avantgarde': 10.0,\n",
       " 'Mercedes-Benz New C-Class C 220 CDI BE Avantgare': 5.0,\n",
       " 'Mercedes-Benz New C-Class C 220 CDI CLASSIC': 5.0,\n",
       " 'Mercedes-Benz New C-Class C 220 CDI Elegance AT': 4.0,\n",
       " 'Mercedes-Benz New C-Class C 220 CDI Style': 5.0,\n",
       " 'Mercedes-Benz New C-Class C 220d Avantgarde Edition C': 5.0,\n",
       " 'Mercedes-Benz New C-Class C 250 CDI Avantgarde': 8.0,\n",
       " 'Mercedes-Benz New C-Class C 250 CDI Elegance': 4.0,\n",
       " 'Mercedes-Benz New C-Class C220 CDI Executive Edition': 3.0,\n",
       " 'Mercedes-Benz New C-Class C250 Avantgarde': 6.0,\n",
       " 'Mercedes-Benz New C-Class Progressive C 200': 3.0,\n",
       " 'Mercedes-Benz R-Class R350 4Matic Long': 9.0,\n",
       " 'Mercedes-Benz S Class 2005 2013 320 CDI': 10.0,\n",
       " 'Mercedes-Benz S Class 2005 2013 S 350 CDI': 10.0,\n",
       " 'Mercedes-Benz S Class 2005 2013 S 350 L': 6.0,\n",
       " 'Mercedes-Benz S-Class 280 AT': 1.0,\n",
       " 'Mercedes-Benz S-Class 320 L': 2.0,\n",
       " 'Mercedes-Benz S-Class S 350 d': 40.0,\n",
       " 'Mercedes-Benz SLC 43 AMG': 5.0,\n",
       " 'Mercedes-Benz SLK-Class 55 AMG': 5.0,\n",
       " 'Mercedes-Benz SLK-Class SLK 350': 6.0,\n",
       " 'Mini Clubman Cooper S': 4.0,\n",
       " 'Mini Cooper 3 DOOR D': 3.0,\n",
       " 'Mini Cooper 3 DOOR S': 6.0,\n",
       " 'Mini Cooper 5 DOOR D': 6.0,\n",
       " 'Mini Cooper Convertible S': 6.0,\n",
       " 'Mini Cooper Countryman D': 7.0,\n",
       " 'Mini Cooper Countryman D High': 7.0,\n",
       " 'Mini Cooper S Carbon Edition': 5.0,\n",
       " 'Mini Countryman Cooper D': 6.0,\n",
       " 'Mitsubishi Cedia Sports': 10.0,\n",
       " 'Mitsubishi Outlander 2.4': 5.0,\n",
       " 'Mitsubishi Pajero 2.8 GLX CRZ': 5.0,\n",
       " 'Mitsubishi Pajero 2.8 GLX Sports': 3.0,\n",
       " 'Mitsubishi Pajero 2.8 SFX': 3.0,\n",
       " 'Mitsubishi Pajero 2.8 SFX BSIV Dual Tone': 5.0,\n",
       " 'Mitsubishi Pajero 4X4 LHD': 3.0,\n",
       " 'Mitsubishi Pajero Sport 4X2 AT DualTone BlackTop': 3.0,\n",
       " 'Mitsubishi Pajero Sport 4X4': 6.0,\n",
       " 'Mitsubishi Pajero Sport 4X4 AT': 7.0,\n",
       " 'Nissan Micra Active XV': 3.0,\n",
       " 'Nissan Micra Active XV S': 9.0,\n",
       " 'Nissan Micra Diesel XV': 3.0,\n",
       " 'Nissan Micra Diesel XV Premium': 6.0,\n",
       " 'Nissan Micra XL': 9.0,\n",
       " 'Nissan Micra XV CVT': 4.0,\n",
       " 'Nissan Micra XV D': 5.0,\n",
       " 'Nissan Micra XV Primo': 13.0,\n",
       " 'Nissan Sunny 2011-2014 Diesel XL': 5.0,\n",
       " 'Nissan Sunny 2011-2014 Diesel XV': 2.0,\n",
       " 'Nissan Sunny 2011-2014 XL': 8.0,\n",
       " 'Nissan Sunny 2011-2014 XL AT Special Edition': 4.0,\n",
       " 'Nissan Sunny 2011-2014 XV Special Edition': 3.0,\n",
       " 'Nissan Sunny XE P': 7.0,\n",
       " 'Nissan Terrano XL': 5.0,\n",
       " 'Nissan Terrano XL 110 PS': 6.0,\n",
       " 'Nissan Terrano XL D Option': 5.0,\n",
       " 'Nissan Terrano XL Plus 85 PS': 2.0,\n",
       " 'Nissan Terrano XV 110 PS': 3.0,\n",
       " 'Nissan Terrano XV D Pre': 5.0,\n",
       " 'Nissan Terrano XV Premium 110 PS': 5.0,\n",
       " 'Nissan Terrano XV Premium 110 PS Anniversary Edition': 6.0,\n",
       " 'Nissan X-Trail SLX MT': 4.0,\n",
       " 'Porsche Cayenne 2009-2014 Turbo': 8.0,\n",
       " 'Porsche Cayman 2009-2012 S': 4.0,\n",
       " 'Porsche Panamera 2010 2013 Diesel': 3.0,\n",
       " 'Porsche Panamera Diesel': 6.0,\n",
       " 'Renault Captur 1.5 Diesel Platine Mono': 4.0,\n",
       " 'Renault Duster 110PS Diesel RxL': 7.0,\n",
       " 'Renault Duster 110PS Diesel RxZ': 6.0,\n",
       " 'Renault Duster 110PS Diesel RxZ AMT': 6.0,\n",
       " 'Renault Duster 110PS Diesel RxZ AWD': 6.0,\n",
       " 'Renault Duster 110PS Diesel RxZ Pack': 2.0,\n",
       " 'Renault Duster 85PS Diesel RxE': 7.0,\n",
       " 'Renault Duster 85PS Diesel RxL': 9.0,\n",
       " 'Renault Duster 85PS Diesel RxL Explore': 4.0,\n",
       " 'Renault Duster 85PS Diesel RxL Option': 6.0,\n",
       " 'Renault Duster 85PS Diesel RxL Optional': 4.0,\n",
       " 'Renault Duster 85PS Diesel RxL Optional with Nav': 6.0,\n",
       " 'Renault Duster Petrol RxL': 5.0,\n",
       " 'Renault Fluence 2.0': 4.0,\n",
       " 'Renault Fluence Diesel E4': 7.0,\n",
       " 'Renault KWID 1.0 RXT Optional': 6.0,\n",
       " 'Renault KWID 1.0 RXT Optional AMT': 8.0,\n",
       " 'Renault KWID AMT RXL': 7.0,\n",
       " 'Renault KWID Climber 1.0 AMT': 3.0,\n",
       " 'Renault KWID RXL': 7.0,\n",
       " 'Renault KWID RXT': 5.0,\n",
       " 'Renault KWID RXT Optional': 6.0,\n",
       " 'Renault Koleos 2.0 Diesel': 5.0,\n",
       " 'Renault Lodgy 110PS RxZ 8 Seater': 2.0,\n",
       " 'Renault Pulse Petrol RxL': 6.0,\n",
       " 'Renault Pulse RxL': 7.0,\n",
       " 'Renault Scala Diesel RxL': 11.0,\n",
       " 'Skoda Fabia 1.2 MPI Ambiente Petrol': 19.0,\n",
       " 'Skoda Fabia 1.2 MPI Classic': 11.0,\n",
       " 'Skoda Fabia 1.2 Petrol Active': 4.0,\n",
       " 'Skoda Fabia 1.2 TDI Ambition': 5.0,\n",
       " 'Skoda Fabia 1.4 MPI Ambiente': 6.0,\n",
       " 'Skoda Fabia 1.4 TDI Active': 10.0,\n",
       " 'Skoda Laura 1.8 TSI Ambiente': 5.0,\n",
       " 'Skoda Laura 1.9 TDI AT Ambiente': 8.0,\n",
       " 'Skoda Laura 1.9 TDI MT Ambiente': 8.0,\n",
       " 'Skoda Laura Ambiente': 4.0,\n",
       " 'Skoda Laura Ambiente 2.0 TDI CR AT': 10.0,\n",
       " 'Skoda Laura Ambiente 2.0 TDI CR MT': 10.0,\n",
       " 'Skoda Laura Ambition 2.0 TDI CR AT': 11.0,\n",
       " 'Skoda Laura Ambition 2.0 TDI CR MT': 8.0,\n",
       " 'Skoda Laura Elegance 2.0 TDI CR AT': 4.0,\n",
       " 'Skoda Laura L n K 1.9 PD AT': 7.0,\n",
       " 'Skoda Octavia 1.9 TDI': 5.0,\n",
       " 'Skoda Octavia Ambition 1.4 TSI MT': 8.0,\n",
       " 'Skoda Octavia Ambition Plus 2.0 TDI AT': 3.0,\n",
       " 'Skoda Octavia Classic 1.9 TDI MT': 5.0,\n",
       " 'Skoda Octavia Elegance 1.8 TSI AT': 5.0,\n",
       " 'Skoda Octavia Elegance 2.0 TDI AT': 9.0,\n",
       " 'Skoda Rapid 1.5 TDI AT Elegance': 5.0,\n",
       " 'Skoda Rapid 1.5 TDI AT Style': 6.0,\n",
       " 'Skoda Rapid 1.5 TDI Ambition': 5.0,\n",
       " 'Skoda Rapid 1.5 TDI Elegance': 6.0,\n",
       " 'Skoda Rapid 1.6 MPI AT Elegance Plus': 5.0,\n",
       " 'Skoda Rapid 1.6 MPI AT Style': 4.0,\n",
       " 'Skoda Rapid 1.6 MPI AT Style Plus': 3.0,\n",
       " 'Skoda Rapid 1.6 MPI Ambition': 2.0,\n",
       " 'Skoda Rapid 1.6 MPI Ambition Plus': 13.0,\n",
       " 'Skoda Rapid 1.6 TDI Ambition': 5.0,\n",
       " 'Skoda Rapid 1.6 TDI Elegance': 12.0,\n",
       " 'Skoda Rapid Leisure 1.6 TDI MT': 5.0,\n",
       " 'Skoda Superb 1.8 TSI MT': 6.0,\n",
       " 'Skoda Superb 2.5 TDi AT': 3.0,\n",
       " 'Skoda Superb 2.8 V6 AT': 5.0,\n",
       " 'Skoda Superb 3.6 V6 FSI': 5.0,\n",
       " 'Skoda Superb Elegance 1.8 TSI AT': 7.0,\n",
       " 'Skoda Superb Elegance 1.8 TSI MT': 4.0,\n",
       " 'Skoda Superb Elegance 2.0 TDI CR AT': 8.0,\n",
       " 'Skoda Superb L&K 1.8 TSI AT': 3.0,\n",
       " ...}"
      ]
     },
     "execution_count": 624,
     "metadata": {},
     "output_type": "execute_result"
    }
   ],
   "source": [
    "Name_dict = round(df.groupby(['Name'])['Price'].mean(),0).to_dict()\n",
    "Name_dict"
   ]
  },
  {
   "cell_type": "code",
   "execution_count": 625,
   "id": "7112b303",
   "metadata": {},
   "outputs": [
    {
     "data": {
      "text/plain": [
       "8236.0"
      ]
     },
     "execution_count": 625,
     "metadata": {},
     "output_type": "execute_result"
    }
   ],
   "source": [
    "sum(Name_dict.values())"
   ]
  },
  {
   "cell_type": "code",
   "execution_count": 626,
   "id": "9464fd33",
   "metadata": {},
   "outputs": [],
   "source": [
    "df['Name'] = (df['Name'].map(Name_dict))/sum(Name_dict.values())"
   ]
  },
  {
   "cell_type": "code",
   "execution_count": 627,
   "id": "ddbf6fdf",
   "metadata": {},
   "outputs": [
    {
     "data": {
      "text/html": [
       "<div>\n",
       "<style scoped>\n",
       "    .dataframe tbody tr th:only-of-type {\n",
       "        vertical-align: middle;\n",
       "    }\n",
       "\n",
       "    .dataframe tbody tr th {\n",
       "        vertical-align: top;\n",
       "    }\n",
       "\n",
       "    .dataframe thead th {\n",
       "        text-align: right;\n",
       "    }\n",
       "</style>\n",
       "<table border=\"1\" class=\"dataframe\">\n",
       "  <thead>\n",
       "    <tr style=\"text-align: right;\">\n",
       "      <th></th>\n",
       "      <th>Name</th>\n",
       "      <th>Location</th>\n",
       "      <th>Year</th>\n",
       "      <th>Kilometers_Driven</th>\n",
       "      <th>Fuel_Type</th>\n",
       "      <th>Owner_Type</th>\n",
       "      <th>Mileage</th>\n",
       "      <th>Engine</th>\n",
       "      <th>Power</th>\n",
       "      <th>Seats</th>\n",
       "      <th>Price</th>\n",
       "      <th>Transmission_Manual</th>\n",
       "    </tr>\n",
       "  </thead>\n",
       "  <tbody>\n",
       "    <tr>\n",
       "      <th>0</th>\n",
       "      <td>0.000729</td>\n",
       "      <td>0.057867</td>\n",
       "      <td>2012</td>\n",
       "      <td>33715</td>\n",
       "      <td>1</td>\n",
       "      <td>1</td>\n",
       "      <td>16.46</td>\n",
       "      <td>1248.0</td>\n",
       "      <td>100.0</td>\n",
       "      <td>5.0</td>\n",
       "      <td>25.53</td>\n",
       "      <td>1</td>\n",
       "    </tr>\n",
       "    <tr>\n",
       "      <th>1</th>\n",
       "      <td>0.000850</td>\n",
       "      <td>0.065556</td>\n",
       "      <td>2013</td>\n",
       "      <td>73977</td>\n",
       "      <td>1</td>\n",
       "      <td>1</td>\n",
       "      <td>18.60</td>\n",
       "      <td>2993.0</td>\n",
       "      <td>61.0</td>\n",
       "      <td>4.0</td>\n",
       "      <td>4.58</td>\n",
       "      <td>1</td>\n",
       "    </tr>\n",
       "    <tr>\n",
       "      <th>2</th>\n",
       "      <td>0.000850</td>\n",
       "      <td>0.065556</td>\n",
       "      <td>2007</td>\n",
       "      <td>16460</td>\n",
       "      <td>2</td>\n",
       "      <td>3</td>\n",
       "      <td>15.30</td>\n",
       "      <td>1599.0</td>\n",
       "      <td>140.0</td>\n",
       "      <td>5.0</td>\n",
       "      <td>2.37</td>\n",
       "      <td>1</td>\n",
       "    </tr>\n",
       "    <tr>\n",
       "      <th>3</th>\n",
       "      <td>0.001457</td>\n",
       "      <td>0.159022</td>\n",
       "      <td>2009</td>\n",
       "      <td>35048</td>\n",
       "      <td>3</td>\n",
       "      <td>1</td>\n",
       "      <td>25.47</td>\n",
       "      <td>1196.0</td>\n",
       "      <td>86.8</td>\n",
       "      <td>5.0</td>\n",
       "      <td>1.20</td>\n",
       "      <td>1</td>\n",
       "    </tr>\n",
       "    <tr>\n",
       "      <th>4</th>\n",
       "      <td>0.000971</td>\n",
       "      <td>0.047244</td>\n",
       "      <td>2013</td>\n",
       "      <td>41656</td>\n",
       "      <td>3</td>\n",
       "      <td>1</td>\n",
       "      <td>19.12</td>\n",
       "      <td>1999.0</td>\n",
       "      <td>115.0</td>\n",
       "      <td>7.0</td>\n",
       "      <td>33.04</td>\n",
       "      <td>0</td>\n",
       "    </tr>\n",
       "  </tbody>\n",
       "</table>\n",
       "</div>"
      ],
      "text/plain": [
       "       Name  Location  Year  Kilometers_Driven  Fuel_Type  Owner_Type  \\\n",
       "0  0.000729  0.057867  2012              33715          1           1   \n",
       "1  0.000850  0.065556  2013              73977          1           1   \n",
       "2  0.000850  0.065556  2007              16460          2           3   \n",
       "3  0.001457  0.159022  2009              35048          3           1   \n",
       "4  0.000971  0.047244  2013              41656          3           1   \n",
       "\n",
       "   Mileage  Engine  Power  Seats  Price  Transmission_Manual  \n",
       "0    16.46  1248.0  100.0    5.0  25.53                    1  \n",
       "1    18.60  2993.0   61.0    4.0   4.58                    1  \n",
       "2    15.30  1599.0  140.0    5.0   2.37                    1  \n",
       "3    25.47  1196.0   86.8    5.0   1.20                    1  \n",
       "4    19.12  1999.0  115.0    7.0  33.04                    0  "
      ]
     },
     "execution_count": 627,
     "metadata": {},
     "output_type": "execute_result"
    }
   ],
   "source": [
    "df.head()"
   ]
  },
  {
   "cell_type": "code",
   "execution_count": 628,
   "id": "3c01522e",
   "metadata": {},
   "outputs": [
    {
     "data": {
      "text/plain": [
       "Name                   float64\n",
       "Location               float64\n",
       "Year                     int64\n",
       "Kilometers_Driven        int64\n",
       "Fuel_Type                int64\n",
       "Owner_Type               int64\n",
       "Mileage                float64\n",
       "Engine                 float64\n",
       "Power                  float64\n",
       "Seats                  float64\n",
       "Price                  float64\n",
       "Transmission_Manual      uint8\n",
       "dtype: object"
      ]
     },
     "execution_count": 628,
     "metadata": {},
     "output_type": "execute_result"
    }
   ],
   "source": [
    "df.dtypes"
   ]
  },
  {
   "cell_type": "code",
   "execution_count": 629,
   "id": "95bb0d61",
   "metadata": {},
   "outputs": [
    {
     "data": {
      "text/plain": [
       "{'Mumbai': 0.19133333333333333,\n",
       " 'Hyderabad': 0.1721904761904762,\n",
       " 'Kolkata': 0.15148571428571428,\n",
       " 'Chennai': 0.10459047619047619,\n",
       " 'Jaipur': 0.08036190476190476,\n",
       " 'Delhi': 0.06588571428571428,\n",
       " 'Bangalore': 0.05851428571428571,\n",
       " 'Kochi': 0.04933333333333333,\n",
       " 'Coimbatore': 0.04836190476190476,\n",
       " 'Pune': 0.04609523809523809,\n",
       " 'Ahmedabad': 0.03184761904761905}"
      ]
     },
     "execution_count": 629,
     "metadata": {},
     "output_type": "execute_result"
    }
   ],
   "source": [
    "location_dict_test = df_test['Location'].value_counts(normalize=True).to_dict()\n",
    "location_dict_test"
   ]
  },
  {
   "cell_type": "code",
   "execution_count": 630,
   "id": "7eb2a177",
   "metadata": {},
   "outputs": [
    {
     "data": {
      "text/html": [
       "<div>\n",
       "<style scoped>\n",
       "    .dataframe tbody tr th:only-of-type {\n",
       "        vertical-align: middle;\n",
       "    }\n",
       "\n",
       "    .dataframe tbody tr th {\n",
       "        vertical-align: top;\n",
       "    }\n",
       "\n",
       "    .dataframe thead th {\n",
       "        text-align: right;\n",
       "    }\n",
       "</style>\n",
       "<table border=\"1\" class=\"dataframe\">\n",
       "  <thead>\n",
       "    <tr style=\"text-align: right;\">\n",
       "      <th></th>\n",
       "      <th>Name</th>\n",
       "      <th>Location</th>\n",
       "      <th>Year</th>\n",
       "      <th>Kilometers_Driven</th>\n",
       "      <th>Fuel_Type</th>\n",
       "      <th>Owner_Type</th>\n",
       "      <th>Mileage</th>\n",
       "      <th>Engine</th>\n",
       "      <th>Power</th>\n",
       "      <th>Seats</th>\n",
       "      <th>Transmission_Manual</th>\n",
       "    </tr>\n",
       "  </thead>\n",
       "  <tbody>\n",
       "    <tr>\n",
       "      <th>0</th>\n",
       "      <td>Ford Figo Diesel Titanium</td>\n",
       "      <td>0.065886</td>\n",
       "      <td>2010</td>\n",
       "      <td>48928</td>\n",
       "      <td>1</td>\n",
       "      <td>1</td>\n",
       "      <td>17.80</td>\n",
       "      <td>1248.0</td>\n",
       "      <td>258.0</td>\n",
       "      <td>7.0</td>\n",
       "      <td>0</td>\n",
       "    </tr>\n",
       "    <tr>\n",
       "      <th>1</th>\n",
       "      <td>Maruti SX4 VDI</td>\n",
       "      <td>0.080362</td>\n",
       "      <td>2011</td>\n",
       "      <td>47428</td>\n",
       "      <td>1</td>\n",
       "      <td>1</td>\n",
       "      <td>23.90</td>\n",
       "      <td>2498.0</td>\n",
       "      <td>183.0</td>\n",
       "      <td>5.0</td>\n",
       "      <td>0</td>\n",
       "    </tr>\n",
       "    <tr>\n",
       "      <th>2</th>\n",
       "      <td>Hyundai Creta 1.6 SX Option</td>\n",
       "      <td>0.058514</td>\n",
       "      <td>2014</td>\n",
       "      <td>28984</td>\n",
       "      <td>3</td>\n",
       "      <td>1</td>\n",
       "      <td>19.59</td>\n",
       "      <td>2494.0</td>\n",
       "      <td>203.0</td>\n",
       "      <td>5.0</td>\n",
       "      <td>0</td>\n",
       "    </tr>\n",
       "    <tr>\n",
       "      <th>3</th>\n",
       "      <td>Jeep Compass 2.0 Limited 4X4</td>\n",
       "      <td>0.049333</td>\n",
       "      <td>2017</td>\n",
       "      <td>46735</td>\n",
       "      <td>3</td>\n",
       "      <td>1</td>\n",
       "      <td>23.90</td>\n",
       "      <td>1498.0</td>\n",
       "      <td>215.0</td>\n",
       "      <td>5.0</td>\n",
       "      <td>1</td>\n",
       "    </tr>\n",
       "    <tr>\n",
       "      <th>4</th>\n",
       "      <td>Maruti Swift Dzire VDI</td>\n",
       "      <td>0.049333</td>\n",
       "      <td>2015</td>\n",
       "      <td>19975</td>\n",
       "      <td>3</td>\n",
       "      <td>1</td>\n",
       "      <td>26.60</td>\n",
       "      <td>2993.0</td>\n",
       "      <td>147.8</td>\n",
       "      <td>7.0</td>\n",
       "      <td>0</td>\n",
       "    </tr>\n",
       "  </tbody>\n",
       "</table>\n",
       "</div>"
      ],
      "text/plain": [
       "                           Name  Location  Year  Kilometers_Driven  Fuel_Type  \\\n",
       "0     Ford Figo Diesel Titanium  0.065886  2010              48928          1   \n",
       "1                Maruti SX4 VDI  0.080362  2011              47428          1   \n",
       "2   Hyundai Creta 1.6 SX Option  0.058514  2014              28984          3   \n",
       "3  Jeep Compass 2.0 Limited 4X4  0.049333  2017              46735          3   \n",
       "4        Maruti Swift Dzire VDI  0.049333  2015              19975          3   \n",
       "\n",
       "   Owner_Type  Mileage  Engine  Power  Seats  Transmission_Manual  \n",
       "0           1    17.80  1248.0  258.0    7.0                    0  \n",
       "1           1    23.90  2498.0  183.0    5.0                    0  \n",
       "2           1    19.59  2494.0  203.0    5.0                    0  \n",
       "3           1    23.90  1498.0  215.0    5.0                    1  \n",
       "4           1    26.60  2993.0  147.8    7.0                    0  "
      ]
     },
     "execution_count": 630,
     "metadata": {},
     "output_type": "execute_result"
    }
   ],
   "source": [
    "df_test['Location'] = df_test['Location'].map(location_dict_test)\n",
    "df_test.head()"
   ]
  },
  {
   "cell_type": "code",
   "execution_count": 631,
   "id": "8823f9b5",
   "metadata": {},
   "outputs": [
    {
     "data": {
      "text/plain": [
       "Maruti Wagon R LXI CNG               307\n",
       "Honda City 1.5 S MT                  299\n",
       "Maruti Swift VDI                     282\n",
       "Maruti Alto K10 VXI                  260\n",
       "Hyundai i10 Sportz                   260\n",
       "                                    ... \n",
       "Mahindra Scorpio S10 7 Seater          1\n",
       "Toyota Etios Liva Diesel               1\n",
       "Mahindra Bolero SLE BSIII              1\n",
       "Toyota Etios VXD                       1\n",
       "Maruti Ertiga VDI Limited Edition      1\n",
       "Name: Name, Length: 1431, dtype: int64"
      ]
     },
     "execution_count": 631,
     "metadata": {},
     "output_type": "execute_result"
    }
   ],
   "source": [
    "df_test['Name'].value_counts()"
   ]
  },
  {
   "cell_type": "markdown",
   "id": "50f418ae",
   "metadata": {},
   "source": [
    "Null value treatment for all the columns which have null values"
   ]
  },
  {
   "cell_type": "code",
   "execution_count": 632,
   "id": "af807ca6",
   "metadata": {},
   "outputs": [
    {
     "data": {
      "text/plain": [
       "Name                     0\n",
       "Location                 0\n",
       "Year                     0\n",
       "Kilometers_Driven        0\n",
       "Fuel_Type                0\n",
       "Owner_Type               0\n",
       "Mileage                 92\n",
       "Engine                  37\n",
       "Power                  797\n",
       "Seats                   92\n",
       "Price                    0\n",
       "Transmission_Manual      0\n",
       "dtype: int64"
      ]
     },
     "execution_count": 632,
     "metadata": {},
     "output_type": "execute_result"
    }
   ],
   "source": [
    "df.isnull().sum()"
   ]
  },
  {
   "cell_type": "code",
   "execution_count": 633,
   "id": "afe052eb",
   "metadata": {},
   "outputs": [
    {
     "data": {
      "text/plain": [
       "18.34356167440166"
      ]
     },
     "execution_count": 633,
     "metadata": {},
     "output_type": "execute_result"
    }
   ],
   "source": [
    "np.mean(df['Mileage'])"
   ]
  },
  {
   "cell_type": "code",
   "execution_count": 634,
   "id": "dd8f6c69",
   "metadata": {},
   "outputs": [],
   "source": [
    "df['Mileage'].fillna(np.mean(df['Mileage']),inplace=True)"
   ]
  },
  {
   "cell_type": "code",
   "execution_count": 635,
   "id": "6cfef9d2",
   "metadata": {},
   "outputs": [
    {
     "data": {
      "text/plain": [
       "1637.3349953256466"
      ]
     },
     "execution_count": 635,
     "metadata": {},
     "output_type": "execute_result"
    }
   ],
   "source": [
    "np.mean(df['Engine'])"
   ]
  },
  {
   "cell_type": "code",
   "execution_count": 636,
   "id": "9bfc4a4d",
   "metadata": {},
   "outputs": [],
   "source": [
    "df['Engine'].fillna(np.mean(df['Engine']),inplace=True)"
   ]
  },
  {
   "cell_type": "code",
   "execution_count": 637,
   "id": "e5842195",
   "metadata": {},
   "outputs": [],
   "source": [
    "df['Seats'].fillna(df.groupby(['Name'])['Seats'].mean(),inplace=True)"
   ]
  },
  {
   "cell_type": "code",
   "execution_count": 638,
   "id": "085cd770",
   "metadata": {},
   "outputs": [],
   "source": [
    "df['Power'].fillna(df.groupby(['Name'])['Power'].mean(),inplace=True)"
   ]
  },
  {
   "cell_type": "code",
   "execution_count": 639,
   "id": "cfa224e4",
   "metadata": {},
   "outputs": [
    {
     "data": {
      "text/plain": [
       "5"
      ]
     },
     "execution_count": 639,
     "metadata": {},
     "output_type": "execute_result"
    }
   ],
   "source": [
    "round(df['Seats'].mean())"
   ]
  },
  {
   "cell_type": "code",
   "execution_count": 640,
   "id": "300879ea",
   "metadata": {},
   "outputs": [],
   "source": [
    "df['Seats'].fillna(round(df['Seats'].mean()),inplace=True)"
   ]
  },
  {
   "cell_type": "code",
   "execution_count": 641,
   "id": "60a69e96",
   "metadata": {},
   "outputs": [
    {
     "data": {
      "text/plain": [
       "117.01789729530847"
      ]
     },
     "execution_count": 641,
     "metadata": {},
     "output_type": "execute_result"
    }
   ],
   "source": [
    "(df['Power'].mean())"
   ]
  },
  {
   "cell_type": "code",
   "execution_count": 642,
   "id": "197f59eb",
   "metadata": {},
   "outputs": [],
   "source": [
    "df['Power'].fillna(df['Power'].mean(),inplace=True)"
   ]
  },
  {
   "cell_type": "code",
   "execution_count": 643,
   "id": "8e15a220",
   "metadata": {},
   "outputs": [
    {
     "data": {
      "text/plain": [
       "Name                   0\n",
       "Location               0\n",
       "Year                   0\n",
       "Kilometers_Driven      0\n",
       "Fuel_Type              0\n",
       "Owner_Type             0\n",
       "Mileage                0\n",
       "Engine                 0\n",
       "Power                  0\n",
       "Seats                  0\n",
       "Price                  0\n",
       "Transmission_Manual    0\n",
       "dtype: int64"
      ]
     },
     "execution_count": 643,
     "metadata": {},
     "output_type": "execute_result"
    }
   ],
   "source": [
    "df.isnull().sum()"
   ]
  },
  {
   "cell_type": "code",
   "execution_count": 644,
   "id": "8edca8d1",
   "metadata": {},
   "outputs": [
    {
     "data": {
      "text/plain": [
       "Name                      0\n",
       "Location                  0\n",
       "Year                      0\n",
       "Kilometers_Driven         0\n",
       "Fuel_Type                 0\n",
       "Owner_Type                0\n",
       "Mileage                 249\n",
       "Engine                   69\n",
       "Power                  1836\n",
       "Seats                   246\n",
       "Transmission_Manual       0\n",
       "dtype: int64"
      ]
     },
     "execution_count": 644,
     "metadata": {},
     "output_type": "execute_result"
    }
   ],
   "source": [
    "df_test.isnull().sum()"
   ]
  },
  {
   "cell_type": "code",
   "execution_count": 645,
   "id": "a6c75322",
   "metadata": {},
   "outputs": [
    {
     "data": {
      "text/plain": [
       "18.272973340222563"
      ]
     },
     "execution_count": 645,
     "metadata": {},
     "output_type": "execute_result"
    }
   ],
   "source": [
    "np.mean(df_test['Mileage'])"
   ]
  },
  {
   "cell_type": "code",
   "execution_count": 646,
   "id": "efd7433e",
   "metadata": {},
   "outputs": [],
   "source": [
    "df_test['Mileage'].fillna(np.mean(df_test['Mileage']),inplace=True)"
   ]
  },
  {
   "cell_type": "code",
   "execution_count": 647,
   "id": "46021580",
   "metadata": {},
   "outputs": [
    {
     "data": {
      "text/plain": [
       "1643.5527264404645"
      ]
     },
     "execution_count": 647,
     "metadata": {},
     "output_type": "execute_result"
    }
   ],
   "source": [
    "np.mean(df_test['Engine'])"
   ]
  },
  {
   "cell_type": "code",
   "execution_count": 648,
   "id": "e632b325",
   "metadata": {},
   "outputs": [],
   "source": [
    "df_test['Engine'].fillna(np.mean(df_test['Engine']),inplace=True)"
   ]
  },
  {
   "cell_type": "code",
   "execution_count": 649,
   "id": "28d6372a",
   "metadata": {},
   "outputs": [
    {
     "data": {
      "text/plain": [
       "5"
      ]
     },
     "execution_count": 649,
     "metadata": {},
     "output_type": "execute_result"
    }
   ],
   "source": [
    "round(df_test['Seats'].mean())"
   ]
  },
  {
   "cell_type": "code",
   "execution_count": 650,
   "id": "5f9579b5",
   "metadata": {},
   "outputs": [],
   "source": [
    "df_test['Seats'].fillna(round(df_test['Seats'].mean()),inplace=True)"
   ]
  },
  {
   "cell_type": "code",
   "execution_count": 651,
   "id": "00f26139",
   "metadata": {},
   "outputs": [
    {
     "data": {
      "text/plain": [
       "116.60467797646835"
      ]
     },
     "execution_count": 651,
     "metadata": {},
     "output_type": "execute_result"
    }
   ],
   "source": [
    "(df_test['Power'].mean())"
   ]
  },
  {
   "cell_type": "code",
   "execution_count": 652,
   "id": "38363560",
   "metadata": {},
   "outputs": [],
   "source": [
    "df_test['Power'].fillna(df_test['Power'].mean(),inplace=True)"
   ]
  },
  {
   "cell_type": "code",
   "execution_count": 653,
   "id": "4e5bbdb1",
   "metadata": {},
   "outputs": [
    {
     "data": {
      "text/plain": [
       "Name                   0\n",
       "Location               0\n",
       "Year                   0\n",
       "Kilometers_Driven      0\n",
       "Fuel_Type              0\n",
       "Owner_Type             0\n",
       "Mileage                0\n",
       "Engine                 0\n",
       "Power                  0\n",
       "Seats                  0\n",
       "Transmission_Manual    0\n",
       "dtype: int64"
      ]
     },
     "execution_count": 653,
     "metadata": {},
     "output_type": "execute_result"
    }
   ],
   "source": [
    "df_test.isnull().sum()"
   ]
  },
  {
   "cell_type": "code",
   "execution_count": 654,
   "id": "6c863ae2",
   "metadata": {},
   "outputs": [
    {
     "data": {
      "text/plain": [
       "Name                    object\n",
       "Location               float64\n",
       "Year                     int64\n",
       "Kilometers_Driven        int64\n",
       "Fuel_Type                int64\n",
       "Owner_Type               int64\n",
       "Mileage                float64\n",
       "Engine                 float64\n",
       "Power                  float64\n",
       "Seats                  float64\n",
       "Transmission_Manual      uint8\n",
       "dtype: object"
      ]
     },
     "execution_count": 654,
     "metadata": {},
     "output_type": "execute_result"
    }
   ],
   "source": [
    "df_test.dtypes"
   ]
  },
  {
   "cell_type": "code",
   "execution_count": 655,
   "id": "eda77b58",
   "metadata": {},
   "outputs": [],
   "source": [
    "from sklearn.model_selection import train_test_split"
   ]
  },
  {
   "cell_type": "code",
   "execution_count": 656,
   "id": "5bfb356d",
   "metadata": {},
   "outputs": [
    {
     "name": "stdout",
     "output_type": "stream",
     "text": [
      "(18000, 11) (18000,) (4500, 11) (4500,)\n"
     ]
    }
   ],
   "source": [
    "y = df['Price']\n",
    "x = df.drop(columns=['Price'])\n",
    "train_x,test_x,train_y,test_y = train_test_split(x,y,train_size=0.8,random_state=2)\n",
    "print(train_x.shape,train_y.shape,test_x.shape,test_y.shape)"
   ]
  },
  {
   "cell_type": "code",
   "execution_count": 657,
   "id": "15a0004a",
   "metadata": {},
   "outputs": [],
   "source": [
    "#OLS Model"
   ]
  },
  {
   "cell_type": "code",
   "execution_count": 658,
   "id": "65d17d45",
   "metadata": {},
   "outputs": [],
   "source": [
    "import statsmodels.api as sm"
   ]
  },
  {
   "cell_type": "code",
   "execution_count": 659,
   "id": "591e34a9",
   "metadata": {},
   "outputs": [
    {
     "data": {
      "text/html": [
       "<table class=\"simpletable\">\n",
       "<caption>OLS Regression Results</caption>\n",
       "<tr>\n",
       "  <th>Dep. Variable:</th>          <td>Price</td>      <th>  R-squared:         </th> <td>   0.230</td> \n",
       "</tr>\n",
       "<tr>\n",
       "  <th>Model:</th>                   <td>OLS</td>       <th>  Adj. R-squared:    </th> <td>   0.229</td> \n",
       "</tr>\n",
       "<tr>\n",
       "  <th>Method:</th>             <td>Least Squares</td>  <th>  F-statistic:       </th> <td>   487.2</td> \n",
       "</tr>\n",
       "<tr>\n",
       "  <th>Date:</th>             <td>Fri, 14 Jul 2023</td> <th>  Prob (F-statistic):</th>  <td>  0.00</td>  \n",
       "</tr>\n",
       "<tr>\n",
       "  <th>Time:</th>                 <td>13:35:15</td>     <th>  Log-Likelihood:    </th> <td> -58932.</td> \n",
       "</tr>\n",
       "<tr>\n",
       "  <th>No. Observations:</th>      <td> 18000</td>      <th>  AIC:               </th> <td>1.179e+05</td>\n",
       "</tr>\n",
       "<tr>\n",
       "  <th>Df Residuals:</th>          <td> 17988</td>      <th>  BIC:               </th> <td>1.180e+05</td>\n",
       "</tr>\n",
       "<tr>\n",
       "  <th>Df Model:</th>              <td>    11</td>      <th>                     </th>     <td> </td>    \n",
       "</tr>\n",
       "<tr>\n",
       "  <th>Covariance Type:</th>      <td>nonrobust</td>    <th>                     </th>     <td> </td>    \n",
       "</tr>\n",
       "</table>\n",
       "<table class=\"simpletable\">\n",
       "<tr>\n",
       "           <td></td>              <th>coef</th>     <th>std err</th>      <th>t</th>      <th>P>|t|</th>  <th>[0.025</th>    <th>0.975]</th>  \n",
       "</tr>\n",
       "<tr>\n",
       "  <th>const</th>               <td> -158.4513</td> <td>   37.312</td> <td>   -4.247</td> <td> 0.000</td> <td> -231.587</td> <td>  -85.316</td>\n",
       "</tr>\n",
       "<tr>\n",
       "  <th>Name</th>                <td> 5708.0329</td> <td>  184.280</td> <td>   30.975</td> <td> 0.000</td> <td> 5346.826</td> <td> 6069.239</td>\n",
       "</tr>\n",
       "<tr>\n",
       "  <th>Location</th>            <td>   -6.6331</td> <td>    0.866</td> <td>   -7.658</td> <td> 0.000</td> <td>   -8.331</td> <td>   -4.935</td>\n",
       "</tr>\n",
       "<tr>\n",
       "  <th>Year</th>                <td>    0.0799</td> <td>    0.019</td> <td>    4.309</td> <td> 0.000</td> <td>    0.044</td> <td>    0.116</td>\n",
       "</tr>\n",
       "<tr>\n",
       "  <th>Kilometers_Driven</th>   <td>-1.247e-05</td> <td>  2.3e-06</td> <td>   -5.429</td> <td> 0.000</td> <td> -1.7e-05</td> <td>-7.97e-06</td>\n",
       "</tr>\n",
       "<tr>\n",
       "  <th>Fuel_Type</th>           <td>   -1.2332</td> <td>    0.054</td> <td>  -22.845</td> <td> 0.000</td> <td>   -1.339</td> <td>   -1.127</td>\n",
       "</tr>\n",
       "<tr>\n",
       "  <th>Owner_Type</th>          <td>   -0.6892</td> <td>    0.116</td> <td>   -5.940</td> <td> 0.000</td> <td>   -0.917</td> <td>   -0.462</td>\n",
       "</tr>\n",
       "<tr>\n",
       "  <th>Mileage</th>             <td>   -0.0362</td> <td>    0.010</td> <td>   -3.799</td> <td> 0.000</td> <td>   -0.055</td> <td>   -0.018</td>\n",
       "</tr>\n",
       "<tr>\n",
       "  <th>Engine</th>              <td>    0.0009</td> <td> 7.53e-05</td> <td>   12.169</td> <td> 0.000</td> <td>    0.001</td> <td>    0.001</td>\n",
       "</tr>\n",
       "<tr>\n",
       "  <th>Power</th>               <td>    0.0055</td> <td>    0.001</td> <td>    7.210</td> <td> 0.000</td> <td>    0.004</td> <td>    0.007</td>\n",
       "</tr>\n",
       "<tr>\n",
       "  <th>Seats</th>               <td>    1.0415</td> <td>    0.059</td> <td>   17.611</td> <td> 0.000</td> <td>    0.926</td> <td>    1.157</td>\n",
       "</tr>\n",
       "<tr>\n",
       "  <th>Transmission_Manual</th> <td>   -3.3057</td> <td>    0.127</td> <td>  -25.999</td> <td> 0.000</td> <td>   -3.555</td> <td>   -3.057</td>\n",
       "</tr>\n",
       "</table>\n",
       "<table class=\"simpletable\">\n",
       "<tr>\n",
       "  <th>Omnibus:</th>       <td>10870.491</td> <th>  Durbin-Watson:     </th>  <td>   2.023</td> \n",
       "</tr>\n",
       "<tr>\n",
       "  <th>Prob(Omnibus):</th>  <td> 0.000</td>   <th>  Jarque-Bera (JB):  </th> <td>132789.614</td>\n",
       "</tr>\n",
       "<tr>\n",
       "  <th>Skew:</th>           <td> 2.727</td>   <th>  Prob(JB):          </th>  <td>    0.00</td> \n",
       "</tr>\n",
       "<tr>\n",
       "  <th>Kurtosis:</th>       <td>15.137</td>   <th>  Cond. No.          </th>  <td>2.08e+08</td> \n",
       "</tr>\n",
       "</table><br/><br/>Notes:<br/>[1] Standard Errors assume that the covariance matrix of the errors is correctly specified.<br/>[2] The condition number is large, 2.08e+08. This might indicate that there are<br/>strong multicollinearity or other numerical problems."
      ],
      "text/plain": [
       "<class 'statsmodels.iolib.summary.Summary'>\n",
       "\"\"\"\n",
       "                            OLS Regression Results                            \n",
       "==============================================================================\n",
       "Dep. Variable:                  Price   R-squared:                       0.230\n",
       "Model:                            OLS   Adj. R-squared:                  0.229\n",
       "Method:                 Least Squares   F-statistic:                     487.2\n",
       "Date:                Fri, 14 Jul 2023   Prob (F-statistic):               0.00\n",
       "Time:                        13:35:15   Log-Likelihood:                -58932.\n",
       "No. Observations:               18000   AIC:                         1.179e+05\n",
       "Df Residuals:                   17988   BIC:                         1.180e+05\n",
       "Df Model:                          11                                         \n",
       "Covariance Type:            nonrobust                                         \n",
       "=======================================================================================\n",
       "                          coef    std err          t      P>|t|      [0.025      0.975]\n",
       "---------------------------------------------------------------------------------------\n",
       "const                -158.4513     37.312     -4.247      0.000    -231.587     -85.316\n",
       "Name                 5708.0329    184.280     30.975      0.000    5346.826    6069.239\n",
       "Location               -6.6331      0.866     -7.658      0.000      -8.331      -4.935\n",
       "Year                    0.0799      0.019      4.309      0.000       0.044       0.116\n",
       "Kilometers_Driven   -1.247e-05    2.3e-06     -5.429      0.000    -1.7e-05   -7.97e-06\n",
       "Fuel_Type              -1.2332      0.054    -22.845      0.000      -1.339      -1.127\n",
       "Owner_Type             -0.6892      0.116     -5.940      0.000      -0.917      -0.462\n",
       "Mileage                -0.0362      0.010     -3.799      0.000      -0.055      -0.018\n",
       "Engine                  0.0009   7.53e-05     12.169      0.000       0.001       0.001\n",
       "Power                   0.0055      0.001      7.210      0.000       0.004       0.007\n",
       "Seats                   1.0415      0.059     17.611      0.000       0.926       1.157\n",
       "Transmission_Manual    -3.3057      0.127    -25.999      0.000      -3.555      -3.057\n",
       "==============================================================================\n",
       "Omnibus:                    10870.491   Durbin-Watson:                   2.023\n",
       "Prob(Omnibus):                  0.000   Jarque-Bera (JB):           132789.614\n",
       "Skew:                           2.727   Prob(JB):                         0.00\n",
       "Kurtosis:                      15.137   Cond. No.                     2.08e+08\n",
       "==============================================================================\n",
       "\n",
       "Notes:\n",
       "[1] Standard Errors assume that the covariance matrix of the errors is correctly specified.\n",
       "[2] The condition number is large, 2.08e+08. This might indicate that there are\n",
       "strong multicollinearity or other numerical problems.\n",
       "\"\"\""
      ]
     },
     "execution_count": 659,
     "metadata": {},
     "output_type": "execute_result"
    }
   ],
   "source": [
    "train_x_c = sm.add_constant(train_x)\n",
    "test_x_c = sm.add_constant(test_x)\n",
    "base_model = sm.OLS(train_y,train_x_c).fit()\n",
    "base_model.summary()"
   ]
  },
  {
   "cell_type": "code",
   "execution_count": 660,
   "id": "120f3e1a",
   "metadata": {},
   "outputs": [],
   "source": [
    "from sklearn.metrics import r2_score , mean_squared_error\n",
    "from sklearn.linear_model import LinearRegression"
   ]
  },
  {
   "cell_type": "code",
   "execution_count": 661,
   "id": "33fc81da",
   "metadata": {},
   "outputs": [
    {
     "name": "stdout",
     "output_type": "stream",
     "text": [
      "RMSE Train : 6.392063087480955\n",
      "RMSE Test  : 6.56405596127134\n",
      "R Square Train : 0.2295291367425002\n",
      "R Square Test  : 0.20967175849525854\n"
     ]
    }
   ],
   "source": [
    "train_x,test_x,train_y,test_y = train_test_split(x,y,train_size=0.8,random_state=2)\n",
    "\n",
    "lr = LinearRegression()\n",
    "model = lr.fit(train_x,train_y)\n",
    "\n",
    "pred_train = model.predict(train_x)\n",
    "pred_test= model.predict(test_x)\n",
    "\n",
    "print(\"RMSE Train :\", np.sqrt(mean_squared_error(train_y,\n",
    "                                                 pred_train)))\n",
    "\n",
    "print(\"RMSE Test  :\", np.sqrt(mean_squared_error(test_y,\n",
    "                                                 pred_test)))\n",
    "\n",
    "print(\"R Square Train :\", (r2_score(train_y,\n",
    "                                                 pred_train)))\n",
    "\n",
    "print(\"R Square Test  :\", (r2_score(test_y,\n",
    "                                                 pred_test)))"
   ]
  },
  {
   "cell_type": "code",
   "execution_count": 662,
   "id": "4aa44754",
   "metadata": {},
   "outputs": [
    {
     "data": {
      "text/plain": [
       "0        25.53\n",
       "1         4.58\n",
       "2         2.37\n",
       "3         1.20\n",
       "4        33.04\n",
       "         ...  \n",
       "22495     2.23\n",
       "22496     2.36\n",
       "22497     2.58\n",
       "22498    16.46\n",
       "22499     4.92\n",
       "Name: Price, Length: 22500, dtype: float64"
      ]
     },
     "execution_count": 662,
     "metadata": {},
     "output_type": "execute_result"
    }
   ],
   "source": [
    "df['Price']"
   ]
  },
  {
   "cell_type": "markdown",
   "id": "97dca457",
   "metadata": {},
   "source": [
    "frequency_ = df_test['Name'].value_counts(normalize=True)\n",
    "df_test['Name'] = df_test['Name'].map(frequency_)"
   ]
  },
  {
   "cell_type": "code",
   "execution_count": 672,
   "id": "f45740e3",
   "metadata": {},
   "outputs": [],
   "source": [
    "test_x_c= sm.add_constant(df_test)"
   ]
  },
  {
   "cell_type": "code",
   "execution_count": 664,
   "id": "06cea1e0",
   "metadata": {},
   "outputs": [
    {
     "data": {
      "text/plain": [
       "Name                    object\n",
       "Location               float64\n",
       "Year                     int64\n",
       "Kilometers_Driven        int64\n",
       "Fuel_Type                int64\n",
       "Owner_Type               int64\n",
       "Mileage                float64\n",
       "Engine                 float64\n",
       "Power                  float64\n",
       "Seats                  float64\n",
       "Transmission_Manual      uint8\n",
       "dtype: object"
      ]
     },
     "execution_count": 664,
     "metadata": {},
     "output_type": "execute_result"
    }
   ],
   "source": [
    "df_test.dtypes"
   ]
  },
  {
   "cell_type": "code",
   "execution_count": 665,
   "id": "48e431ca",
   "metadata": {},
   "outputs": [
    {
     "data": {
      "text/html": [
       "<div>\n",
       "<style scoped>\n",
       "    .dataframe tbody tr th:only-of-type {\n",
       "        vertical-align: middle;\n",
       "    }\n",
       "\n",
       "    .dataframe tbody tr th {\n",
       "        vertical-align: top;\n",
       "    }\n",
       "\n",
       "    .dataframe thead th {\n",
       "        text-align: right;\n",
       "    }\n",
       "</style>\n",
       "<table border=\"1\" class=\"dataframe\">\n",
       "  <thead>\n",
       "    <tr style=\"text-align: right;\">\n",
       "      <th></th>\n",
       "      <th>Name</th>\n",
       "      <th>Location</th>\n",
       "      <th>Year</th>\n",
       "      <th>Kilometers_Driven</th>\n",
       "      <th>Fuel_Type</th>\n",
       "      <th>Owner_Type</th>\n",
       "      <th>Mileage</th>\n",
       "      <th>Engine</th>\n",
       "      <th>Power</th>\n",
       "      <th>Seats</th>\n",
       "      <th>Price</th>\n",
       "      <th>Transmission_Manual</th>\n",
       "    </tr>\n",
       "  </thead>\n",
       "  <tbody>\n",
       "    <tr>\n",
       "      <th>0</th>\n",
       "      <td>0.000729</td>\n",
       "      <td>0.057867</td>\n",
       "      <td>2012</td>\n",
       "      <td>33715</td>\n",
       "      <td>1</td>\n",
       "      <td>1</td>\n",
       "      <td>16.46</td>\n",
       "      <td>1248.0</td>\n",
       "      <td>100.0</td>\n",
       "      <td>5.0</td>\n",
       "      <td>25.53</td>\n",
       "      <td>1</td>\n",
       "    </tr>\n",
       "    <tr>\n",
       "      <th>1</th>\n",
       "      <td>0.000850</td>\n",
       "      <td>0.065556</td>\n",
       "      <td>2013</td>\n",
       "      <td>73977</td>\n",
       "      <td>1</td>\n",
       "      <td>1</td>\n",
       "      <td>18.60</td>\n",
       "      <td>2993.0</td>\n",
       "      <td>61.0</td>\n",
       "      <td>4.0</td>\n",
       "      <td>4.58</td>\n",
       "      <td>1</td>\n",
       "    </tr>\n",
       "  </tbody>\n",
       "</table>\n",
       "</div>"
      ],
      "text/plain": [
       "       Name  Location  Year  Kilometers_Driven  Fuel_Type  Owner_Type  \\\n",
       "0  0.000729  0.057867  2012              33715          1           1   \n",
       "1  0.000850  0.065556  2013              73977          1           1   \n",
       "\n",
       "   Mileage  Engine  Power  Seats  Price  Transmission_Manual  \n",
       "0    16.46  1248.0  100.0    5.0  25.53                    1  \n",
       "1    18.60  2993.0   61.0    4.0   4.58                    1  "
      ]
     },
     "execution_count": 665,
     "metadata": {},
     "output_type": "execute_result"
    }
   ],
   "source": [
    "df.head(2)"
   ]
  },
  {
   "cell_type": "code",
   "execution_count": 666,
   "id": "a8c3b6e9",
   "metadata": {},
   "outputs": [
    {
     "data": {
      "text/html": [
       "<div>\n",
       "<style scoped>\n",
       "    .dataframe tbody tr th:only-of-type {\n",
       "        vertical-align: middle;\n",
       "    }\n",
       "\n",
       "    .dataframe tbody tr th {\n",
       "        vertical-align: top;\n",
       "    }\n",
       "\n",
       "    .dataframe thead th {\n",
       "        text-align: right;\n",
       "    }\n",
       "</style>\n",
       "<table border=\"1\" class=\"dataframe\">\n",
       "  <thead>\n",
       "    <tr style=\"text-align: right;\">\n",
       "      <th></th>\n",
       "      <th>Name</th>\n",
       "      <th>Location</th>\n",
       "      <th>Year</th>\n",
       "      <th>Kilometers_Driven</th>\n",
       "      <th>Fuel_Type</th>\n",
       "      <th>Owner_Type</th>\n",
       "      <th>Mileage</th>\n",
       "      <th>Engine</th>\n",
       "      <th>Power</th>\n",
       "      <th>Seats</th>\n",
       "      <th>Transmission_Manual</th>\n",
       "    </tr>\n",
       "  </thead>\n",
       "  <tbody>\n",
       "    <tr>\n",
       "      <th>0</th>\n",
       "      <td>Ford Figo Diesel Titanium</td>\n",
       "      <td>0.065886</td>\n",
       "      <td>2010</td>\n",
       "      <td>48928</td>\n",
       "      <td>1</td>\n",
       "      <td>1</td>\n",
       "      <td>17.80</td>\n",
       "      <td>1248.0</td>\n",
       "      <td>258.0</td>\n",
       "      <td>7.0</td>\n",
       "      <td>0</td>\n",
       "    </tr>\n",
       "    <tr>\n",
       "      <th>1</th>\n",
       "      <td>Maruti SX4 VDI</td>\n",
       "      <td>0.080362</td>\n",
       "      <td>2011</td>\n",
       "      <td>47428</td>\n",
       "      <td>1</td>\n",
       "      <td>1</td>\n",
       "      <td>23.90</td>\n",
       "      <td>2498.0</td>\n",
       "      <td>183.0</td>\n",
       "      <td>5.0</td>\n",
       "      <td>0</td>\n",
       "    </tr>\n",
       "    <tr>\n",
       "      <th>2</th>\n",
       "      <td>Hyundai Creta 1.6 SX Option</td>\n",
       "      <td>0.058514</td>\n",
       "      <td>2014</td>\n",
       "      <td>28984</td>\n",
       "      <td>3</td>\n",
       "      <td>1</td>\n",
       "      <td>19.59</td>\n",
       "      <td>2494.0</td>\n",
       "      <td>203.0</td>\n",
       "      <td>5.0</td>\n",
       "      <td>0</td>\n",
       "    </tr>\n",
       "    <tr>\n",
       "      <th>3</th>\n",
       "      <td>Jeep Compass 2.0 Limited 4X4</td>\n",
       "      <td>0.049333</td>\n",
       "      <td>2017</td>\n",
       "      <td>46735</td>\n",
       "      <td>3</td>\n",
       "      <td>1</td>\n",
       "      <td>23.90</td>\n",
       "      <td>1498.0</td>\n",
       "      <td>215.0</td>\n",
       "      <td>5.0</td>\n",
       "      <td>1</td>\n",
       "    </tr>\n",
       "    <tr>\n",
       "      <th>4</th>\n",
       "      <td>Maruti Swift Dzire VDI</td>\n",
       "      <td>0.049333</td>\n",
       "      <td>2015</td>\n",
       "      <td>19975</td>\n",
       "      <td>3</td>\n",
       "      <td>1</td>\n",
       "      <td>26.60</td>\n",
       "      <td>2993.0</td>\n",
       "      <td>147.8</td>\n",
       "      <td>7.0</td>\n",
       "      <td>0</td>\n",
       "    </tr>\n",
       "  </tbody>\n",
       "</table>\n",
       "</div>"
      ],
      "text/plain": [
       "                           Name  Location  Year  Kilometers_Driven  Fuel_Type  \\\n",
       "0     Ford Figo Diesel Titanium  0.065886  2010              48928          1   \n",
       "1                Maruti SX4 VDI  0.080362  2011              47428          1   \n",
       "2   Hyundai Creta 1.6 SX Option  0.058514  2014              28984          3   \n",
       "3  Jeep Compass 2.0 Limited 4X4  0.049333  2017              46735          3   \n",
       "4        Maruti Swift Dzire VDI  0.049333  2015              19975          3   \n",
       "\n",
       "   Owner_Type  Mileage  Engine  Power  Seats  Transmission_Manual  \n",
       "0           1    17.80  1248.0  258.0    7.0                    0  \n",
       "1           1    23.90  2498.0  183.0    5.0                    0  \n",
       "2           1    19.59  2494.0  203.0    5.0                    0  \n",
       "3           1    23.90  1498.0  215.0    5.0                    1  \n",
       "4           1    26.60  2993.0  147.8    7.0                    0  "
      ]
     },
     "execution_count": 666,
     "metadata": {},
     "output_type": "execute_result"
    }
   ],
   "source": [
    "df_test.head()"
   ]
  },
  {
   "cell_type": "code",
   "execution_count": 670,
   "id": "6a9b377f",
   "metadata": {},
   "outputs": [],
   "source": [
    "df.drop('Name',axis=1,inplace=True)\n",
    "df_test.drop('Name',axis=1,inplace=True)"
   ]
  },
  {
   "cell_type": "code",
   "execution_count": 673,
   "id": "4b0c1333",
   "metadata": {},
   "outputs": [
    {
     "name": "stdout",
     "output_type": "stream",
     "text": [
      "<class 'pandas.core.frame.DataFrame'>\n",
      "RangeIndex: 52500 entries, 0 to 52499\n",
      "Data columns (total 11 columns):\n",
      " #   Column               Non-Null Count  Dtype  \n",
      "---  ------               --------------  -----  \n",
      " 0   const                52500 non-null  float64\n",
      " 1   Location             52500 non-null  float64\n",
      " 2   Year                 52500 non-null  int64  \n",
      " 3   Kilometers_Driven    52500 non-null  int64  \n",
      " 4   Fuel_Type            52500 non-null  int64  \n",
      " 5   Owner_Type           52500 non-null  int64  \n",
      " 6   Mileage              52500 non-null  float64\n",
      " 7   Engine               52500 non-null  float64\n",
      " 8   Power                52500 non-null  float64\n",
      " 9   Seats                52500 non-null  float64\n",
      " 10  Transmission_Manual  52500 non-null  uint8  \n",
      "dtypes: float64(6), int64(4), uint8(1)\n",
      "memory usage: 4.1 MB\n"
     ]
    }
   ],
   "source": [
    "test_x_c.info()"
   ]
  },
  {
   "cell_type": "code",
   "execution_count": 674,
   "id": "d240f56a",
   "metadata": {},
   "outputs": [
    {
     "name": "stderr",
     "output_type": "stream",
     "text": [
      "C:\\Users\\admin\\anaconda3\\lib\\site-packages\\sklearn\\base.py:493: FutureWarning: The feature names should match those that were passed during fit. Starting version 1.2, an error will be raised.\n",
      "Feature names unseen at fit time:\n",
      "- const\n",
      "Feature names seen at fit time, yet now missing:\n",
      "- Name\n",
      "\n",
      "  warnings.warn(message, FutureWarning)\n"
     ]
    }
   ],
   "source": [
    "y=model.predict(test_x_c)"
   ]
  },
  {
   "cell_type": "code",
   "execution_count": 675,
   "id": "58758ec4",
   "metadata": {},
   "outputs": [
    {
     "data": {
      "text/plain": [
       "array([5716.37710838, 5714.80801369, 5713.21876518, ..., 5711.32351386,\n",
       "       5710.76434464, 5710.48542626])"
      ]
     },
     "execution_count": 675,
     "metadata": {},
     "output_type": "execute_result"
    }
   ],
   "source": [
    "y"
   ]
  },
  {
   "cell_type": "code",
   "execution_count": 677,
   "id": "97f4a36b",
   "metadata": {},
   "outputs": [],
   "source": [
    "df_sample_solution = pd.read_csv('Sample_Submission.csv')\n",
    "df_sample_solution['Price']=y"
   ]
  },
  {
   "cell_type": "code",
   "execution_count": 679,
   "id": "20273f81",
   "metadata": {},
   "outputs": [],
   "source": [
    "df_sample_solution.to_csv('Solution_File.csv')"
   ]
  },
  {
   "cell_type": "code",
   "execution_count": 680,
   "id": "b878a40a",
   "metadata": {},
   "outputs": [],
   "source": [
    "from sklearn.metrics import r2_score,mean_squared_error,mean_absolute_percentage_error"
   ]
  },
  {
   "cell_type": "code",
   "execution_count": 681,
   "id": "b1446323",
   "metadata": {},
   "outputs": [],
   "source": [
    "def validation(test,pred):\n",
    "    r2 = r2_score(test,pred)\n",
    "    print('R-Square: ',r2)\n",
    "    n = test_x.shape[0]\n",
    "    k = test_x.shape[1]\n",
    "    adj_r2= 1-((1-r2)*(n-1)/(n-k-1))\n",
    "    print('Adjusted R2: ',adj_r2)\n",
    "    print('MSE: ',mean_squared_error(test,pred))\n",
    "    print('RMSE: ',mean_squared_error(test,pred)**0.5)\n",
    "    print('MAPE: ',mean_absolute_percentage_error(test,pred))"
   ]
  },
  {
   "cell_type": "code",
   "execution_count": 682,
   "id": "1937e45a",
   "metadata": {},
   "outputs": [],
   "source": [
    "def model(model,trainx,trainy,testx,testy):\n",
    "    print('%s'%model)\n",
    "    model.fit(trainx,trainy)\n",
    "    ypred = model.predict(testx)\n",
    "    validation(testy,ypred)\n",
    "    print()"
   ]
  },
  {
   "cell_type": "code",
   "execution_count": 683,
   "id": "b065b492",
   "metadata": {},
   "outputs": [],
   "source": [
    "from sklearn.linear_model import LinearRegression,Ridge,Lasso,ElasticNet,SGDRegressor"
   ]
  },
  {
   "cell_type": "code",
   "execution_count": 684,
   "id": "27956afc",
   "metadata": {},
   "outputs": [
    {
     "name": "stdout",
     "output_type": "stream",
     "text": [
      "LinearRegression()\n",
      "R-Square:  0.20967175849525854\n",
      "Adjusted R2:  0.20773467947196256\n",
      "MSE:  43.08683066270181\n",
      "RMSE:  6.56405596127134\n",
      "MAPE:  1.0096573934242326\n",
      "\n"
     ]
    }
   ],
   "source": [
    "model(LinearRegression(),train_x,train_y,test_x,test_y)"
   ]
  },
  {
   "cell_type": "code",
   "execution_count": 685,
   "id": "6dc5a11e",
   "metadata": {},
   "outputs": [
    {
     "name": "stdout",
     "output_type": "stream",
     "text": [
      "Ridge(alpha=1)\n",
      "R-Square:  0.1746610255691673\n",
      "Adjusted R2:  0.17263813592595445\n",
      "MSE:  44.995533201398224\n",
      "RMSE:  6.707870988726469\n",
      "MAPE:  1.0176420377119293\n",
      "\n"
     ]
    }
   ],
   "source": [
    "model(Ridge(alpha=1),train_x,train_y,test_x,test_y)"
   ]
  },
  {
   "cell_type": "code",
   "execution_count": null,
   "id": "f76fe026",
   "metadata": {},
   "outputs": [],
   "source": [
    "y=model.pr"
   ]
  },
  {
   "cell_type": "code",
   "execution_count": 686,
   "id": "d1bc326b",
   "metadata": {},
   "outputs": [
    {
     "data": {
      "text/plain": [
       "(6.677127217910843, 6.526450627417337)"
      ]
     },
     "execution_count": 686,
     "metadata": {},
     "output_type": "execute_result"
    }
   ],
   "source": [
    "ridge = Ridge(alpha=0.01,max_iter=500)\n",
    "\n",
    "ridge.fit(train_x,train_y)\n",
    "\n",
    "ytrain_pred = ridge.predict(train_x)\n",
    "rmse_train = mean_squared_error(train_y,ytrain_pred)**0.5\n",
    "\n",
    "ytest_pred = ridge.predict(test_x)\n",
    "rmse_test = mean_squared_error(test_y,ytest_pred)**0.5\n",
    "\n",
    "rmse_test , rmse_train"
   ]
  },
  {
   "cell_type": "code",
   "execution_count": 687,
   "id": "c89f0c77",
   "metadata": {},
   "outputs": [],
   "source": [
    "test_x_c= sm.add_constant(df_test)"
   ]
  },
  {
   "cell_type": "code",
   "execution_count": 688,
   "id": "d6bb3cb8",
   "metadata": {},
   "outputs": [
    {
     "name": "stdout",
     "output_type": "stream",
     "text": [
      "<class 'pandas.core.frame.DataFrame'>\n",
      "RangeIndex: 52500 entries, 0 to 52499\n",
      "Data columns (total 11 columns):\n",
      " #   Column               Non-Null Count  Dtype  \n",
      "---  ------               --------------  -----  \n",
      " 0   const                52500 non-null  float64\n",
      " 1   Location             52500 non-null  float64\n",
      " 2   Year                 52500 non-null  int64  \n",
      " 3   Kilometers_Driven    52500 non-null  int64  \n",
      " 4   Fuel_Type            52500 non-null  int64  \n",
      " 5   Owner_Type           52500 non-null  int64  \n",
      " 6   Mileage              52500 non-null  float64\n",
      " 7   Engine               52500 non-null  float64\n",
      " 8   Power                52500 non-null  float64\n",
      " 9   Seats                52500 non-null  float64\n",
      " 10  Transmission_Manual  52500 non-null  uint8  \n",
      "dtypes: float64(6), int64(4), uint8(1)\n",
      "memory usage: 4.1 MB\n"
     ]
    }
   ],
   "source": [
    "test_x_c.info()"
   ]
  },
  {
   "cell_type": "code",
   "execution_count": 690,
   "id": "7a0a38e8",
   "metadata": {},
   "outputs": [
    {
     "name": "stderr",
     "output_type": "stream",
     "text": [
      "C:\\Users\\admin\\anaconda3\\lib\\site-packages\\sklearn\\base.py:493: FutureWarning: The feature names should match those that were passed during fit. Starting version 1.2, an error will be raised.\n",
      "Feature names unseen at fit time:\n",
      "- const\n",
      "Feature names seen at fit time, yet now missing:\n",
      "- Name\n",
      "\n",
      "  warnings.warn(message, FutureWarning)\n"
     ]
    }
   ],
   "source": [
    "y=ridge.predict(test_x_c)"
   ]
  },
  {
   "cell_type": "code",
   "execution_count": 691,
   "id": "3477b87b",
   "metadata": {},
   "outputs": [],
   "source": [
    "df_sample_solution = pd.read_csv('Sample_Submission.csv')\n",
    "df_sample_solution['Price']=y"
   ]
  },
  {
   "cell_type": "code",
   "execution_count": 694,
   "id": "c8131331",
   "metadata": {},
   "outputs": [],
   "source": [
    "df_sample_solution.to_csv('Solution_File_1.csv')"
   ]
  },
  {
   "cell_type": "code",
   "execution_count": 695,
   "id": "9f10b142",
   "metadata": {},
   "outputs": [
    {
     "name": "stdout",
     "output_type": "stream",
     "text": [
      "Lasso(alpha=0.1)\n",
      "R-Square:  0.1725904523017765\n",
      "Adjusted R2:  0.17056248772408478\n",
      "MSE:  45.10841596967299\n",
      "RMSE:  6.716279920437577\n",
      "MAPE:  1.025728561156237\n",
      "\n"
     ]
    }
   ],
   "source": [
    "model(Lasso(alpha=0.1),train_x,train_y,test_x,test_y)"
   ]
  },
  {
   "cell_type": "code",
   "execution_count": 696,
   "id": "258dbbbb",
   "metadata": {},
   "outputs": [
    {
     "data": {
      "text/plain": [
       "(6.73328593750956, 6.602446482779143)"
      ]
     },
     "execution_count": 696,
     "metadata": {},
     "output_type": "execute_result"
    }
   ],
   "source": [
    "\n",
    "enet =ElasticNet(alpha=0.1 , l1_ratio=0.001,max_iter=500)\n",
    "\n",
    "enet.fit(train_x , train_y)\n",
    "\n",
    "\n",
    "ytrain_pred = enet.predict(train_x)\n",
    "rmse_train = mean_squared_error(train_y,ytrain_pred)**0.5\n",
    "\n",
    "ytest_pred = enet.predict(test_x)\n",
    "rmse_test = mean_squared_error(test_y,ytest_pred)**0.5\n",
    "\n",
    "rmse_test , rmse_train"
   ]
  },
  {
   "cell_type": "code",
   "execution_count": 699,
   "id": "54364b16",
   "metadata": {},
   "outputs": [
    {
     "name": "stderr",
     "output_type": "stream",
     "text": [
      "C:\\Users\\admin\\anaconda3\\lib\\site-packages\\sklearn\\base.py:493: FutureWarning: The feature names should match those that were passed during fit. Starting version 1.2, an error will be raised.\n",
      "Feature names unseen at fit time:\n",
      "- const\n",
      "Feature names seen at fit time, yet now missing:\n",
      "- Name\n",
      "\n",
      "  warnings.warn(message, FutureWarning)\n"
     ]
    }
   ],
   "source": [
    "test_x_c= sm.add_constant(df_test)\n",
    "y=enet.predict(test_x_c)"
   ]
  },
  {
   "cell_type": "code",
   "execution_count": 700,
   "id": "f0a0f0fc",
   "metadata": {},
   "outputs": [],
   "source": [
    "df_sample_solution = pd.read_csv('Sample_Submission.csv')\n",
    "df_sample_solution['Price']=y"
   ]
  },
  {
   "cell_type": "code",
   "execution_count": 703,
   "id": "e22dca44",
   "metadata": {},
   "outputs": [],
   "source": [
    "df_sample_solution.to_csv('Solution_File_2.csv')"
   ]
  },
  {
   "cell_type": "code",
   "execution_count": 704,
   "id": "048d454f",
   "metadata": {},
   "outputs": [],
   "source": [
    "from sklearn.ensemble import RandomForestRegressor "
   ]
  },
  {
   "cell_type": "code",
   "execution_count": 705,
   "id": "7c936f59",
   "metadata": {},
   "outputs": [
    {
     "name": "stdout",
     "output_type": "stream",
     "text": [
      "RMSE Train : 2.431195613820492\n",
      "RMSE Test  : 6.580037455017004\n"
     ]
    }
   ],
   "source": [
    "rf=RandomForestRegressor()    #regressor because target variable is float\n",
    "\n",
    "# build the model and find the r2score with RMSE\n",
    "\n",
    "rf = rf.fit(train_x,train_y)\n",
    "\n",
    "pred_train_rf = rf.predict(train_x)\n",
    "\n",
    "pred_test_rf=rf.predict(test_x)\n",
    "\n",
    "print(\"RMSE Train :\", np.sqrt(mean_squared_error(train_y,\n",
    "                                                 pred_train_rf)))\n",
    "\n",
    "print(\"RMSE Test  :\", np.sqrt(mean_squared_error(test_y,\n",
    "                                                 pred_test_rf)))"
   ]
  },
  {
   "cell_type": "code",
   "execution_count": 706,
   "id": "8049f03f",
   "metadata": {},
   "outputs": [
    {
     "name": "stderr",
     "output_type": "stream",
     "text": [
      "C:\\Users\\admin\\anaconda3\\lib\\site-packages\\sklearn\\base.py:493: FutureWarning: The feature names should match those that were passed during fit. Starting version 1.2, an error will be raised.\n",
      "Feature names unseen at fit time:\n",
      "- const\n",
      "Feature names seen at fit time, yet now missing:\n",
      "- Name\n",
      "\n",
      "  warnings.warn(message, FutureWarning)\n"
     ]
    }
   ],
   "source": [
    "test_x_c= sm.add_constant(df_test)\n",
    "y=rf.predict(test_x_c)"
   ]
  },
  {
   "cell_type": "code",
   "execution_count": 1,
   "id": "ba9cf958",
   "metadata": {},
   "outputs": [
    {
     "ename": "NameError",
     "evalue": "name 'pd' is not defined",
     "output_type": "error",
     "traceback": [
      "\u001b[1;31m---------------------------------------------------------------------------\u001b[0m",
      "\u001b[1;31mNameError\u001b[0m                                 Traceback (most recent call last)",
      "\u001b[1;32m~\\AppData\\Local\\Temp\\ipykernel_7104\\833770600.py\u001b[0m in \u001b[0;36m<module>\u001b[1;34m\u001b[0m\n\u001b[1;32m----> 1\u001b[1;33m \u001b[0mdf_sample_solution\u001b[0m \u001b[1;33m=\u001b[0m \u001b[0mpd\u001b[0m\u001b[1;33m.\u001b[0m\u001b[0mread_csv\u001b[0m\u001b[1;33m(\u001b[0m\u001b[1;34m'Sample_Submission.csv'\u001b[0m\u001b[1;33m)\u001b[0m\u001b[1;33m\u001b[0m\u001b[1;33m\u001b[0m\u001b[0m\n\u001b[0m\u001b[0;32m      2\u001b[0m \u001b[0mdf_sample_solution\u001b[0m\u001b[1;33m[\u001b[0m\u001b[1;34m'Price'\u001b[0m\u001b[1;33m]\u001b[0m\u001b[1;33m=\u001b[0m\u001b[0my\u001b[0m\u001b[1;33m\u001b[0m\u001b[1;33m\u001b[0m\u001b[0m\n",
      "\u001b[1;31mNameError\u001b[0m: name 'pd' is not defined"
     ]
    }
   ],
   "source": [
    "df_sample_solution = pd.read_csv('Sample_Submission.csv')\n",
    "df_sample_solution['Price']=y"
   ]
  },
  {
   "cell_type": "code",
   "execution_count": 708,
   "id": "c2b7cfea",
   "metadata": {},
   "outputs": [],
   "source": [
    "df_sample_solution.to_csv('Solution_File_3.csv')"
   ]
  },
  {
   "cell_type": "code",
   "execution_count": null,
   "id": "380035c2",
   "metadata": {},
   "outputs": [],
   "source": []
  }
 ],
 "metadata": {
  "kernelspec": {
   "display_name": "Python 3 (ipykernel)",
   "language": "python",
   "name": "python3"
  },
  "language_info": {
   "codemirror_mode": {
    "name": "ipython",
    "version": 3
   },
   "file_extension": ".py",
   "mimetype": "text/x-python",
   "name": "python",
   "nbconvert_exporter": "python",
   "pygments_lexer": "ipython3",
   "version": "3.9.13"
  }
 },
 "nbformat": 4,
 "nbformat_minor": 5
}
